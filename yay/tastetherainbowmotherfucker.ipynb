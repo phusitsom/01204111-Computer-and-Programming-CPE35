{
 "cells": [
  {
   "cell_type": "code",
   "execution_count": 3,
   "source": [
    "from pprint import pp"
   ],
   "outputs": [],
   "metadata": {}
  },
  {
   "cell_type": "markdown",
   "source": [
    "# 1. Counter w/ dict and loops"
   ],
   "metadata": {}
  },
  {
   "cell_type": "code",
   "execution_count": 177,
   "source": [
    "dick =  {}\n",
    "kuay = \"golfauukhangauumuangikkyupgolfnathtuangduenwinkarnfueang\""
   ],
   "outputs": [],
   "metadata": {}
  },
  {
   "cell_type": "markdown",
   "source": [
    "## 1.1 นับจำนวนตัวอักษรที่มีอยู่ใน **kuay** และเก็บจำนวนของแต่ละตัวอักษรเข้า Dictionary ที่ชื่อว่า **dick**\n",
    "Hint: for loop \n",
    "\n",
    "## ถ้าใช้ collections.Counter() ผมจะฆ่าคุณ"
   ],
   "metadata": {}
  },
  {
   "cell_type": "code",
   "execution_count": null,
   "source": [
    "#Your code here"
   ],
   "outputs": [],
   "metadata": {}
  },
  {
   "cell_type": "code",
   "execution_count": 178,
   "source": [
    "pp(dick)"
   ],
   "outputs": [
    {
     "output_type": "stream",
     "name": "stdout",
     "text": [
      "{'g': 6,\n",
      " 'o': 2,\n",
      " 'l': 2,\n",
      " 'f': 3,\n",
      " 'a': 8,\n",
      " 'u': 9,\n",
      " 'k': 4,\n",
      " 'h': 2,\n",
      " 'n': 8,\n",
      " 'm': 1,\n",
      " 'i': 2,\n",
      " 'y': 1,\n",
      " 'p': 1,\n",
      " 't': 2,\n",
      " 'd': 1,\n",
      " 'e': 2,\n",
      " 'w': 1,\n",
      " 'r': 1}\n"
     ]
    }
   ],
   "metadata": {}
  },
  {
   "cell_type": "markdown",
   "source": [
    "# 2 ลองใช้ dict.items()"
   ],
   "metadata": {}
  },
  {
   "cell_type": "code",
   "execution_count": 4,
   "source": [
    "data1 = [{'Years Experience': 10,\n",
    "  'Employed?': 'Y',\n",
    "  'Previous employers': 4,\n",
    "  'Level of Education': 'BS',\n",
    "  'Top-tier school': 'N',\n",
    "  'Interned': 'N',\n",
    "  'Hired': 'Y'},\n",
    " {'Years Experience': 0,\n",
    "  'Employed?': 'N',\n",
    "  'Previous employers': 0,\n",
    "  'Level of Education': 'BS',\n",
    "  'Top-tier school': 'Y',\n",
    "  'Interned': 'Y',\n",
    "  'Hired': 'Y'},\n",
    " {'Years Experience': 7,\n",
    "  'Employed?': 'N',\n",
    "  'Previous employers': 6,\n",
    "  'Level of Education': 'BS',\n",
    "  'Top-tier school': 'N',\n",
    "  'Interned': 'N',\n",
    "  'Hired': 'N'},\n",
    " {'Years Experience': 2,\n",
    "  'Employed?': 'Y',\n",
    "  'Previous employers': 1,\n",
    "  'Level of Education': 'MS',\n",
    "  'Top-tier school': 'Y',\n",
    "  'Interned': 'N',\n",
    "  'Hired': 'Y'},\n",
    " {'Years Experience': 20,\n",
    "  'Employed?': 'N',\n",
    "  'Previous employers': 2,\n",
    "  'Level of Education': 'PhD',\n",
    "  'Top-tier school': 'Y',\n",
    "  'Interned': 'N',\n",
    "  'Hired': 'N'}]"
   ],
   "outputs": [],
   "metadata": {}
  },
  {
   "cell_type": "code",
   "execution_count": 5,
   "source": [
    "print(type(data1))\n",
    "pp(data1)"
   ],
   "outputs": [
    {
     "output_type": "stream",
     "name": "stdout",
     "text": [
      "<class 'list'>\n",
      "[{'Years Experience': 10,\n",
      "  'Employed?': 'Y',\n",
      "  'Previous employers': 4,\n",
      "  'Level of Education': 'BS',\n",
      "  'Top-tier school': 'N',\n",
      "  'Interned': 'N',\n",
      "  'Hired': 'Y'},\n",
      " {'Years Experience': 0,\n",
      "  'Employed?': 'N',\n",
      "  'Previous employers': 0,\n",
      "  'Level of Education': 'BS',\n",
      "  'Top-tier school': 'Y',\n",
      "  'Interned': 'Y',\n",
      "  'Hired': 'Y'},\n",
      " {'Years Experience': 7,\n",
      "  'Employed?': 'N',\n",
      "  'Previous employers': 6,\n",
      "  'Level of Education': 'BS',\n",
      "  'Top-tier school': 'N',\n",
      "  'Interned': 'N',\n",
      "  'Hired': 'N'},\n",
      " {'Years Experience': 2,\n",
      "  'Employed?': 'Y',\n",
      "  'Previous employers': 1,\n",
      "  'Level of Education': 'MS',\n",
      "  'Top-tier school': 'Y',\n",
      "  'Interned': 'N',\n",
      "  'Hired': 'Y'},\n",
      " {'Years Experience': 20,\n",
      "  'Employed?': 'N',\n",
      "  'Previous employers': 2,\n",
      "  'Level of Education': 'PhD',\n",
      "  'Top-tier school': 'Y',\n",
      "  'Interned': 'N',\n",
      "  'Hired': 'N'}]\n"
     ]
    }
   ],
   "metadata": {}
  },
  {
   "cell_type": "markdown",
   "source": [
    "## 2.1 สร้าง Function ชื่อว่า printRow (จะเปลี่ยนชื่อก็เชิญ) ให้ print ได้ออกมาตามข้างล่าง \n",
    "## **data1 เป็น list ของ dict**\n",
    "\n",
    "Hint: for loop w/ dict.items()<br/>\n",
    "\n",
    "--Row {i}--<br/>\n",
    "###########<br/>\n",
    "###########<br/>\n",
    "###########<br/>\n",
    "###DATA####<br/>\n",
    "###########<br/>\n",
    "###########<br/>\n",
    "###########<br/>\n",
    "--End of Row {i}--<br/>\n",
    "<br/>"
   ],
   "metadata": {}
  },
  {
   "cell_type": "code",
   "execution_count": 195,
   "source": [
    "def printRow(data):\n",
    "    #Your code here\n",
    "    \n",
    "    return None"
   ],
   "outputs": [],
   "metadata": {}
  },
  {
   "cell_type": "code",
   "execution_count": 196,
   "source": [
    "printRow(data1)"
   ],
   "outputs": [
    {
     "output_type": "stream",
     "name": "stdout",
     "text": [
      "--Row 0--\n",
      "Years Experience 10\n",
      "Employed? Y\n",
      "Previous employers 4\n",
      "Level of Education BS\n",
      "Top-tier school N\n",
      "Interned N\n",
      "Hired Y\n",
      "--End of Row 0--\n",
      "\n",
      "--Row 1--\n",
      "Years Experience 0\n",
      "Employed? N\n",
      "Previous employers 0\n",
      "Level of Education BS\n",
      "Top-tier school Y\n",
      "Interned Y\n",
      "Hired Y\n",
      "--End of Row 1--\n",
      "\n",
      "--Row 2--\n",
      "Years Experience 7\n",
      "Employed? N\n",
      "Previous employers 6\n",
      "Level of Education BS\n",
      "Top-tier school N\n",
      "Interned N\n",
      "Hired N\n",
      "--End of Row 2--\n",
      "\n",
      "--Row 3--\n",
      "Years Experience 2\n",
      "Employed? Y\n",
      "Previous employers 1\n",
      "Level of Education MS\n",
      "Top-tier school Y\n",
      "Interned N\n",
      "Hired Y\n",
      "--End of Row 3--\n",
      "\n",
      "--Row 4--\n",
      "Years Experience 20\n",
      "Employed? N\n",
      "Previous employers 2\n",
      "Level of Education PhD\n",
      "Top-tier school Y\n",
      "Interned N\n",
      "Hired N\n",
      "--End of Row 4--\n",
      "\n"
     ]
    }
   ],
   "metadata": {}
  },
  {
   "cell_type": "markdown",
   "source": [
    "# 3 setdefault(), update(), pop()"
   ],
   "metadata": {}
  },
  {
   "cell_type": "code",
   "execution_count": 6,
   "source": [
    "cpe35 = [{\n",
    "    \"name\":\"golf\",\n",
    "    \"class\":\"slave\",\n",
    "    \"characteristics\":[\"horny\"],\n",
    "    \"age\":-69,\n",
    "    \"genderratio\":{\n",
    "        \"male\":0.8,\n",
    "        \"female\":0.08,\n",
    "        \"LGBTQ++\":0.12\n",
    "    }\n",
    "},\n",
    "         {\n",
    "    \"name\":\"aauauu\",\n",
    "    \"class\":\"king\",\n",
    "    \"characteristics\":[\"sleepy\"],\n",
    "    \"age\":99999,\n",
    "    \"genderratio\":{\n",
    "        \"LGBTQ++\":1\n",
    "    },\n",
    "    \"disease\":['ptsd','anxiety','ebola','stress']\n",
    "},\n",
    "         {\n",
    "    \"name\":\"ixq naa hee\",\n",
    "    \"class\":\"heero\",\n",
    "    \"characteristics\":['sleepy','horny','workhard'],\n",
    "    \"age\":0,\n",
    "    \"genderratio\":{\n",
    "        \"LGBTQ++\":1\n",
    "    },\n",
    "    \"disease\":[\"Chlamydia\",\"Genital herpes\",\"Gonorrhea\",\"HIV/AIDS\",\"HPV\",\"Pubic lice\",\"Syphilis\",\"Trichomoniasis\",'stress']\n",
    "\n",
    "         }]"
   ],
   "outputs": [],
   "metadata": {}
  },
  {
   "cell_type": "markdown",
   "source": [
    "## 3.1 Function printDisease ให้ปริ้นแบยด้านล่างออกมา\n",
    "\n",
    "หากมี Disease ให้ print {ชื่อ} have {list ของ disease}<br/>\n",
    "หากไม่มี Disease(ไม่มี key ชื่อว่า disease) ให้ print {ชื่อ} doesn't have any disease\n",
    "### ถ้าสังเกตดีดี golf จะไม่มี disease\n",
    "Hint: ตัวแปร cpe35 เป็น list ที่เก็บ dict ของแต่ละคนไว้ และลองศึกษา dict.get()"
   ],
   "metadata": {}
  },
  {
   "cell_type": "code",
   "execution_count": null,
   "source": [
    "def printDisease(data):\n",
    "    # Your code here\n",
    "    \n",
    "    return None"
   ],
   "outputs": [],
   "metadata": {}
  },
  {
   "cell_type": "code",
   "execution_count": 205,
   "source": [
    "printDisease(cpe35)"
   ],
   "outputs": [
    {
     "output_type": "stream",
     "name": "stdout",
     "text": [
      "golf doesn't have any disease\n",
      "aauauu have ['ptsd', 'anxiety', 'ebola', 'stress']\n",
      "ixq naa hee have ['Chlamydia', 'Genital herpes', 'Gonorrhea', 'HIV/AIDS', 'HPV', 'Pubic lice', 'Syphilis', 'Trichomoniasis', 'stress']\n"
     ]
    }
   ],
   "metadata": {}
  },
  {
   "cell_type": "markdown",
   "source": [
    "## 3.2 เพิ่ม ['stress'] ให้กับคนที่ยังไม่มี Disease อย่างเช่นคุณ golf\n",
    "\n",
    "Hint: ลองศึกษา dict.setdefault() หรือ หากต้องการใช้ if else ให้ลองศึกษา dict.get()"
   ],
   "metadata": {}
  },
  {
   "cell_type": "code",
   "execution_count": 206,
   "source": [
    "#your code here"
   ],
   "outputs": [],
   "metadata": {}
  },
  {
   "cell_type": "code",
   "execution_count": 207,
   "source": [
    "printDisease(cpe35)"
   ],
   "outputs": [
    {
     "output_type": "stream",
     "name": "stdout",
     "text": [
      "golf have ['stress']\n",
      "aauauu have ['ptsd', 'anxiety', 'ebola', 'stress']\n",
      "ixq naa hee have ['Chlamydia', 'Genital herpes', 'Gonorrhea', 'HIV/AIDS', 'HPV', 'Pubic lice', 'Syphilis', 'Trichomoniasis', 'stress']\n"
     ]
    }
   ],
   "metadata": {}
  },
  {
   "cell_type": "code",
   "execution_count": 8,
   "source": [
    "golfdata = {\n",
    "    \"name\":\"golf\",\n",
    "    \"class\":\"slave\",\n",
    "    \"characteristics\":\"horny\",\n",
    "    \"age\":\"-69\",\n",
    "    \"genderratio\":{\n",
    "        \"male\":0.8,\n",
    "        \"female\":0.08,\n",
    "        \"LGBTQ++\":0.12\n",
    "    }\n",
    "}"
   ],
   "outputs": [],
   "metadata": {}
  },
  {
   "cell_type": "markdown",
   "source": [
    "## 3.3 แก้ไข genderratio ของคุณ golf ใน  golfdata ให้เหลือแค่ \"male\":1 \n",
    "จะใช้ dict[key] = {...} ก็ได้ แต่ผมอยากให้ใช้ pop กับ update อ่ะ"
   ],
   "metadata": {}
  },
  {
   "cell_type": "code",
   "execution_count": 9,
   "source": [
    "#your code here\n",
    "golfdata['genderratio'].pop('female')"
   ],
   "outputs": [
    {
     "output_type": "execute_result",
     "data": {
      "text/plain": [
       "0.08"
      ]
     },
     "metadata": {},
     "execution_count": 9
    }
   ],
   "metadata": {}
  },
  {
   "cell_type": "code",
   "execution_count": 144,
   "source": [
    "pp(golfdata)"
   ],
   "outputs": [
    {
     "output_type": "execute_result",
     "data": {
      "text/plain": [
       "{'name': 'golf',\n",
       " 'class': 'slave',\n",
       " 'characteristics': 'horny',\n",
       " 'age': '-69',\n",
       " 'genderratio': {'male': 1}}"
      ]
     },
     "metadata": {},
     "execution_count": 144
    }
   ],
   "metadata": {}
  },
  {
   "cell_type": "markdown",
   "source": [
    "# 4 values()"
   ],
   "metadata": {}
  },
  {
   "cell_type": "code",
   "execution_count": 212,
   "source": [
    "data2 = {\n",
    " 'announce_date': {0: '12/1/2020',1: '17/1/2020',2: '22/1/2020',3: '22/1/2020',4: '24/1/2020',5: '25/1/2020',6: '26/1/2020',7: '26/1/2020',8: '28/1/2020',9: '28/1/2020'},\n",
    " 'sex': {0: 'หญิง',1: 'หญิง',2: 'หญิง',3: 'ชาย',4: 'หญิง',5: 'หญิง',6: 'หญิง',7: 'หญิง',8: 'ชาย',9: 'หญิง'},\n",
    " 'age': {0: 61.0,1: 74.0,2: 73.0,3: 68.0,4: 66.0,5: 33.0,6: 57.0,7: 73.0,8: 63.0,9: 28.0},\n",
    " 'nationality': {0: 'China',1: 'China',2: 'Thailand',3: 'China',4: 'China',5: 'China',6: 'China',7: 'China',8: 'China',9: 'China'},\n",
    " 'province_of_isolation': {0: 'กรุงเทพมหานคร',1: 'กรุงเทพมหานคร',2: 'นครปฐม',3: 'กรุงเทพมหานคร',4: 'นนทบุรี',5: 'กรุงเทพมหานคร',6: 'กรุงเทพมหานคร',7: 'ประจวบคีรีขันธ์',8: 'กรุงเทพมหานคร',9: 'นนทบุรี'}}\n"
   ],
   "outputs": [],
   "metadata": {}
  },
  {
   "cell_type": "code",
   "execution_count": 214,
   "source": [
    "# ลองเรียก dict.values() มาเล่นดู\n",
    "\n",
    "data2['sex'].values()"
   ],
   "outputs": [
    {
     "output_type": "execute_result",
     "data": {
      "text/plain": [
       "dict_values(['หญิง', 'หญิง', 'หญิง', 'ชาย', 'หญิง', 'หญิง', 'หญิง', 'หญิง', 'ชาย', 'หญิง'])"
      ]
     },
     "metadata": {},
     "execution_count": 214
    }
   ],
   "metadata": {}
  },
  {
   "cell_type": "markdown",
   "source": [
    "## 4.1 ให้หาว่าคนไทยคนแรกที่อยู่ในชุดข้อมูล data2 อยู่จังหวัดอะไร\n",
    "\n",
    "Hint: </br>\n",
    "สัญชาติ = data2['nationality']</br>\n",
    "จังหวัด = data2['province_of_isolation']"
   ],
   "metadata": {}
  },
  {
   "cell_type": "code",
   "execution_count": null,
   "source": [
    "def firstThaiProvince(data)\n",
    "    #Your code here\n",
    "    \n",
    "    return province\n"
   ],
   "outputs": [],
   "metadata": {}
  },
  {
   "cell_type": "code",
   "execution_count": 150,
   "source": [
    "print(firstThaiProvince(data2))"
   ],
   "outputs": [
    {
     "output_type": "execute_result",
     "data": {
      "text/plain": [
       "'นครปฐม'"
      ]
     },
     "metadata": {},
     "execution_count": 150
    }
   ],
   "metadata": {}
  },
  {
   "cell_type": "markdown",
   "source": [
    "## 4.2 หาค่าเฉลี่ยนของอายุทุกคนใน data2 \n",
    "age -> data[age]"
   ],
   "metadata": {}
  },
  {
   "cell_type": "code",
   "execution_count": null,
   "source": [
    "def avAge(data):\n",
    "    #Your code\n",
    "    \n",
    "    return avg"
   ],
   "outputs": [],
   "metadata": {}
  },
  {
   "cell_type": "code",
   "execution_count": 151,
   "source": [
    "print(avAge(data2))"
   ],
   "outputs": [
    {
     "output_type": "execute_result",
     "data": {
      "text/plain": [
       "59.6"
      ]
     },
     "metadata": {},
     "execution_count": 151
    }
   ],
   "metadata": {}
  },
  {
   "cell_type": "code",
   "execution_count": 156,
   "source": [
    "new_data2 = {\n",
    " 'announce_date': {10: '28/1/2020'},\n",
    " 'sex': {10: 'ชาย'},\n",
    " 'age': {10: 36.0},\n",
    " 'nationality': {10: 'Thailand'},\n",
    " 'province_of_isolation': {10: 'กรุงเทพมหานคร'}}"
   ],
   "outputs": [],
   "metadata": {}
  },
  {
   "cell_type": "markdown",
   "source": [
    "## 4.3 นำ new_data2 มาเติมใน data2"
   ],
   "metadata": {}
  },
  {
   "cell_type": "code",
   "execution_count": null,
   "source": [
    "# Your code here"
   ],
   "outputs": [],
   "metadata": {}
  },
  {
   "cell_type": "code",
   "execution_count": 159,
   "source": [
    "for column in data2:\n",
    "    print(data2[column][10])"
   ],
   "outputs": [
    {
     "output_type": "stream",
     "name": "stdout",
     "text": [
      "28/1/2020\n",
      "ชาย\n",
      "36.0\n",
      "Thailand\n",
      "กรุงเทพมหานคร\n"
     ]
    }
   ],
   "metadata": {}
  },
  {
   "cell_type": "markdown",
   "source": [
    "## 4.4 เปลี่ยนค่า ที่มี key = 8 ให้มี value ตามนี้\n",
    "\n",
    "### sex = หญิง</br>\n",
    "### nationality = Thailand"
   ],
   "metadata": {}
  },
  {
   "cell_type": "code",
   "execution_count": 215,
   "source": [
    "for column in data2:\n",
    "    print(data2[column][8])"
   ],
   "outputs": [
    {
     "output_type": "stream",
     "name": "stdout",
     "text": [
      "28/1/2020\n",
      "ชาย\n",
      "63.0\n",
      "China\n",
      "กรุงเทพมหานคร\n"
     ]
    }
   ],
   "metadata": {}
  },
  {
   "cell_type": "code",
   "execution_count": null,
   "source": [
    "# your code here"
   ],
   "outputs": [],
   "metadata": {}
  },
  {
   "cell_type": "code",
   "execution_count": 164,
   "source": [
    "for column in data2:\n",
    "    print(data2[column][8])"
   ],
   "outputs": [
    {
     "output_type": "stream",
     "name": "stdout",
     "text": [
      "28/1/2020\n",
      "หญิง\n",
      "63.0\n",
      "Thailand\n",
      "กรุงเทพมหานคร\n"
     ]
    }
   ],
   "metadata": {}
  }
 ],
 "metadata": {
  "orig_nbformat": 4,
  "language_info": {
   "name": "python",
   "version": "3.9.5",
   "mimetype": "text/x-python",
   "codemirror_mode": {
    "name": "ipython",
    "version": 3
   },
   "pygments_lexer": "ipython3",
   "nbconvert_exporter": "python",
   "file_extension": ".py"
  },
  "kernelspec": {
   "name": "python3",
   "display_name": "Python 3.9.5 64-bit ('data': conda)"
  },
  "interpreter": {
   "hash": "9a9332a7c1baecb972e02e5514132c62b1b3c74ba43183a8f3615d55a37c5bb1"
  }
 },
 "nbformat": 4,
 "nbformat_minor": 2
}