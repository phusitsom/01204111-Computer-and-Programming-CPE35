{
 "cells": [
  {
   "cell_type": "code",
   "execution_count": 45,
   "source": [
    "y, x = map(int, input(\"City Size: \").split())\r\n",
    "city = [list(map(int, input().split())) for _ in range(y)]"
   ],
   "outputs": [
    {
     "output_type": "error",
     "ename": "ValueError",
     "evalue": "not enough values to unpack (expected 2, got 0)",
     "traceback": [
      "\u001b[1;31m---------------------------------------------------------------------------\u001b[0m",
      "\u001b[1;31mValueError\u001b[0m                                Traceback (most recent call last)",
      "\u001b[1;32m<ipython-input-45-86c6c980f5dd>\u001b[0m in \u001b[0;36m<module>\u001b[1;34m\u001b[0m\n\u001b[1;32m----> 1\u001b[1;33m \u001b[0my\u001b[0m\u001b[1;33m,\u001b[0m \u001b[0mx\u001b[0m \u001b[1;33m=\u001b[0m \u001b[0mmap\u001b[0m\u001b[1;33m(\u001b[0m\u001b[0mint\u001b[0m\u001b[1;33m,\u001b[0m \u001b[0minput\u001b[0m\u001b[1;33m(\u001b[0m\u001b[1;34m\"City Size: \"\u001b[0m\u001b[1;33m)\u001b[0m\u001b[1;33m.\u001b[0m\u001b[0msplit\u001b[0m\u001b[1;33m(\u001b[0m\u001b[1;33m)\u001b[0m\u001b[1;33m)\u001b[0m\u001b[1;33m\u001b[0m\u001b[1;33m\u001b[0m\u001b[0m\n\u001b[0m\u001b[0;32m      2\u001b[0m \u001b[0mcity\u001b[0m \u001b[1;33m=\u001b[0m \u001b[1;33m[\u001b[0m\u001b[0mlist\u001b[0m\u001b[1;33m(\u001b[0m\u001b[0mmap\u001b[0m\u001b[1;33m(\u001b[0m\u001b[0mint\u001b[0m\u001b[1;33m,\u001b[0m \u001b[0minput\u001b[0m\u001b[1;33m(\u001b[0m\u001b[1;33m)\u001b[0m\u001b[1;33m.\u001b[0m\u001b[0msplit\u001b[0m\u001b[1;33m(\u001b[0m\u001b[1;33m)\u001b[0m\u001b[1;33m)\u001b[0m\u001b[1;33m)\u001b[0m \u001b[1;32mfor\u001b[0m \u001b[0m_\u001b[0m \u001b[1;32min\u001b[0m \u001b[0mrange\u001b[0m\u001b[1;33m(\u001b[0m\u001b[0my\u001b[0m\u001b[1;33m)\u001b[0m\u001b[1;33m]\u001b[0m\u001b[1;33m\u001b[0m\u001b[1;33m\u001b[0m\u001b[0m\n",
      "\u001b[1;31mValueError\u001b[0m: not enough values to unpack (expected 2, got 0)"
     ]
    }
   ],
   "metadata": {}
  },
  {
   "cell_type": "code",
   "execution_count": null,
   "source": [
    "N = list(zip(*city.copy()))\r\n",
    "S = list(zip(*city.copy()[::-1]))\r\n",
    "E = list(map(lambda x: x[::-1], city.copy()))\r\n",
    "W = city.copy()"
   ],
   "outputs": [],
   "metadata": {}
  },
  {
   "cell_type": "code",
   "execution_count": null,
   "source": [
    "for l in N:\r\n",
    "    tcnt = 0\r\n",
    "    t0 = l[0]\r\n",
    "    for t in l[1:]:\r\n",
    "        if t<t0:\r\n",
    "            continue\r\n",
    "        else:\r\n",
    "            \r\n",
    "    "
   ],
   "outputs": [],
   "metadata": {}
  },
  {
   "cell_type": "code",
   "execution_count": 4,
   "source": [],
   "outputs": [
    {
     "output_type": "stream",
     "name": "stdout",
     "text": [
      "Student #1 score: 10\n",
      "Student #2 score: 13\n",
      "Student #3 score: 19\n",
      "Average score is 14.00\n",
      "Minimum score is 10\n",
      "Maximum score is 19\n"
     ]
    }
   ],
   "metadata": {}
  },
  {
   "cell_type": "code",
   "execution_count": null,
   "source": [
    "class StudentData:\r\n",
    "    \r\n",
    "    def __init__(self, data:list = None):\r\n",
    "        if data == None:\r\n",
    "            self.data = []\r\n",
    "        else:\r\n",
    "            self.data = data\r\n",
    "            self.mean = statistics.mean(self.data)\r\n",
    "            self.min = min(self.data)\r\n",
    "            self.max = max(self.data)\r\n",
    "\r\n",
    "\r\n",
    "    def update_describe(self):\r\n",
    "        self.mean = statistics.mean(self.data)\r\n",
    "        self.min = min(self.data)\r\n",
    "        self.max = max(self.data)\r\n",
    "\r\n",
    "\r\n",
    "    def add(self, item:int):\r\n",
    "        self.data.append(item)\r\n",
    "        self.update_describe()\r\n",
    "        \r\n",
    "    def print_score(self):\r\n",
    "        for i, score in enumerate(self.data):\r\n",
    "            print(f\"Student #{i+1} score: {score}\")\r\n",
    "        \r\n",
    "    def describe(self):\r\n",
    "        print(f\"Average score is {self.mean:.2f}\\nMinimum score is {self.min}\\nMaximum score is {self.max}\")\r\n",
    "\r\n",
    "stddata = StudentData()\r\n",
    "\r\n",
    "while True:\r\n",
    "    inp = input(\"Input student score (or ENTER to end): \")\r\n",
    "    \r\n",
    "    if inp == '': \r\n",
    "        break\r\n",
    "    stddata.add(int(inp))\r\n",
    "\r\n",
    "stddata.print_score()\r\n",
    "\r\n",
    "stddata.describe()"
   ],
   "outputs": [],
   "metadata": {}
  }
 ],
 "metadata": {
  "orig_nbformat": 4,
  "language_info": {
   "name": "python",
   "version": "3.6.13",
   "mimetype": "text/x-python",
   "codemirror_mode": {
    "name": "ipython",
    "version": 3
   },
   "pygments_lexer": "ipython3",
   "nbconvert_exporter": "python",
   "file_extension": ".py"
  },
  "kernelspec": {
   "name": "python3",
   "display_name": "Python 3.6.13 64-bit ('elab': conda)"
  },
  "interpreter": {
   "hash": "f34d572a8ee4024796df20c76d650a85a4a206ea50120b0c8ed07aa109705f2a"
  }
 },
 "nbformat": 4,
 "nbformat_minor": 2
}