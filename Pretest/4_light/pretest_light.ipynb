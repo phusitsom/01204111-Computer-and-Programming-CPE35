{
 "metadata": {
  "language_info": {
   "codemirror_mode": {
    "name": "ipython",
    "version": 3
   },
   "file_extension": ".py",
   "mimetype": "text/x-python",
   "name": "python",
   "nbconvert_exporter": "python",
   "pygments_lexer": "ipython3",
   "version": "3.8.5-final"
  },
  "orig_nbformat": 2,
  "kernelspec": {
   "name": "python385jvsc74a57bd037eb40c3388cfde35488e2d005b0d69ca91ddeff8a429754d4da636d3f888e5e",
   "display_name": "Python 3.8.5 64-bit (conda)"
  }
 },
 "nbformat": 4,
 "nbformat_minor": 2,
 "cells": [
  {
   "cell_type": "code",
   "execution_count": 6,
   "metadata": {},
   "outputs": [
    {
     "output_type": "stream",
     "name": "stdout",
     "text": [
      "YES\n"
     ]
    }
   ],
   "source": [
    "height = float(input())\n",
    "price = int(input())\n",
    "\n",
    "def is_corruption(h, p):\n",
    "    if (h < 1) & (p < 1000): \n",
    "        print('NO')\n",
    "    elif (h > 1) & (h < 4) & (p < 5000): \n",
    "        print('NO')\n",
    "    elif (h > 4) & (h < 8) & (p < 30000): \n",
    "        print('NO')\n",
    "    elif (h > 8) & (p < 75000): \n",
    "        print('NO')\n",
    "    else: print('YES')\n",
    "\n",
    "is_corruption(height, price)"
   ]
  },
  {
   "cell_type": "code",
   "execution_count": null,
   "metadata": {},
   "outputs": [],
   "source": []
  },
  {
   "cell_type": "code",
   "execution_count": null,
   "metadata": {},
   "outputs": [],
   "source": []
  }
 ]
}