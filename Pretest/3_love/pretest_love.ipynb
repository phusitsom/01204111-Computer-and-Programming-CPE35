{
 "metadata": {
  "language_info": {
   "codemirror_mode": {
    "name": "ipython",
    "version": 3
   },
   "file_extension": ".py",
   "mimetype": "text/x-python",
   "name": "python",
   "nbconvert_exporter": "python",
   "pygments_lexer": "ipython3",
   "version": "3.8.5-final"
  },
  "orig_nbformat": 2,
  "kernelspec": {
   "name": "python385jvsc74a57bd037eb40c3388cfde35488e2d005b0d69ca91ddeff8a429754d4da636d3f888e5e",
   "display_name": "Python 3.8.5 64-bit (conda)"
  }
 },
 "nbformat": 4,
 "nbformat_minor": 2,
 "cells": [
  {
   "cell_type": "code",
   "execution_count": 9,
   "metadata": {},
   "outputs": [
    {
     "output_type": "stream",
     "name": "stdout",
     "text": [
      "Helppp\nhElppp\nheLppp\nhelPpp\nhelpPp\nhelppP\n"
     ]
    }
   ],
   "source": [
    "def replace_str_index(text,index=0,replacement=''):\n",
    "    return '%s%s%s'%(text[:index],replacement,text[index+1:])\n",
    "\n",
    "name = input()\n",
    "if (len(name) < 1) | (len(name) > 15):\n",
    "    None\n",
    "else:\n",
    "    for i in range(len(name)):\n",
    "        print(replace_str_index(name,i,name[i].upper()))\n",
    "\n"
   ]
  }
 ]
}