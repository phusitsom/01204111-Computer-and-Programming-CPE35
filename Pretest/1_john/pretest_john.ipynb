{
 "metadata": {
  "language_info": {
   "codemirror_mode": {
    "name": "ipython",
    "version": 3
   },
   "file_extension": ".py",
   "mimetype": "text/x-python",
   "name": "python",
   "nbconvert_exporter": "python",
   "pygments_lexer": "ipython3",
   "version": "3.8.5-final"
  },
  "orig_nbformat": 2,
  "kernelspec": {
   "name": "python385jvsc74a57bd037eb40c3388cfde35488e2d005b0d69ca91ddeff8a429754d4da636d3f888e5e",
   "display_name": "Python 3.8.5 64-bit (conda)"
  }
 },
 "nbformat": 4,
 "nbformat_minor": 2,
 "cells": [
  {
   "cell_type": "code",
   "execution_count": 81,
   "metadata": {},
   "outputs": [],
   "source": [
    "import numpy as np\n",
    "w, h = list(map(int, input().split()))\n",
    "farm_p = []\n",
    "for i in range(h):\n",
    "    ele = list(map(int, input().split()))\n",
    "\n",
    "    farm_p.append(ele)"
   ]
  },
  {
   "cell_type": "code",
   "execution_count": 82,
   "metadata": {},
   "outputs": [],
   "source": [
    "farm_p_arr = np.array(farm_p)\n",
    "ind_y, ind_x = np.where(farm_p_arr == 0)\n",
    "replace_val = []\n",
    "\n",
    "for i in range(len(ind_y)):\n",
    "    n = 4\n",
    "    if (farm_p_arr[ind_y[i]-1] == farm_p_arr[h-1])[0] == True:\n",
    "        up = 0\n",
    "        n = n -1\n",
    "        \n",
    "    else: \n",
    "        up = farm_p_arr[ind_y[i]-1,ind_x[i]]\n",
    "        if up == 0: n = n -1\n",
    "\n",
    "    try: \n",
    "        down = farm_p_arr[ind_y[i]+1,ind_x[i]]\n",
    "        if down == 0: n = n -1\n",
    "    except: \n",
    "        down = 0\n",
    "        n = n -1\n",
    "        \n",
    "\n",
    "    try: \n",
    "        left = farm_p_arr[ind_y[i],ind_x[i]-1]\n",
    "        if left == 0: n = n -1\n",
    "    except: \n",
    "        left = 0\n",
    "        n = n -1\n",
    "        \n",
    "\n",
    "    try: \n",
    "        right = farm_p_arr[ind_y[i],ind_x[i]+1]\n",
    "        if right == 0: n = n -1\n",
    "    except: \n",
    "        right = 0\n",
    "        n = n -1\n",
    "\n",
    "    if n != 0: replace_val.append(int((up + down + left + right)/n))\n",
    "    else: replace_val.append(0)\n",
    "\n",
    "for i in range(len(ind_y)):\n",
    "    farm_p_arr[ind_y[i],ind_x[i]] = replace_val[i]\n"
   ]
  },
  {
   "cell_type": "code",
   "execution_count": 83,
   "metadata": {},
   "outputs": [],
   "source": [
    "min_lst = []\n",
    "max_lst = []\n",
    "for j in range(h):\n",
    "    min_lst.append(min(farm_p_arr[j]))\n",
    "    max_lst.append(max(farm_p_arr[j]))\n",
    "\n",
    "min_sum = sum(min_lst)\n",
    "max_sum = sum(max_lst)"
   ]
  },
  {
   "cell_type": "code",
   "execution_count": 84,
   "metadata": {},
   "outputs": [
    {
     "output_type": "stream",
     "name": "stdout",
     "text": [
      "Min : 9\nMax : 31\n"
     ]
    }
   ],
   "source": [
    "print('Min :', min_sum)\n",
    "print('Max :', max_sum)"
   ]
  },
  {
   "cell_type": "code",
   "execution_count": null,
   "metadata": {},
   "outputs": [],
   "source": []
  }
 ]
}