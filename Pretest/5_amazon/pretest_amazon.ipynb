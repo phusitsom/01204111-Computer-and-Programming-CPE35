{
 "metadata": {
  "language_info": {
   "codemirror_mode": {
    "name": "ipython",
    "version": 3
   },
   "file_extension": ".py",
   "mimetype": "text/x-python",
   "name": "python",
   "nbconvert_exporter": "python",
   "pygments_lexer": "ipython3",
   "version": "3.8.5-final"
  },
  "orig_nbformat": 2,
  "kernelspec": {
   "name": "python385jvsc74a57bd037eb40c3388cfde35488e2d005b0d69ca91ddeff8a429754d4da636d3f888e5e",
   "display_name": "Python 3.8.5 64-bit (conda)"
  }
 },
 "nbformat": 4,
 "nbformat_minor": 2,
 "cells": [
  {
   "cell_type": "code",
   "execution_count": 5,
   "metadata": {},
   "outputs": [],
   "source": [
    "import pandas as pd\n",
    "\n",
    "f = pd.read_csv(r'amazon-orders.txt', header = 3)\n",
    "f.to_csv(r'amazon-orders.csv',index = None)"
   ]
  },
  {
   "cell_type": "code",
   "execution_count": 6,
   "metadata": {},
   "outputs": [
    {
     "output_type": "stream",
     "name": "stderr",
     "text": [
      "<ipython-input-6-b20b0a36b39d>:8: SettingWithCopyWarning: \nA value is trying to be set on a copy of a slice from a DataFrame.\nTry using .loc[row_indexer,col_indexer] = value instead\n\nSee the caveats in the documentation: https://pandas.pydata.org/pandas-docs/stable/user_guide/indexing.html#returning-a-view-versus-a-copy\n  df_chargedday['Total Charged'] = remove_dollar(df_chargedday['Total Charged'])\n"
     ]
    },
    {
     "output_type": "execute_result",
     "data": {
      "text/plain": [
       "            Total Charged\n",
       "Order Date               \n",
       "04/01/19            63.91\n",
       "04/04/19           156.12\n",
       "04/05/19            27.64\n",
       "04/07/19            40.63\n",
       "04/08/19            44.99\n",
       "04/20/19            28.80\n",
       "04/23/19            37.08\n",
       "05/05/19            12.99\n",
       "05/06/19             7.60\n",
       "05/10/19            27.99\n",
       "05/14/19            16.16\n",
       "05/18/19            10.50\n",
       "05/19/19            38.89\n",
       "05/21/19            30.42\n",
       "05/22/19            62.74\n",
       "05/24/19             7.67\n",
       "05/25/19             9.80\n",
       "05/28/19            13.95\n",
       "05/29/19             9.99\n",
       "05/30/19            45.38\n",
       "06/03/19            42.87\n",
       "06/05/19            12.26\n",
       "06/18/19            12.64\n",
       "06/25/19            62.58\n",
       "07/03/19            69.57\n",
       "07/06/19           447.36\n",
       "07/07/19            41.97\n",
       "07/09/19            16.46\n",
       "07/17/19            38.50\n",
       "07/18/19           145.88\n",
       "07/21/19            12.61\n",
       "07/23/19            45.29\n",
       "07/30/19            42.33\n",
       "07/31/19            94.16"
      ],
      "text/html": "<div>\n<style scoped>\n    .dataframe tbody tr th:only-of-type {\n        vertical-align: middle;\n    }\n\n    .dataframe tbody tr th {\n        vertical-align: top;\n    }\n\n    .dataframe thead th {\n        text-align: right;\n    }\n</style>\n<table border=\"1\" class=\"dataframe\">\n  <thead>\n    <tr style=\"text-align: right;\">\n      <th></th>\n      <th>Total Charged</th>\n    </tr>\n    <tr>\n      <th>Order Date</th>\n      <th></th>\n    </tr>\n  </thead>\n  <tbody>\n    <tr>\n      <th>04/01/19</th>\n      <td>63.91</td>\n    </tr>\n    <tr>\n      <th>04/04/19</th>\n      <td>156.12</td>\n    </tr>\n    <tr>\n      <th>04/05/19</th>\n      <td>27.64</td>\n    </tr>\n    <tr>\n      <th>04/07/19</th>\n      <td>40.63</td>\n    </tr>\n    <tr>\n      <th>04/08/19</th>\n      <td>44.99</td>\n    </tr>\n    <tr>\n      <th>04/20/19</th>\n      <td>28.80</td>\n    </tr>\n    <tr>\n      <th>04/23/19</th>\n      <td>37.08</td>\n    </tr>\n    <tr>\n      <th>05/05/19</th>\n      <td>12.99</td>\n    </tr>\n    <tr>\n      <th>05/06/19</th>\n      <td>7.60</td>\n    </tr>\n    <tr>\n      <th>05/10/19</th>\n      <td>27.99</td>\n    </tr>\n    <tr>\n      <th>05/14/19</th>\n      <td>16.16</td>\n    </tr>\n    <tr>\n      <th>05/18/19</th>\n      <td>10.50</td>\n    </tr>\n    <tr>\n      <th>05/19/19</th>\n      <td>38.89</td>\n    </tr>\n    <tr>\n      <th>05/21/19</th>\n      <td>30.42</td>\n    </tr>\n    <tr>\n      <th>05/22/19</th>\n      <td>62.74</td>\n    </tr>\n    <tr>\n      <th>05/24/19</th>\n      <td>7.67</td>\n    </tr>\n    <tr>\n      <th>05/25/19</th>\n      <td>9.80</td>\n    </tr>\n    <tr>\n      <th>05/28/19</th>\n      <td>13.95</td>\n    </tr>\n    <tr>\n      <th>05/29/19</th>\n      <td>9.99</td>\n    </tr>\n    <tr>\n      <th>05/30/19</th>\n      <td>45.38</td>\n    </tr>\n    <tr>\n      <th>06/03/19</th>\n      <td>42.87</td>\n    </tr>\n    <tr>\n      <th>06/05/19</th>\n      <td>12.26</td>\n    </tr>\n    <tr>\n      <th>06/18/19</th>\n      <td>12.64</td>\n    </tr>\n    <tr>\n      <th>06/25/19</th>\n      <td>62.58</td>\n    </tr>\n    <tr>\n      <th>07/03/19</th>\n      <td>69.57</td>\n    </tr>\n    <tr>\n      <th>07/06/19</th>\n      <td>447.36</td>\n    </tr>\n    <tr>\n      <th>07/07/19</th>\n      <td>41.97</td>\n    </tr>\n    <tr>\n      <th>07/09/19</th>\n      <td>16.46</td>\n    </tr>\n    <tr>\n      <th>07/17/19</th>\n      <td>38.50</td>\n    </tr>\n    <tr>\n      <th>07/18/19</th>\n      <td>145.88</td>\n    </tr>\n    <tr>\n      <th>07/21/19</th>\n      <td>12.61</td>\n    </tr>\n    <tr>\n      <th>07/23/19</th>\n      <td>45.29</td>\n    </tr>\n    <tr>\n      <th>07/30/19</th>\n      <td>42.33</td>\n    </tr>\n    <tr>\n      <th>07/31/19</th>\n      <td>94.16</td>\n    </tr>\n  </tbody>\n</table>\n</div>"
     },
     "metadata": {},
     "execution_count": 6
    }
   ],
   "source": [
    "df = pd.read_csv('amazon-orders.csv')\n",
    "\n",
    "def remove_dollar(series):\n",
    "    series = series.replace({r'\\$':''}, regex = True).astype('float')\n",
    "    return series\n",
    "\n",
    "df_chargedday = df[['Order Date', 'Total Charged']]\n",
    "df_chargedday['Total Charged'] = remove_dollar(df_chargedday['Total Charged'])\n",
    "\n",
    "df_gb_chargedday = df_chargedday.groupby('Order Date').sum()\n",
    "df_gb_chargedday"
   ]
  },
  {
   "cell_type": "code",
   "execution_count": 7,
   "metadata": {},
   "outputs": [
    {
     "output_type": "stream",
     "name": "stderr",
     "text": [
      "<ipython-input-7-e68d53e27bdb>:2: SettingWithCopyWarning: \nA value is trying to be set on a copy of a slice from a DataFrame.\nTry using .loc[row_indexer,col_indexer] = value instead\n\nSee the caveats in the documentation: https://pandas.pydata.org/pandas-docs/stable/user_guide/indexing.html#returning-a-view-versus-a-copy\n  df_promoday['Total Promotions'] = remove_dollar(df_promoday['Total Promotions'])\n"
     ]
    }
   ],
   "source": [
    "df_promoday = df[['Order Date', 'Total Promotions']]\n",
    "df_promoday['Total Promotions'] = remove_dollar(df_promoday['Total Promotions'])\n",
    "\n",
    "df_gb_promoday = df_promoday.groupby('Order Date').sum()\n",
    "max_promodate = df_gb_promoday.loc[(df_gb_promoday['Total Promotions'] == df_gb_promoday['Total Promotions'].max())].reset_index()"
   ]
  },
  {
   "cell_type": "code",
   "execution_count": 8,
   "metadata": {},
   "outputs": [
    {
     "output_type": "stream",
     "name": "stdout",
     "text": [
      "Payment per day\n    Order Date  Total Charged\n0    04/01/19          63.91\n1    04/04/19         156.12\n2    04/05/19          27.64\n3    04/07/19          40.63\n4    04/08/19          44.99\n5    04/20/19          28.80\n6    04/23/19          37.08\n7    05/05/19          12.99\n8    05/06/19           7.60\n9    05/10/19          27.99\n10   05/14/19          16.16\n11   05/18/19          10.50\n12   05/19/19          38.89\n13   05/21/19          30.42\n14   05/22/19          62.74\n15   05/24/19           7.67\n16   05/25/19           9.80\n17   05/28/19          13.95\n18   05/29/19           9.99\n19   05/30/19          45.38\n20   06/03/19          42.87\n21   06/05/19          12.26\n22   06/18/19          12.64\n23   06/25/19          62.58\n24   07/03/19          69.57\n25   07/06/19         447.36\n26   07/07/19          41.97\n27   07/09/19          16.46\n28   07/17/19          38.50\n29   07/18/19         145.88\n30   07/21/19          12.61\n31   07/23/19          45.29\n32   07/30/19          42.33\n33   07/31/19          94.16\n"
     ]
    }
   ],
   "source": [
    "print('Payment per day\\n', df_gb_chargedday.reset_index())"
   ]
  },
  {
   "cell_type": "code",
   "execution_count": 9,
   "metadata": {},
   "outputs": [
    {
     "output_type": "stream",
     "name": "stdout",
     "text": [
      "Most total promotion you got is on 07/30/19 (20)\n"
     ]
    }
   ],
   "source": [
    "print('Most total promotion you got is on', max_promodate['Order Date'][0], '({})'.format(int(max_promodate['Total Promotions'][0])))"
   ]
  },
  {
   "cell_type": "code",
   "execution_count": null,
   "metadata": {},
   "outputs": [],
   "source": []
  }
 ]
}