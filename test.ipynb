{
 "cells": [
  {
   "cell_type": "code",
   "execution_count": 5,
   "source": [
    "from pprint import pp "
   ],
   "outputs": [],
   "metadata": {}
  },
  {
   "cell_type": "code",
   "execution_count": 2,
   "source": [
    "(lambda x,y: [[0 for x in range(x)] for y in range(y)])(*map(int,input(\"Grid Size: \").split()))"
   ],
   "outputs": [
    {
     "output_type": "execute_result",
     "data": {
      "text/plain": [
       "[[0, 0, 0, 0], [0, 0, 0, 0], [0, 0, 0, 0], [0, 0, 0, 0]]"
      ]
     },
     "metadata": {},
     "execution_count": 2
    }
   ],
   "metadata": {}
  },
  {
   "cell_type": "code",
   "execution_count": 15,
   "source": [
    "for i in [[0,0,0,0,0,0],[0,\"X\", 2, 1, 1,0], [0,1, 2, \"X\", 2,0], [0,0, 1, 2, \"X\",0], [0,0, 0, 1, 1,0],[0,0,0,0,0,0]]:\n",
    "    print(i)"
   ],
   "outputs": [
    {
     "output_type": "stream",
     "name": "stdout",
     "text": [
      "[0, 0, 0, 0, 0, 0]\n",
      "[0, 'X', 2, 1, 1, 0]\n",
      "[0, 1, 2, 'X', 2, 0]\n",
      "[0, 0, 1, 2, 'X', 0]\n",
      "[0, 0, 0, 1, 1, 0]\n",
      "[0, 0, 0, 0, 0, 0]\n"
     ]
    }
   ],
   "metadata": {}
  },
  {
   "cell_type": "code",
   "execution_count": 40,
   "source": [
    "[list(map(lambda x: \"X\" if x == \"X\" else x+1,i)) if \"X\" in i else list(map(lambda x: x+1,i)) for i in ([0,0,0],[0,\"X\",0],[0,0,0])]"
   ],
   "outputs": [
    {
     "output_type": "execute_result",
     "data": {
      "text/plain": [
       "[[1, 1, 1], [1, 'X', 1], [1, 1, 1]]"
      ]
     },
     "metadata": {},
     "execution_count": 40
    }
   ],
   "metadata": {}
  },
  {
   "cell_type": "code",
   "execution_count": 71,
   "source": [
    "a = [[0, 0, 0, 0], \n",
    " [0, \"X\", \"X\", 0], \n",
    " [0, \"X\", 0, 0], \n",
    " [0, 0, 0, 0]]"
   ],
   "outputs": [],
   "metadata": {}
  },
  {
   "cell_type": "code",
   "execution_count": 76,
   "source": [
    "[(lambda i, x : [(i,j) for j in range(len(x)) if x[j] == \"X\"])(i,x) for i, x in enumerate(a) if \"X\" in x]"
   ],
   "outputs": [
    {
     "output_type": "error",
     "ename": "SyntaxError",
     "evalue": "iterable unpacking cannot be used in comprehension (4017414975.py, line 1)",
     "traceback": [
      "\u001b[0;36m  File \u001b[0;32m\"/tmp/ipykernel_3285/4017414975.py\"\u001b[0;36m, line \u001b[0;32m1\u001b[0m\n\u001b[0;31m    [*(lambda i, x : [(i,j) for j in range(len(x)) if x[j] == \"X\"])(i,x) for i, x in enumerate(a) if \"X\" in x]\u001b[0m\n\u001b[0m     ^\u001b[0m\n\u001b[0;31mSyntaxError\u001b[0m\u001b[0;31m:\u001b[0m iterable unpacking cannot be used in comprehension\n"
     ]
    }
   ],
   "metadata": {}
  },
  {
   "cell_type": "code",
   "execution_count": null,
   "source": [],
   "outputs": [],
   "metadata": {}
  }
 ],
 "metadata": {
  "orig_nbformat": 4,
  "language_info": {
   "name": "python",
   "version": "3.9.5",
   "mimetype": "text/x-python",
   "codemirror_mode": {
    "name": "ipython",
    "version": 3
   },
   "pygments_lexer": "ipython3",
   "nbconvert_exporter": "python",
   "file_extension": ".py"
  },
  "kernelspec": {
   "name": "python3",
   "display_name": "Python 3.9.5 64-bit ('data': conda)"
  },
  "interpreter": {
   "hash": "9a9332a7c1baecb972e02e5514132c62b1b3c74ba43183a8f3615d55a37c5bb1"
  }
 },
 "nbformat": 4,
 "nbformat_minor": 2
}