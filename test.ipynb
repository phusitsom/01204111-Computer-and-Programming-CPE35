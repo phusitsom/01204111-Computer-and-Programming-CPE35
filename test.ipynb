{
 "cells": [
  {
   "cell_type": "code",
   "execution_count": 51,
   "source": [
    "grid1, grid2, rotate_right, rotate_left, print_grid = [['.','.','.','.','.','.'],['.','o','o','.','.','.'],['o','o','o','o','.','.'],['o','o','o','o','o','.'],['.','o','o','o','o','o'],['o','o','o','o','o','.'],['o','o','o','o','.','.'],['.','o','o','.','.','.'],['.','.','.','.','.','.']], [['.','.','.','.','.','.','.'],['.','.','.','.','.','.','.'],['.','.','.','.','o','.','o'],['o','o','.','o','.','o','.'],['o','o','o','o','o','.','.'],['o','o','.','o','.','o','.'],['.','.','.','.','o','.','o'],['.','.','.','.','.','.','.'],['.','.','.','.','.','.','.']], lambda grid: list(zip(*grid[::-1])), lambda grid: list(zip(*grid))[::-1], lambda grid: print('\\n'.join(map(''.join, grid)))"
   ],
   "outputs": [],
   "metadata": {}
  },
  {
   "cell_type": "code",
   "execution_count": 83,
   "source": [
    "a = [2,3,5]\n",
    "b = ['golf','pgolf','larm']"
   ],
   "outputs": [],
   "metadata": {}
  },
  {
   "cell_type": "code",
   "execution_count": null,
   "source": [],
   "outputs": [],
   "metadata": {}
  },
  {
   "cell_type": "code",
   "execution_count": null,
   "source": [],
   "outputs": [],
   "metadata": {}
  },
  {
   "cell_type": "code",
   "execution_count": null,
   "source": [],
   "outputs": [],
   "metadata": {}
  },
  {
   "cell_type": "code",
   "execution_count": null,
   "source": [],
   "outputs": [],
   "metadata": {}
  },
  {
   "cell_type": "markdown",
   "source": [],
   "metadata": {}
  }
 ],
 "metadata": {
  "orig_nbformat": 4,
  "language_info": {
   "name": "python",
   "version": "3.8.10",
   "mimetype": "text/x-python",
   "codemirror_mode": {
    "name": "ipython",
    "version": 3
   },
   "pygments_lexer": "ipython3",
   "nbconvert_exporter": "python",
   "file_extension": ".py"
  },
  "kernelspec": {
   "name": "python3",
   "display_name": "Python 3.8.10 64-bit ('py38': conda)"
  },
  "interpreter": {
   "hash": "a127d1bb091bc32e4f18da2e4b0d977ea8a689d7d922e831860a18055dbe6589"
  }
 },
 "nbformat": 4,
 "nbformat_minor": 2
}