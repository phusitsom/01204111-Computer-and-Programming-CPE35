{
 "cells": [
  {
   "cell_type": "code",
   "execution_count": 51,
   "source": [
    "grid1, grid2, rotate_right, rotate_left, print_grid = [['.','.','.','.','.','.'],['.','o','o','.','.','.'],['o','o','o','o','.','.'],['o','o','o','o','o','.'],['.','o','o','o','o','o'],['o','o','o','o','o','.'],['o','o','o','o','.','.'],['.','o','o','.','.','.'],['.','.','.','.','.','.']], [['.','.','.','.','.','.','.'],['.','.','.','.','.','.','.'],['.','.','.','.','o','.','o'],['o','o','.','o','.','o','.'],['o','o','o','o','o','.','.'],['o','o','.','o','.','o','.'],['.','.','.','.','o','.','o'],['.','.','.','.','.','.','.'],['.','.','.','.','.','.','.']], lambda grid: list(zip(*grid[::-1])), lambda grid: list(zip(*grid))[::-1], lambda grid: print('\\n'.join(map(''.join, grid)))"
   ],
   "outputs": [],
   "metadata": {}
  },
  {
   "cell_type": "code",
   "execution_count": null,
   "source": [],
   "outputs": [],
   "metadata": {}
  }
 ],
 "metadata": {
  "orig_nbformat": 4,
  "language_info": {
   "name": "python",
   "version": "3.9.5",
   "mimetype": "text/x-python",
   "codemirror_mode": {
    "name": "ipython",
    "version": 3
   },
   "pygments_lexer": "ipython3",
   "nbconvert_exporter": "python",
   "file_extension": ".py"
  },
  "kernelspec": {
   "name": "python3",
   "display_name": "Python 3.9.5 64-bit ('data': conda)"
  },
  "interpreter": {
   "hash": "9a9332a7c1baecb972e02e5514132c62b1b3c74ba43183a8f3615d55a37c5bb1"
  }
 },
 "nbformat": 4,
 "nbformat_minor": 2
}