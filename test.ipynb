{
 "cells": [],
 "metadata": {
  "orig_nbformat": 4,
  "language_info": {
   "name": "python",
   "version": "3.9.5",
   "mimetype": "text/x-python",
   "codemirror_mode": {
    "name": "ipython",
    "version": 3
   },
   "pygments_lexer": "ipython3",
   "nbconvert_exporter": "python",
   "file_extension": ".py"
  },
  "kernelspec": {
   "name": "python3",
   "display_name": "Python 3.9.5 64-bit ('data': conda)"
  },
  "interpreter": {
   "hash": "9a9332a7c1baecb972e02e5514132c62b1b3c74ba43183a8f3615d55a37c5bb1"
  }
 },
 "nbformat": 4,
 "nbformat_minor": 2
}