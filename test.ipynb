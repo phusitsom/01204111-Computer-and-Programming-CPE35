{
 "cells": [
  {
   "cell_type": "code",
   "execution_count": 51,
   "source": [
    "grid1, grid2, rotate_right, rotate_left, print_grid = [['.','.','.','.','.','.'],['.','o','o','.','.','.'],['o','o','o','o','.','.'],['o','o','o','o','o','.'],['.','o','o','o','o','o'],['o','o','o','o','o','.'],['o','o','o','o','.','.'],['.','o','o','.','.','.'],['.','.','.','.','.','.']], [['.','.','.','.','.','.','.'],['.','.','.','.','.','.','.'],['.','.','.','.','o','.','o'],['o','o','.','o','.','o','.'],['o','o','o','o','o','.','.'],['o','o','.','o','.','o','.'],['.','.','.','.','o','.','o'],['.','.','.','.','.','.','.'],['.','.','.','.','.','.','.']], lambda grid: list(zip(*grid[::-1])), lambda grid: list(zip(*grid))[::-1], lambda grid: print('\\n'.join(map(''.join, grid)))"
   ],
   "outputs": [],
   "metadata": {}
  }
 ],
 "metadata": {
  "orig_nbformat": 4,
  "language_info": {
   "name": "python",
   "version": "3.9.5",
   "mimetype": "text/x-python",
   "codemirror_mode": {
    "name": "ipython",
    "version": 3
   },
   "pygments_lexer": "ipython3",
   "nbconvert_exporter": "python",
   "file_extension": ".py"
  },
  "kernelspec": {
   "name": "python3",
   "display_name": "Python 3.9.5 64-bit ('discord': conda)"
  },
  "interpreter": {
   "hash": "0a8965695b3cc72aa0b86527da8e67ec3f6d64e8482a560c748bfe9cf86828d1"
  }
 },
 "nbformat": 4,
 "nbformat_minor": 2
}