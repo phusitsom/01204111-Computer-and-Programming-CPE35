{
 "cells": [
  {
   "cell_type": "code",
   "execution_count": 6,
   "source": [
    "List =     [[1,2,3],\r\n",
    "            [4,5,6],\r\n",
    "            [7,8,9]]"
   ],
   "outputs": [],
   "metadata": {}
  },
  {
   "cell_type": "code",
   "execution_count": 19,
   "source": [
    "number = int(input(\"\"))\r\n",
    "x = -(-number//2)\r\n",
    "print(x)\r\n",
    "for i in range(x):\r\n",
    "    print(((' ')*(x-i-1))+('O'*((i*2)+1)))\r\n",
    "for i in range(1,x,-1):\r\n",
    "    print(((' ')*((i*2)+1))+('0'*(x-i+1)))"
   ],
   "outputs": [
    {
     "output_type": "stream",
     "name": "stdout",
     "text": [
      "4\n",
      "   O\n",
      "  OOO\n",
      " OOOOO\n",
      "OOOOOOO\n"
     ]
    }
   ],
   "metadata": {}
  },
  {
   "cell_type": "code",
   "execution_count": 22,
   "source": [
    "m,n,t2=0,1,999\r\n",
    "while True:\r\n",
    " t1=int(input())\r\n",
    " if t1==0:break\r\n",
    " n=n+1 if t1==t2 else 1\r\n",
    " t2=t1\r\n",
    " if n>m:m,maxt=n,str(t2)\r\n",
    "print(str(m)+\"\\n\"+maxt)"
   ],
   "outputs": [
    {
     "output_type": "stream",
     "name": "stdout",
     "text": [
      "4\n",
      "5\n"
     ]
    }
   ],
   "metadata": {}
  },
  {
   "cell_type": "code",
   "execution_count": null,
   "source": [],
   "outputs": [],
   "metadata": {}
  }
 ],
 "metadata": {
  "interpreter": {
   "hash": "7b1d008208495c7be3031c5aa0ca9aaacfce102fc622673fbcab4f646f93a468"
  },
  "kernelspec": {
   "display_name": "Python 3.9.1 64-bit ('base': conda)",
   "name": "python3"
  },
  "language_info": {
   "codemirror_mode": {
    "name": "ipython",
    "version": 3
   },
   "file_extension": ".py",
   "mimetype": "text/x-python",
   "name": "python",
   "nbconvert_exporter": "python",
   "pygments_lexer": "ipython3",
   "version": "3.9.1"
  },
  "orig_nbformat": 4
 },
 "nbformat": 4,
 "nbformat_minor": 2
}