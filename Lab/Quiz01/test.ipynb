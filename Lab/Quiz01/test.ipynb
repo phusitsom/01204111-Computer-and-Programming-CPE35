{
 "cells": [
  {
   "cell_type": "code",
   "execution_count": 49,
   "source": [],
   "outputs": [],
   "metadata": {}
  },
  {
   "cell_type": "code",
   "execution_count": 167,
   "source": [
    "n = int(input())\n",
    "w = '*'\n",
    "def draw(n):\n",
    "    for i in range(n-1):print(' '*i+w+(' '*n)+(' '*(-((i-n)+2)*2))+w)\n",
    "    print(\" \"*(n-1)+w*n)\n",
    "    for i in range(n-2):print(\" \"*(n-1)+w+(\" \" * len((w*n)[1:-1]))+w)\n",
    "    print(\" \"*(n-1)+w*n)\n",
    "    for i in range(n-1):print(' '*(-((i-n)+2))+w+(' '*n)+(' '*(i*2))+w)\n",
    "draw(n)"
   ],
   "outputs": [
    {
     "output_type": "stream",
     "name": "stdout",
     "text": [
      "*  *\n",
      " **\n",
      " **\n",
      "*  *\n"
     ]
    }
   ],
   "metadata": {}
  },
  {
   "cell_type": "code",
   "execution_count": 164,
   "source": [
    "for i in range(n-2):\n",
    "    print(\" \"*(n-1)+w+(\" \" * len((w*n)[1:-1]))+w) if n!=2 else None"
   ],
   "outputs": [
    {
     "output_type": "stream",
     "name": "stdout",
     "text": [
      "     *    *\n",
      "     *    *\n",
      "     *    *\n",
      "     *    *\n"
     ]
    }
   ],
   "metadata": {}
  },
  {
   "cell_type": "code",
   "execution_count": null,
   "source": [
    "2 0\n",
    "3 1\n",
    "4 2\n",
    "5 3\n",
    "6 4\n",
    "7 8"
   ],
   "outputs": [],
   "metadata": {}
  },
  {
   "cell_type": "code",
   "execution_count": 163,
   "source": [
    "n-2"
   ],
   "outputs": [
    {
     "output_type": "execute_result",
     "data": {
      "text/plain": [
       "4"
      ]
     },
     "metadata": {},
     "execution_count": 163
    }
   ],
   "metadata": {}
  },
  {
   "cell_type": "code",
   "execution_count": null,
   "source": [],
   "outputs": [],
   "metadata": {}
  }
 ],
 "metadata": {
  "interpreter": {
   "hash": "7b1d008208495c7be3031c5aa0ca9aaacfce102fc622673fbcab4f646f93a468"
  },
  "kernelspec": {
   "display_name": "Python 3.9.1 64-bit ('base': conda)",
   "name": "python3"
  },
  "language_info": {
   "codemirror_mode": {
    "name": "ipython",
    "version": 3
   },
   "file_extension": ".py",
   "mimetype": "text/x-python",
   "name": "python",
   "nbconvert_exporter": "python",
   "pygments_lexer": "ipython3",
   "version": "3.9.1"
  },
  "orig_nbformat": 4
 },
 "nbformat": 4,
 "nbformat_minor": 2
}