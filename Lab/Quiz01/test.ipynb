{
 "cells": [
  {
   "cell_type": "code",
   "execution_count": 6,
   "source": [
    "List =     [[1,2,3],\r\n",
    "            [4,5,6],\r\n",
    "            [7,8,9]]"
   ],
   "outputs": [],
   "metadata": {}
  },
  {
   "cell_type": "code",
   "execution_count": 19,
   "source": [
    "number = int(input(\"\"))\r\n",
    "x = -(-number//2)\r\n",
    "print(x)\r\n",
    "for i in range(x):\r\n",
    "    print(((' ')*(x-i-1))+('O'*((i*2)+1)))\r\n",
    "for i in range(1,x,-1):\r\n",
    "    print(((' ')*((i*2)+1))+('0'*(x-i+1)))"
   ],
   "outputs": [
    {
     "output_type": "stream",
     "name": "stdout",
     "text": [
      "4\n",
      "   O\n",
      "  OOO\n",
      " OOOOO\n",
      "OOOOOOO\n"
     ]
    }
   ],
   "metadata": {}
  },
  {
   "cell_type": "code",
   "execution_count": 22,
   "source": [
    "m,n,t2=0,1,999\r\n",
    "while True:\r\n",
    " t1=int(input())\r\n",
    " if t1==0:break\r\n",
    " n=n+1 if t1==t2 else 1\r\n",
    " t2=t1\r\n",
    " if n>m:m,maxt=n,str(t2)\r\n",
    "print(str(m)+\"\\n\"+maxt)"
   ],
   "outputs": [
    {
     "output_type": "stream",
     "name": "stdout",
     "text": [
      "4\n",
      "5\n"
     ]
    }
   ],
   "metadata": {}
  },
  {
   "cell_type": "code",
   "execution_count": 12,
   "source": [
    "x=int(input())\r\n",
    "y=int(input())\r\n",
    "p=int(input())\r\n",
    "k=1\r\n",
    "while x<=y:\r\n",
    "    if x%p == 0:\r\n",
    "            x=x+11\r\n",
    "    else:\r\n",
    "        if k==10:\r\n",
    "            print(f' {x}', end = '\\n')\r\n",
    "            k=0\r\n",
    "        elif k == 1:print(f'{x}', end = '')\r\n",
    "        else:print(f' {x}', end = '')\r\n",
    "        x=x+1\r\n",
    "        k=k+1"
   ],
   "outputs": [],
   "metadata": {}
  },
  {
   "cell_type": "code",
   "execution_count": 13,
   "source": [
    "x=int(input())\r\n",
    "y=int(input())\r\n",
    "p=int(input())\r\n",
    "k=1\r\n",
    "while x<=y:\r\n",
    "    if x%p == 0:\r\n",
    "        if p==11:\r\n",
    "            x=x+11\r\n",
    "            continue\r\n",
    "        if p ==1:\r\n",
    "            break\r\n",
    "        else:\r\n",
    "            x=x+11\r\n",
    "            if x<=y:\r\n",
    "                print(x,end=' ')\r\n",
    "    elif x<=y:\r\n",
    "        print(x,end=' ')\r\n",
    "        \r\n",
    "    x=x+1\r\n",
    "    if k==10:\r\n",
    "        print('')\r\n",
    "        k=0\r\n",
    "    k=k+1"
   ],
   "outputs": [
    {
     "output_type": "stream",
     "name": "stdout",
     "text": [
      "0 12 24 36 48 60 "
     ]
    }
   ],
   "metadata": {}
  },
  {
   "cell_type": "code",
   "execution_count": 3,
   "source": [
    "pi = 3.141592653589793\r\n",
    "\r\n",
    "\r\n",
    "def inputShape():\r\n",
    "    return int(input('Input Shape : '))\r\n",
    "\r\n",
    "\r\n",
    "def calculateSphere() -> float:\r\n",
    "    radius = int(input('Input radius(meter)): '))\r\n",
    "    r3 = radius**3\r\n",
    "    volume = (4 / 3) * pi * r3\r\n",
    "    print(f'The volume is {float(volume):.2f} cubic meter.')\r\n",
    "    return volume\r\n",
    "\r\n",
    "\r\n",
    "def calculateCone():\r\n",
    "    rad = int(input('Input radius(meter): '))\r\n",
    "    h = int(input('Input height(meter): '))\r\n",
    "\r\n",
    "    volume = 1/3*pi*(rad**2)*h\r\n",
    "    print(f'The volume is {float(volume):.2f} cubic meter.')\r\n",
    "    return volume\r\n",
    "\r\n",
    "\r\n",
    "def calculateCylinder():\r\n",
    "    radius = int(input('Input radius(meter): '))\r\n",
    "    height = int(input('Input height(meter): '))\r\n",
    "\r\n",
    "    volume = pi * (radius**2) * height\r\n",
    "    print(f'The volume is {float(volume):.2f} cubic meter.')\r\n",
    "    return volume\r\n",
    "\r\n",
    "\r\n",
    "def calculatePrism():\r\n",
    "    width = int(input('Input width(meter): '))\r\n",
    "    length = int(input('Input length(meter): '))\r\n",
    "    height = int(input('Input height(meter): '))\r\n",
    "\r\n",
    "    volume = width * length * height\r\n",
    "    print(f'The volume is {float(volume):.2f} cubic meter.')\r\n",
    "    return volume\r\n",
    "\r\n",
    "\r\n",
    "def calculatePyramid():\r\n",
    "    width = int(input('Input width(meter): '))\r\n",
    "    length = int(input('Input length(meter): '))\r\n",
    "    height = int(input('Input height(meter): '))\r\n",
    "\r\n",
    "    volume = width * length * height / 3\r\n",
    "    print(f'The volume is {float(volume):.2f} cubic meter.')\r\n",
    "    return volume\r\n",
    "\r\n",
    "\r\n",
    "def calculatePrice(v: int) -> float:\r\n",
    "    global volume\r\n",
    "    price_per_baht = int(input('Price(Bath) per 1 cubic meter: '))\r\n",
    "\r\n",
    "    print(f'The price is {float(calculatePrice(price_per_baht)): .2f} Baht.')\r\n",
    "\r\n",
    "\r\n",
    "i = inputShape()\r\n",
    "\r\n",
    "volume = calculateSphere() if i == 1 else calculateCone(\r\n",
    ") if i == 2 else calculateCylinder() if i == 3 else calculatePrism(\r\n",
    ") if i == 4 else calculatePyramid() if i == 5 else None"
   ],
   "outputs": [
    {
     "output_type": "stream",
     "name": "stdout",
     "text": [
      "The volume is 16.00 cubic meter.\n"
     ]
    }
   ],
   "metadata": {}
  },
  {
   "cell_type": "code",
   "execution_count": 127,
   "source": [
    "n = 4\r\n",
    "w = '*'"
   ],
   "outputs": [],
   "metadata": {}
  },
  {
   "cell_type": "code",
   "execution_count": 140,
   "source": [
    "def draw(n):\r\n",
    "    for i in range(n-1):\r\n",
    "        print(\" \"*i+w+(\" \"*(-((i*2)-(n)*2)))+w)\r\n",
    "    print(\" \"*(n-1)+w*n)\r\n",
    "    for i in range(int(n/2)):\r\n",
    "        print(\" \"*(n-1)+w+(\" \" * len((w*n)[1:-1]))+w)\r\n",
    "    print(\" \"*(n-1)+w*n)\r\n",
    "draw(n)"
   ],
   "outputs": [
    {
     "output_type": "stream",
     "name": "stdout",
     "text": [
      "*        *\n",
      " *      *\n",
      "  *    *\n",
      "   ****\n",
      "   *  *\n",
      "   *  *\n",
      "   ****\n"
     ]
    }
   ],
   "metadata": {}
  },
  {
   "cell_type": "code",
   "execution_count": 131,
   "source": [
    "print(\" \"*n+w*n)\r\n",
    "for i in range(int(n/2)):\r\n",
    "    print(\" \"*n+w+(\" \" * len((w*n)[1:-1]))+w)\r\n",
    "print(\" \"*n+w*n)"
   ],
   "outputs": [
    {
     "output_type": "stream",
     "name": "stdout",
     "text": [
      "    ****\n",
      "    *  *\n",
      "    *  *\n",
      "    ****\n"
     ]
    }
   ],
   "metadata": {}
  },
  {
   "cell_type": "code",
   "execution_count": 142,
   "source": [
    "for i in range((n-1)):\r\n",
    "    print(i)"
   ],
   "outputs": [
    {
     "output_type": "stream",
     "name": "stdout",
     "text": [
      "0\n",
      "1\n",
      "2\n"
     ]
    }
   ],
   "metadata": {}
  },
  {
   "cell_type": "code",
   "execution_count": null,
   "source": [],
   "outputs": [],
   "metadata": {}
  }
 ],
 "metadata": {
  "interpreter": {
   "hash": "7b1d008208495c7be3031c5aa0ca9aaacfce102fc622673fbcab4f646f93a468"
  },
  "kernelspec": {
   "display_name": "Python 3.9.1 64-bit ('base': conda)",
   "name": "python3"
  },
  "language_info": {
   "codemirror_mode": {
    "name": "ipython",
    "version": 3
   },
   "file_extension": ".py",
   "mimetype": "text/x-python",
   "name": "python",
   "nbconvert_exporter": "python",
   "pygments_lexer": "ipython3",
   "version": "3.9.1"
  },
  "orig_nbformat": 4
 },
 "nbformat": 4,
 "nbformat_minor": 2
}