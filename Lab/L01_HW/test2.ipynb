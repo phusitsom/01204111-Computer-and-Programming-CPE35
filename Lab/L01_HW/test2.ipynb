{
 "cells": [
  {
   "cell_type": "code",
   "execution_count": 1,
   "metadata": {},
   "outputs": [
    {
     "name": "stdout",
     "output_type": "stream",
     "text": [
      "Requirement already satisfied: numpy in c:\\users\\airaphz\\anaconda3\\envs\\py38\\lib\\site-packages (1.21.0)\n"
     ]
    }
   ],
   "source": [
    "!pip install numpy"
   ]
  },
  {
   "cell_type": "code",
   "execution_count": 1,
   "metadata": {},
   "outputs": [],
   "source": [
    "class car():\r\n",
    "     \r\n",
    "    # init method or constructor\r\n",
    "    def __init__(self, model, color):\r\n",
    "        self.model = model\r\n",
    "        self.color = color\r\n",
    "         \r\n",
    "    def show(self):\r\n",
    "        print(\"Model is\", self.model )\r\n",
    "        print(\"color is\", self.color )"
   ]
  },
  {
   "cell_type": "code",
   "execution_count": null,
   "metadata": {},
   "outputs": [],
   "source": []
  }
 ],
 "metadata": {
  "interpreter": {
   "hash": "968e29893a66ab4b1e12471b6b0ebb8bfc0956b889bc1329fb2d605a77d02cfd"
  },
  "kernelspec": {
   "display_name": "Python 3.8.10 64-bit (conda)",
   "name": "python3"
  },
  "language_info": {
   "name": "python",
   "version": ""
  },
  "orig_nbformat": 4
 },
 "nbformat": 4,
 "nbformat_minor": 2
}