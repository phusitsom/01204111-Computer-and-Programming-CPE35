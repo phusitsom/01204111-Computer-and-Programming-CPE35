{
 "cells": [
  {
   "cell_type": "code",
   "execution_count": 3,
   "source": [],
   "outputs": [],
   "metadata": {}
  },
  {
   "cell_type": "code",
   "execution_count": 2,
   "source": [
    "def AmHere(namee):\r\n",
    "    print('Hello !!!')\r\n",
    "    print(f\"I'm here {namee}!!!\")\r\n",
    "\r\n",
    "inp = input('Who are you going to call : ')\r\n",
    "AmHere(inp)\r\n"
   ],
   "outputs": [
    {
     "output_type": "stream",
     "name": "stdout",
     "text": [
      "Hello !!!\n",
      "i'm here O\n"
     ]
    }
   ],
   "metadata": {}
  },
  {
   "cell_type": "code",
   "execution_count": 25,
   "source": [
    "from math import sin, degrees, radians, ceil"
   ],
   "outputs": [],
   "metadata": {}
  },
  {
   "cell_type": "code",
   "execution_count": 32,
   "source": [
    "list(map(lambda x: f'{round(sin(radians(x)),3):0.2f}', [int(input())]*3))"
   ],
   "outputs": [
    {
     "output_type": "execute_result",
     "data": {
      "text/plain": [
       "['0.50', '0.50', '0.50']"
      ]
     },
     "metadata": {},
     "execution_count": 32
    }
   ],
   "metadata": {}
  },
  {
   "cell_type": "code",
   "execution_count": 18,
   "source": [
    "[float(input())]*3"
   ],
   "outputs": [
    {
     "output_type": "execute_result",
     "data": {
      "text/plain": [
       "[30.0, 30.0, 30.0]"
      ]
     },
     "metadata": {},
     "execution_count": 18
    }
   ],
   "metadata": {}
  },
  {
   "cell_type": "code",
   "execution_count": 31,
   "source": [
    "f'{round(sin(radians(30)),3):0.2f}'"
   ],
   "outputs": [
    {
     "output_type": "execute_result",
     "data": {
      "text/plain": [
       "'0.50'"
      ]
     },
     "metadata": {},
     "execution_count": 31
    }
   ],
   "metadata": {}
  },
  {
   "cell_type": "code",
   "execution_count": 37,
   "source": [
    "from math import sin, cos, tan, radians\r\n",
    "degree = radians(int(input('Degree : ')))\r\n",
    "print(\"sin : {:0.2f}\\ncos : {:0.2f}\\ntan : {:0.2f}\".format(*list(map(lambda x: round(x, 2),\r\n",
    " [sin(degree), cos(degree), tan(degree)]))))"
   ],
   "outputs": [
    {
     "output_type": "stream",
     "name": "stdout",
     "text": [
      "sin : 0.50\n",
      "cos : 0.87\n",
      "tan : 0.58\n"
     ]
    }
   ],
   "metadata": {}
  },
  {
   "cell_type": "code",
   "execution_count": 51,
   "source": [
    "sus=input('Enter string : ')\r\n",
    "print(f\"\"\"align --- {sus.rjust(20,' ')} --- right\\nalign --- {sus.ljust(20,' ')} --- left\\nalign --- {sus.center(20,' ')} --- center\"\"\")"
   ],
   "outputs": [
    {
     "output_type": "stream",
     "name": "stdout",
     "text": [
      "align ---          dasojhdfiad --- right\n",
      "align --- dasojhdfiad          --- left\n",
      "align ---     dasojhdfiad      --- center\n"
     ]
    }
   ],
   "metadata": {}
  },
  {
   "cell_type": "code",
   "execution_count": 50,
   "source": [
    "sus=input('Enter string : ')\r\n",
    "print(f\"\"\"align --- {sus.rjust(20,' ')} --- right\\nalign --- {sus.ljust(20,' ')} --- left\\nalign --- {sus.ljust(20,' ')} --- center\"\"\")"
   ],
   "outputs": [
    {
     "output_type": "stream",
     "name": "stdout",
     "text": [
      "align ---               LoveOO --- right\n",
      "align --- LoveOO               --- left\n",
      "align --- LoveOO               --- center\n"
     ]
    }
   ],
   "metadata": {}
  },
  {
   "cell_type": "code",
   "execution_count": 42,
   "source": [
    "'HackerRank'.ljust(20,' ')"
   ],
   "outputs": [
    {
     "output_type": "execute_result",
     "data": {
      "text/plain": [
       "'HackerRank          '"
      ]
     },
     "metadata": {},
     "execution_count": 42
    }
   ],
   "metadata": {}
  },
  {
   "cell_type": "code",
   "execution_count": null,
   "source": [],
   "outputs": [],
   "metadata": {}
  }
 ],
 "metadata": {
  "interpreter": {
   "hash": "7b1d008208495c7be3031c5aa0ca9aaacfce102fc622673fbcab4f646f93a468"
  },
  "kernelspec": {
   "display_name": "Python 3.9.1 64-bit ('base': conda)",
   "name": "python3"
  },
  "language_info": {
   "codemirror_mode": {
    "name": "ipython",
    "version": 3
   },
   "file_extension": ".py",
   "mimetype": "text/x-python",
   "name": "python",
   "nbconvert_exporter": "python",
   "pygments_lexer": "ipython3",
   "version": "3.9.1"
  },
  "orig_nbformat": 4
 },
 "nbformat": 4,
 "nbformat_minor": 2
}