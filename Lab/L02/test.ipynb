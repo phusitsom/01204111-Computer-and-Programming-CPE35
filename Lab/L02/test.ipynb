{
 "cells": [
  {
   "cell_type": "code",
   "execution_count": 96,
   "metadata": {},
   "outputs": [
    {
     "name": "stdout",
     "output_type": "stream",
     "text": [
      "3\n",
      "15\n",
      "Total price is 2520 baht.\n"
     ]
    }
   ],
   "source": [
    "if input('Is Bulotelli injured?(y/n) ') == 'y': print('Not available')\r\n",
    "elif input('Is Bulotelli late for the training?(y/n) ') == 'n': print('Starter')\r\n",
    "elif input('Did Bulotelli perform well in training?(y/n) ') == 'y': print('Substitute')\r\n",
    "else: print('Not selected')\r\n"
   ]
  },
  {
   "cell_type": "code",
   "execution_count": null,
   "metadata": {},
   "outputs": [],
   "source": []
  }
 ],
 "metadata": {
  "interpreter": {
   "hash": "968e29893a66ab4b1e12471b6b0ebb8bfc0956b889bc1329fb2d605a77d02cfd"
  },
  "kernelspec": {
   "display_name": "Python 3.8.10 64-bit (conda)",
   "name": "python3"
  },
  "language_info": {
   "name": "python",
   "version": ""
  },
  "orig_nbformat": 4
 },
 "nbformat": 4,
 "nbformat_minor": 2
}