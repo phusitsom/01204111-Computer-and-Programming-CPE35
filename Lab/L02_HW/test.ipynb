{
 "cells": [
  {
   "cell_type": "code",
   "execution_count": 5,
   "source": [
    "x, y, p = list(int(input()) for i in range(3))\r\n",
    "i = 1\r\n",
    "while x <= y:\r\n",
    "  if x % p == 0: x += 11\r\n",
    "  else:\r\n",
    "    if i == 10:\r\n",
    "      print(f' {x}', end='\\n')\r\n",
    "      i = 0\r\n",
    "    elif i == 1:print(f'{x}', end = '')\r\n",
    "    else:print(f' {x}', end = '')\r\n",
    "    i, x = i+1, x+1"
   ],
   "outputs": [],
   "metadata": {}
  },
  {
   "cell_type": "code",
   "execution_count": null,
   "source": [],
   "outputs": [],
   "metadata": {}
  }
 ],
 "metadata": {
  "interpreter": {
   "hash": "7b1d008208495c7be3031c5aa0ca9aaacfce102fc622673fbcab4f646f93a468"
  },
  "kernelspec": {
   "display_name": "Python 3.9.1 64-bit ('base': conda)",
   "name": "python3"
  },
  "language_info": {
   "codemirror_mode": {
    "name": "ipython",
    "version": 3
   },
   "file_extension": ".py",
   "mimetype": "text/x-python",
   "name": "python",
   "nbconvert_exporter": "python",
   "pygments_lexer": "ipython3",
   "version": "3.9.1"
  },
  "orig_nbformat": 4
 },
 "nbformat": 4,
 "nbformat_minor": 2
}