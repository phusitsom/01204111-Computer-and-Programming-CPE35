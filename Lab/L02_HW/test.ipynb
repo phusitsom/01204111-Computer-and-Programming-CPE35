{
 "cells": [
  {
   "cell_type": "code",
   "execution_count": 8,
   "source": [
    "crush = int(input())\r\n",
    "for i in range(crush): print(' '*(crush-i-1) + 'O'*(2*i+1))"
   ],
   "outputs": [
    {
     "output_type": "stream",
     "name": "stdout",
     "text": [
      "    O\n",
      "   OOO\n",
      "  OOOOO\n",
      " OOOOOOO\n",
      "OOOOOOOOO\n"
     ]
    }
   ],
   "metadata": {}
  },
  {
   "cell_type": "code",
   "execution_count": 9,
   "source": [
    "crush = -(-int(input())//2)\r\n",
    "for i in range(crush): print(' '*(crush-i-1) + 'O'*(2*i+1))"
   ],
   "outputs": [
    {
     "output_type": "stream",
     "name": "stdout",
     "text": [
      "  O\n",
      " OOO\n",
      "OOOOO\n"
     ]
    }
   ],
   "metadata": {}
  },
  {
   "cell_type": "code",
   "execution_count": 1,
   "source": [
    "count,count_m,old_inp=1,0,''\r\n",
    "while True:\r\n",
    " inp=input()\r\n",
    " if inp=='0':break\r\n",
    " count = count+1 if inp==old_inp else 1\r\n",
    " old_inp=inp\r\n",
    " if count>count_m:count_m,mx=count,old_inp\r\n",
    "print(f'{count_m}\\n{mx}')"
   ],
   "outputs": [
    {
     "output_type": "stream",
     "name": "stdout",
     "text": [
      "4\n",
      "5\n"
     ]
    }
   ],
   "metadata": {}
  },
  {
   "cell_type": "code",
   "execution_count": null,
   "source": [],
   "outputs": [],
   "metadata": {}
  }
 ],
 "metadata": {
  "interpreter": {
   "hash": "7b1d008208495c7be3031c5aa0ca9aaacfce102fc622673fbcab4f646f93a468"
  },
  "kernelspec": {
   "display_name": "Python 3.9.1 64-bit ('base': conda)",
   "name": "python3"
  },
  "language_info": {
   "codemirror_mode": {
    "name": "ipython",
    "version": 3
   },
   "file_extension": ".py",
   "mimetype": "text/x-python",
   "name": "python",
   "nbconvert_exporter": "python",
   "pygments_lexer": "ipython3",
   "version": "3.9.1"
  },
  "orig_nbformat": 4
 },
 "nbformat": 4,
 "nbformat_minor": 2
}