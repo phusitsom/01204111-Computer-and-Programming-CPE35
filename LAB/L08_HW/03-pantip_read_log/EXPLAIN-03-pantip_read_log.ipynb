{
 "cells": [
  {
   "cell_type": "code",
   "execution_count": 28,
   "source": [
    "from pprint import pprint\r\n",
    "#แค่ให้ Output มันสวย"
   ],
   "outputs": [],
   "metadata": {}
  },
  {
   "cell_type": "markdown",
   "source": [
    "## Parse csv"
   ],
   "metadata": {}
  },
  {
   "cell_type": "markdown",
   "source": [
    "ทำข้อมูลให้อยู่ในรูปแบบ  dictionary\r\n",
    "\r\n",
    "```\r\n",
    "{'pf4unt4gz1T3NV1j7f7y': {'tvshow': 77,'supachalasai': 350,'sinthorn': 151,'social': 665,'food': 101,\r\n",
    "                        'blueplanet': 1059,'bangrak': 1249,'siam': 1179,'ratchada': 654,'isolate': 1018,'silom': 132,'home': 170,\r\n",
    "                        'lumpini': 522,'wahkor': 71,'beauty': 106,'library': 63,'chalermthai': 31,'korea': 11,'mbk': 40,\r\n",
    "                        'family': 142,'chalermkrung': 18,'klaibann': 29,'siliconvalley': 70,'region': 744,'cartoon': 11,\r\n",
    "                        'jatujak': 70,'rajdumnern': 326,'horoscope': 84,'religious': 42,'gallery': 82,'theoldsiam': 91,\r\n",
    "                        'camera': 54,'gadget': 63,'greenzone': 29,'art': 8,'writer': 0,'pantip': 14},\r\n",
    "                        \r\n",
    " 'p8lia9fzsE2mOvfbDUI': {'tvshow': 29,'supachalasai': 155,'sinthorn': 249,'social': 596,'food': 41,\r\n",
    "                        'blueplanet': 440,'bangrak': 120,'siam': 206,'ratchada': 2695,'isolate': 1,'silom': 122,'home': 74,\r\n",
    "                        'lumpini': 1169,'wahkor': 87,'beauty': 172,'library': 51,'chalermthai': 9,'korea': 8,'mbk': 1288,\r\n",
    "                        'family': 75,'chalermkrung': 19,'klaibann': 31,'siliconvalley': 216,'region': 285,'cartoon': 4,\r\n",
    "                        'jatujak': 18,'rajdumnern': 1069,'horoscope': 18,'religious': 15,'gallery': 21,'theoldsiam': 60,\r\n",
    "                        'camera': 38,'gadget': 94,'greenzone': 14,'art': 7,'writer': 0,'pantip': 5},\r\n",
    "  ...\r\n",
    "```\r\n",
    "\r\n",
    "มี key เป็น uid และมี value เป็น dictionary ของจำนวนการอ่านในแต่ละห้อง"
   ],
   "metadata": {}
  },
  {
   "cell_type": "markdown",
   "source": [
    "### อ่านไฟล์"
   ],
   "metadata": {}
  },
  {
   "cell_type": "code",
   "execution_count": 2,
   "source": [
    "with open(input('File name: ')) as file:\r\n",
    "    file_text = file.read()\r\n",
    "\r\n",
    "file_text[:1000]"
   ],
   "outputs": [
    {
     "output_type": "execute_result",
     "data": {
      "text/plain": [
       "'tvshow,supachalasai,sinthorn,social,food,blueplanet,bangrak,siam,ratchada,isolate,silom,home,lumpini,wahkor,beauty,library,chalermthai,korea,mbk,family,chalermkrung,klaibann,siliconvalley,region,cartoon,jatujak,rajdumnern,horoscope,religious,gallery,theoldsiam,camera,gadget,greenzone,art,writer,pantip,uid\\n77,350,151,665,101,1059,1249,1179,654,1018,132,170,522,71,106,63,31,11,40,142,18,29,70,744,11,70,326,84,42,82,91,54,63,29,8,0,14,pf4unt4gz1T3NV1j7f7y\\n29,155,249,596,41,440,120,206,2695,1,122,74,1169,87,172,51,9,8,1288,75,19,31,216,285,4,18,1069,18,15,21,60,38,94,14,7,0,5,p8lia9fzsE2mOvfbDUI\\n93,60,151,500,1246,1895,1884,905,364,119,199,163,304,99,140,73,23,100,37,140,45,207,29,405,16,61,6,22,28,36,44,25,13,36,11,4,4,opds77wgb22Jkw2tICy\\n194,35,142,313,1013,279,32,123,104,16,110,141,176,1250,60,447,493,1665,73,36,225,70,161,143,898,80,862,57,40,52,23,15,49,48,34,8,16,pg2fnj3jo8dmdEiZkx3\\n4512,145,204,316,158,119,169,162,115,488,224,152,206,270,117,353,305,113,82,112,246,104,93,82,66,72,21'"
      ]
     },
     "metadata": {},
     "execution_count": 2
    }
   ],
   "metadata": {}
  },
  {
   "cell_type": "markdown",
   "source": [
    "### split ออกมาแต่ละบรรทัด\r\n",
    "\r\n",
    "ใส่ไว้ในตัวแปร lines"
   ],
   "metadata": {}
  },
  {
   "cell_type": "code",
   "execution_count": 3,
   "source": [
    "lines = file_text.splitlines()\r\n",
    "\r\n",
    "lines[:4]"
   ],
   "outputs": [
    {
     "output_type": "execute_result",
     "data": {
      "text/plain": [
       "['tvshow,supachalasai,sinthorn,social,food,blueplanet,bangrak,siam,ratchada,isolate,silom,home,lumpini,wahkor,beauty,library,chalermthai,korea,mbk,family,chalermkrung,klaibann,siliconvalley,region,cartoon,jatujak,rajdumnern,horoscope,religious,gallery,theoldsiam,camera,gadget,greenzone,art,writer,pantip,uid',\n",
       " '77,350,151,665,101,1059,1249,1179,654,1018,132,170,522,71,106,63,31,11,40,142,18,29,70,744,11,70,326,84,42,82,91,54,63,29,8,0,14,pf4unt4gz1T3NV1j7f7y',\n",
       " '29,155,249,596,41,440,120,206,2695,1,122,74,1169,87,172,51,9,8,1288,75,19,31,216,285,4,18,1069,18,15,21,60,38,94,14,7,0,5,p8lia9fzsE2mOvfbDUI',\n",
       " '93,60,151,500,1246,1895,1884,905,364,119,199,163,304,99,140,73,23,100,37,140,45,207,29,405,16,61,6,22,28,36,44,25,13,36,11,4,4,opds77wgb22Jkw2tICy']"
      ]
     },
     "metadata": {},
     "execution_count": 3
    }
   ],
   "metadata": {}
  },
  {
   "cell_type": "markdown",
   "source": [
    "### เอาเฉพาะส่วนที่เป็นชื่อ column (บรรทัดแรกของ csv) มา ใส่ไว้ใน columns"
   ],
   "metadata": {}
  },
  {
   "cell_type": "code",
   "execution_count": 4,
   "source": [
    "columns = lines.pop(0).split(',')\r\n",
    "\r\n",
    "columns[:4]"
   ],
   "outputs": [
    {
     "output_type": "execute_result",
     "data": {
      "text/plain": [
       "['tvshow', 'supachalasai', 'sinthorn', 'social']"
      ]
     },
     "metadata": {},
     "execution_count": 4
    }
   ],
   "metadata": {}
  },
  {
   "cell_type": "markdown",
   "source": [
    "#### ทีนี้ในตัวแปรชื่อ lines จะเหลือแค่ส่วนที่เป็นข้อมูล เพราะส่วนชื่อ column ถูก pop ออกไปแล้ว"
   ],
   "metadata": {}
  },
  {
   "cell_type": "code",
   "execution_count": 5,
   "source": [
    "lines[:5]"
   ],
   "outputs": [
    {
     "output_type": "execute_result",
     "data": {
      "text/plain": [
       "['77,350,151,665,101,1059,1249,1179,654,1018,132,170,522,71,106,63,31,11,40,142,18,29,70,744,11,70,326,84,42,82,91,54,63,29,8,0,14,pf4unt4gz1T3NV1j7f7y',\n",
       " '29,155,249,596,41,440,120,206,2695,1,122,74,1169,87,172,51,9,8,1288,75,19,31,216,285,4,18,1069,18,15,21,60,38,94,14,7,0,5,p8lia9fzsE2mOvfbDUI',\n",
       " '93,60,151,500,1246,1895,1884,905,364,119,199,163,304,99,140,73,23,100,37,140,45,207,29,405,16,61,6,22,28,36,44,25,13,36,11,4,4,opds77wgb22Jkw2tICy',\n",
       " '194,35,142,313,1013,279,32,123,104,16,110,141,176,1250,60,447,493,1665,73,36,225,70,161,143,898,80,862,57,40,52,23,15,49,48,34,8,16,pg2fnj3jo8dmdEiZkx3',\n",
       " '4512,145,204,316,158,119,169,162,115,488,224,152,206,270,117,353,305,113,82,112,246,104,93,82,66,72,21,52,37,24,56,28,27,74,39,18,119,oiiu4v8hkFKpqfr3Qho']"
      ]
     },
     "metadata": {},
     "execution_count": 5
    }
   ],
   "metadata": {}
  },
  {
   "cell_type": "markdown",
   "source": [
    "### pop ชื่อ columnตัวสุดท้ายออก (เพราะเป็น uid)"
   ],
   "metadata": {}
  },
  {
   "cell_type": "code",
   "execution_count": 30,
   "source": [
    "columns.pop(-1)\r\n",
    "\r\n",
    "pprint(columns,compact=True)"
   ],
   "outputs": [
    {
     "output_type": "stream",
     "name": "stdout",
     "text": [
      "['tvshow', 'supachalasai', 'sinthorn', 'social', 'food', 'blueplanet',\n",
      " 'bangrak', 'siam', 'ratchada', 'isolate', 'silom', 'home', 'lumpini', 'wahkor',\n",
      " 'beauty', 'library', 'chalermthai', 'korea', 'mbk', 'family', 'chalermkrung',\n",
      " 'klaibann', 'siliconvalley', 'region', 'cartoon', 'jatujak', 'rajdumnern',\n",
      " 'horoscope', 'religious', 'gallery', 'theoldsiam', 'camera', 'gadget',\n",
      " 'greenzone', 'art']\n"
     ]
    }
   ],
   "metadata": {}
  },
  {
   "cell_type": "markdown",
   "source": [
    "### split แต่ละ row ด้วย **,** และใส่เข้าตัวแปรชื่อ rows"
   ],
   "metadata": {}
  },
  {
   "cell_type": "code",
   "execution_count": 36,
   "source": [
    "rows = [line.split(',') for line in lines]\r\n",
    "\r\n",
    "pprint(rows[:2],compact=True)"
   ],
   "outputs": [
    {
     "output_type": "stream",
     "name": "stdout",
     "text": [
      "[['77', '350', '151', '665', '101', '1059', '1249', '1179', '654', '1018',\n",
      "  '132', '170', '522', '71', '106', '63', '31', '11', '40', '142', '18', '29',\n",
      "  '70', '744', '11', '70', '326', '84', '42', '82', '91', '54', '63', '29', '8',\n",
      "  '0', '14', 'pf4unt4gz1T3NV1j7f7y'],\n",
      " ['29', '155', '249', '596', '41', '440', '120', '206', '2695', '1', '122',\n",
      "  '74', '1169', '87', '172', '51', '9', '8', '1288', '75', '19', '31', '216',\n",
      "  '285', '4', '18', '1069', '18', '15', '21', '60', '38', '94', '14', '7', '0',\n",
      "  '5', 'p8lia9fzsE2mOvfbDUI']]\n"
     ]
    }
   ],
   "metadata": {}
  },
  {
   "cell_type": "markdown",
   "source": [
    "### เอาส่วนที่เป็น uid ออกมาเก็บไว้ใน keys"
   ],
   "metadata": {}
  },
  {
   "cell_type": "code",
   "execution_count": 8,
   "source": [
    "keys = [row.pop(-1) for row in rows]"
   ],
   "outputs": [],
   "metadata": {}
  },
  {
   "cell_type": "markdown",
   "source": [
    "### แปลงค่าแต่ละตัวใน rows ให้เป็น int"
   ],
   "metadata": {}
  },
  {
   "cell_type": "code",
   "execution_count": 9,
   "source": [
    "rows = [tuple(map(int, row)) for row in rows]"
   ],
   "outputs": [],
   "metadata": {}
  },
  {
   "cell_type": "markdown",
   "source": [
    "### นำ keys และ rows มาต่อกัน ใส่ไว้ใน dictionary ชื่อว่า data"
   ],
   "metadata": {}
  },
  {
   "cell_type": "code",
   "execution_count": 10,
   "source": [
    "data = {}\r\n",
    "for key, row  in zip(keys,rows):\r\n",
    "        \r\n",
    "    data.update({key:dict(zip(columns,row))})"
   ],
   "outputs": [],
   "metadata": {}
  },
  {
   "cell_type": "markdown",
   "source": [
    "## 1. ข้อมูลมีทั้งหมดกี่บรรทัด (รวมheader)"
   ],
   "metadata": {}
  },
  {
   "cell_type": "code",
   "execution_count": 11,
   "source": [
    "len(data) + 1 \r\n",
    "# + 1 เพราะ lines.pop(0) ไปแล้ว "
   ],
   "outputs": [
    {
     "output_type": "execute_result",
     "data": {
      "text/plain": [
       "9901"
      ]
     },
     "metadata": {},
     "execution_count": 11
    }
   ],
   "metadata": {}
  },
  {
   "cell_type": "markdown",
   "source": [
    "## 2. ห้องไหนที่มีจำนวนการกดอ่านมากที่สุด\r\n"
   ],
   "metadata": {}
  },
  {
   "cell_type": "markdown",
   "source": [
    "ต้อง Transpose เพื่อหา sum ของแต่ละ column\r\n",
    "\r\n",
    "### Original\r\n",
    "```\r\n",
    "\r\n",
    "[tvshow,supachalasai,sinthorn,social]\r\n",
    "[77,350,151,665]\r\n",
    "[29,155,249,596]\r\n",
    "[93,60,151,500]\r\n",
    "...\r\n",
    "```\r\n",
    "### Transposed\r\n",
    "```\r\n",
    "\r\n",
    "tvshow [77, 29, 93, ...]\r\n",
    "supachalasai [350, 115, 60, ...]\r\n",
    "sinthorn [151, 249, 151, ...]\r\n",
    "social [665, 596, 500, ...]\r\n",
    "```"
   ],
   "metadata": {}
  },
  {
   "cell_type": "code",
   "execution_count": 12,
   "source": [
    "rows_T = tuple(zip(*rows))\r\n",
    "\r\n",
    "data_T = tuple(zip(columns, rows_T))"
   ],
   "outputs": [],
   "metadata": {}
  },
  {
   "cell_type": "markdown",
   "source": [
    "### เราสามารถหา ค่าที่มากที่สุดได้ด้วยหลายวิธี เช่น"
   ],
   "metadata": {}
  },
  {
   "cell_type": "code",
   "execution_count": 14,
   "source": [
    "sum_cols = []\r\n",
    "for column, values in data_T:\r\n",
    "    sum_cols.append((column,sum(values)))\r\n",
    "    \r\n",
    "for column, sum_val in sum_cols:\r\n",
    "    if sum_val == max([sum_col[1] for sum_col in sum_cols]):\r\n",
    "        print(column)"
   ],
   "outputs": [
    {
     "output_type": "stream",
     "name": "stdout",
     "text": [
      "tvshow\n"
     ]
    }
   ],
   "metadata": {}
  },
  {
   "cell_type": "markdown",
   "source": [
    "แต่มีวิธีที่ง่ายกว่านั้น คือการใช้ built_in_function ที่ชื่อว่า max ไปเลย\r\n",
    "\r\n",
    "โดยจะใส่ฟังก์ชั่นที่จะ return ค่าที่เราจะใช้เปรียบเทียบ ไว้ใน argument ที่ชื่อว่า key \r\n",
    "\r\n",
    "เช่น"
   ],
   "metadata": {}
  },
  {
   "cell_type": "markdown",
   "source": [
    "data_T เป็น tuple 2 มิติ มี column name อยู่ index ที่ 0 และมีจำนวนการอ่านอยู่ index ที่ 1\r\n",
    "```\r\n",
    "data_T = (('tvshow',(77,\r\n",
    "                    29,\r\n",
    "                    93,\r\n",
    "                    194,\r\n",
    "                    ...)),\r\n",
    "                    \r\n",
    "        ('supachalasai',(350,\r\n",
    "                        155,\r\n",
    "                        60,\r\n",
    "                        35,\r\n",
    "                        ...)),\r\n",
    "        ...)\r\n",
    "```\r\n",
    "\r\n",
    "ทีนี้เราต้องการหา max ด้วย sum ของ data_T index ที่ 1"
   ],
   "metadata": {}
  },
  {
   "cell_type": "code",
   "execution_count": 15,
   "source": [
    "def sum_val(items):\r\n",
    "    return sum(items[1])"
   ],
   "outputs": [],
   "metadata": {}
  },
  {
   "cell_type": "code",
   "execution_count": 27,
   "source": [
    "max(data_T, key= sum_val)[0]"
   ],
   "outputs": [
    {
     "output_type": "execute_result",
     "data": {
      "text/plain": [
       "'tvshow'"
      ]
     },
     "metadata": {},
     "execution_count": 27
    }
   ],
   "metadata": {}
  },
  {
   "cell_type": "markdown",
   "source": [
    "หรือ"
   ],
   "metadata": {}
  },
  {
   "cell_type": "code",
   "execution_count": 17,
   "source": [
    "max(data_T, key= lambda items: sum(items[1]))[0]"
   ],
   "outputs": [
    {
     "output_type": "execute_result",
     "data": {
      "text/plain": [
       "'tvshow'"
      ]
     },
     "metadata": {},
     "execution_count": 17
    }
   ],
   "metadata": {}
  },
  {
   "cell_type": "markdown",
   "source": [
    "##  3. ห้อง blueplanet มีการกดอ่านมากสุด3อันดับแรก เป็นจำนวนกี่ครั้ง\r\n"
   ],
   "metadata": {}
  },
  {
   "cell_type": "code",
   "execution_count": 42,
   "source": [
    "data_order_by_blueplanet_desc = sorted(data.values(), key= lambda items: items['blueplanet'], reverse= True)\r\n",
    "\r\n",
    "data_order_by_blueplanet_desc[0]"
   ],
   "outputs": [
    {
     "output_type": "execute_result",
     "data": {
      "text/plain": [
       "{'tvshow': 54,\n",
       " 'supachalasai': 101,\n",
       " 'sinthorn': 77,\n",
       " 'social': 153,\n",
       " 'food': 113,\n",
       " 'blueplanet': 3449,\n",
       " 'bangrak': 68,\n",
       " 'siam': 137,\n",
       " 'ratchada': 298,\n",
       " 'isolate': 59,\n",
       " 'silom': 80,\n",
       " 'home': 34,\n",
       " 'lumpini': 45,\n",
       " 'wahkor': 70,\n",
       " 'beauty': 52,\n",
       " 'library': 117,\n",
       " 'chalermthai': 42,\n",
       " 'korea': 115,\n",
       " 'mbk': 22,\n",
       " 'family': 19,\n",
       " 'chalermkrung': 9,\n",
       " 'klaibann': 982,\n",
       " 'siliconvalley': 12,\n",
       " 'region': 407,\n",
       " 'cartoon': 4,\n",
       " 'jatujak': 17,\n",
       " 'rajdumnern': 5,\n",
       " 'horoscope': 8,\n",
       " 'religious': 13,\n",
       " 'gallery': 39,\n",
       " 'theoldsiam': 43,\n",
       " 'camera': 24,\n",
       " 'gadget': 3,\n",
       " 'greenzone': 5,\n",
       " 'art': 7,\n",
       " 'writer': 0,\n",
       " 'pantip': 2}"
      ]
     },
     "metadata": {},
     "execution_count": 42
    }
   ],
   "metadata": {}
  },
  {
   "cell_type": "code",
   "execution_count": 19,
   "source": [
    "highest_blueplanet_3 = [str(row['blueplanet']) for row in data_order_by_blueplanet_desc][:3]\r\n",
    "\r\n",
    "' '.join(highest_blueplanet_3)"
   ],
   "outputs": [
    {
     "output_type": "execute_result",
     "data": {
      "text/plain": [
       "'3449 3160 2999'"
      ]
     },
     "metadata": {},
     "execution_count": 19
    }
   ],
   "metadata": {}
  },
  {
   "cell_type": "markdown",
   "source": [
    "## 4. user ไหนมีจำนวนการอ่านรวมทุกห้องมากที่สุด จำนวนกี่ครั้ง"
   ],
   "metadata": {}
  },
  {
   "cell_type": "code",
   "execution_count": 20,
   "source": [
    "max(data.items(), key= lambda items: sum(items[1].values()))[0]"
   ],
   "outputs": [
    {
     "output_type": "execute_result",
     "data": {
      "text/plain": [
       "'pf4unt4gz1T3NV1j7f7y'"
      ]
     },
     "metadata": {},
     "execution_count": 20
    }
   ],
   "metadata": {}
  },
  {
   "cell_type": "markdown",
   "source": [
    "## 5. user ไหนอ่านห้อง tvshow มากที่สุด เป็นจำนวนกี่ครั้ง"
   ],
   "metadata": {}
  },
  {
   "cell_type": "code",
   "execution_count": 21,
   "source": [
    "max(data.items(), key= lambda items: items[1]['tvshow'])[0]"
   ],
   "outputs": [
    {
     "output_type": "execute_result",
     "data": {
      "text/plain": [
       "'p3tlfimrqyaqg4PCxwT'"
      ]
     },
     "metadata": {},
     "execution_count": 21
    }
   ],
   "metadata": {}
  },
  {
   "cell_type": "markdown",
   "source": [
    "## 6. ห้อง korea มี user ที่กดอ่านมากกว่า 500 กระทู้ทั้งหมดกี่คน\r\n"
   ],
   "metadata": {}
  },
  {
   "cell_type": "code",
   "execution_count": 22,
   "source": [
    "sum(map(lambda val: val['korea']>500, data.values()))"
   ],
   "outputs": [
    {
     "output_type": "execute_result",
     "data": {
      "text/plain": [
       "287"
      ]
     },
     "metadata": {},
     "execution_count": 22
    }
   ],
   "metadata": {}
  },
  {
   "cell_type": "markdown",
   "source": [
    "## 7. มี user ที่่อ่านห้อง siam มากกว่า food กี่คน"
   ],
   "metadata": {}
  },
  {
   "cell_type": "code",
   "execution_count": 23,
   "source": [
    "sum(map(lambda val: val['siam']>val['food'], data.values()))"
   ],
   "outputs": [
    {
     "output_type": "execute_result",
     "data": {
      "text/plain": [
       "4959"
      ]
     },
     "metadata": {},
     "execution_count": 23
    }
   ],
   "metadata": {}
  },
  {
   "cell_type": "markdown",
   "source": [
    "## 8. user ไหนมีสัดส่วนการอ่านในห้อง rajdumnern มากที่สุด"
   ],
   "metadata": {}
  },
  {
   "cell_type": "code",
   "execution_count": 24,
   "source": [
    "max(data.items(), key= lambda items: items[1]['rajdumnern']/sum(items[1].values()))[0]"
   ],
   "outputs": [
    {
     "output_type": "execute_result",
     "data": {
      "text/plain": [
       "'osx28zi68qruN87x5ND'"
      ]
     },
     "metadata": {},
     "execution_count": 24
    }
   ],
   "metadata": {}
  },
  {
   "cell_type": "markdown",
   "source": [
    "## 9. user ที่มีสัดส่วนการอ่านใน 2 ห้อง มากกว่า 70% มีทั้งหมดกี่คน"
   ],
   "metadata": {}
  },
  {
   "cell_type": "code",
   "execution_count": 25,
   "source": [
    "sum(map(lambda val: sum(sorted(val.values(), reverse=True)[:2])/sum(val.values()) > 0.7, data.values()))"
   ],
   "outputs": [
    {
     "output_type": "execute_result",
     "data": {
      "text/plain": [
       "1422"
      ]
     },
     "metadata": {},
     "execution_count": 25
    }
   ],
   "metadata": {}
  },
  {
   "cell_type": "markdown",
   "source": [
    "## 10. user ที่ไม่อ่านห้อง pantip มีทั้งหมดกี่คน"
   ],
   "metadata": {}
  },
  {
   "cell_type": "code",
   "execution_count": 26,
   "source": [
    "sum(map(lambda val: val['pantip']==0, data.values()))"
   ],
   "outputs": [
    {
     "output_type": "execute_result",
     "data": {
      "text/plain": [
       "4494"
      ]
     },
     "metadata": {},
     "execution_count": 26
    }
   ],
   "metadata": {}
  }
 ],
 "metadata": {
  "orig_nbformat": 4,
  "language_info": {
   "name": "python",
   "version": "3.6.13",
   "mimetype": "text/x-python",
   "codemirror_mode": {
    "name": "ipython",
    "version": 3
   },
   "pygments_lexer": "ipython3",
   "nbconvert_exporter": "python",
   "file_extension": ".py"
  },
  "kernelspec": {
   "name": "python3",
   "display_name": "Python 3.6.13 64-bit ('elab': conda)"
  },
  "interpreter": {
   "hash": "15262249cecd0c034c45b0aceb2e43b93a727cfff4187e6d113c14ccbc84e387"
  }
 },
 "nbformat": 4,
 "nbformat_minor": 2
}