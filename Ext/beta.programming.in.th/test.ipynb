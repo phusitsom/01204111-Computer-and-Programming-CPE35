{
 "cells": [
  {
   "cell_type": "code",
   "execution_count": 15,
   "metadata": {},
   "outputs": [
    {
     "name": "stdout",
     "output_type": "stream",
     "text": [
      "6\n",
      "number [2, 3, 4, 5, 6, 7]\n",
      "2\n",
      "cut [2]\n",
      "cut [2, 4]\n",
      "cut [2, 4, 6]\n",
      "3\n",
      "number [3, 5, 7]\n",
      "3\n",
      "cut [2, 4, 6, 3]\n",
      "2\n",
      "number [5, 7]\n",
      "5\n",
      "cut [2, 4, 6, 3, 5]\n",
      "1\n",
      "number [7]\n",
      "7\n",
      "cut [2, 4, 6, 3, 5, 7]\n",
      "6\n"
     ]
    }
   ],
   "source": [
    "N, K = map(int,input().split())\r\n",
    "number = []\r\n",
    "cut = []\r\n",
    "for i in range(2, N+1, 1):\r\n",
    "    number.append(i)\r\n",
    "while len(number) != 0:\r\n",
    "    print(len(number))\r\n",
    "    P = min(number)\r\n",
    "    print('number',number)\r\n",
    "    print(P)\r\n",
    "    for i in number:\r\n",
    "        if i % P == 0:\r\n",
    "            number.remove(i)\r\n",
    "            cut.append(i)\r\n",
    "            print('cut',cut)\r\n",
    "print(cut[K-1])"
   ]
  }
 ],
 "metadata": {
  "interpreter": {
   "hash": "968e29893a66ab4b1e12471b6b0ebb8bfc0956b889bc1329fb2d605a77d02cfd"
  },
  "kernelspec": {
   "display_name": "Python 3.8.10 64-bit ('py38': conda)",
   "name": "python3"
  },
  "language_info": {
   "name": "python",
   "version": ""
  },
  "orig_nbformat": 4
 },
 "nbformat": 4,
 "nbformat_minor": 2
}