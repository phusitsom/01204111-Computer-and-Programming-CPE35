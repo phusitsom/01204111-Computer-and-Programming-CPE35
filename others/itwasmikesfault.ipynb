{
 "cells": [
  {
   "cell_type": "code",
   "execution_count": 1,
   "metadata": {},
   "outputs": [],
   "source": [
    "import requests, statistics\n",
    "data = (lambda x: [dict(zip( x[0].split(','),rec.split(','))) for rec in x[1:]])(requests.get('https://raw.githubusercontent.com/kuntoto/01204111_CPExx/main/lecture08/Countries.csv').text.split('\\r\\n'))\n",
    "datagay = (lambda x: [dict(zip( x[0].split(','),rec.split(','))) for rec in x[1:]])(requests.get('https://raw.githubusercontent.com/kuntoto/01204111_CPExx/main/lecture08/Cities.csv').text.split('\\n'))"
   ]
  },
  {
   "cell_type": "markdown",
   "metadata": {},
   "source": [
    "[Countries.csv](https://raw.githubusercontent.com/kuntoto/01204111_CPExx/main/lecture08/Countries.csv)\n",
    "## 1.Population of EU\n"
   ]
  },
  {
   "cell_type": "code",
   "execution_count": 2,
   "metadata": {},
   "outputs": [
    {
     "name": "stdout",
     "output_type": "stream",
     "text": [
      "505.27\n"
     ]
    }
   ],
   "source": [
    "print(f\"{sum([float(d['population']) for d in data if d['EU'] == 'yes']):.2f}\")"
   ]
  },
  {
   "cell_type": "markdown",
   "metadata": {},
   "source": [
    "## 2.Population by first letter of the country name [A,B,C,D,...] SORT BY COUNTRY NAME A->Z "
   ]
  },
  {
   "cell_type": "code",
   "execution_count": 3,
   "metadata": {},
   "outputs": [
    {
     "name": "stdout",
     "output_type": "stream",
     "text": [
      "A: 11.54\n",
      "B: 31.75\n",
      "C: 15.96\n",
      "D: 5.69\n",
      "E: 1.31\n",
      "F: 70.19\n",
      "G: 91.6\n",
      "H: 9.82\n",
      "I: 64.84\n",
      "K: 1.91\n",
      "L: 5.43\n",
      "M: 6.77\n",
      "N: 22.25\n",
      "P: 48.89\n",
      "R: 19.37\n",
      "S: 80.6\n",
      "T: 79.62\n",
      "U: 109.73\n"
     ]
    }
   ],
   "source": [
    "print(\"\\n\".join(map(lambda x: \": \".join(x),{letter:str(round(sum([float(row['population']) for row in data if row['country'].startswith(letter)]),2)) for letter in sorted(set(d['country'][0] for d in data))}.items())))"
   ]
  },
  {
   "cell_type": "markdown",
   "metadata": {},
   "source": [
    "## 3.Number of country that is by coastline (coastline = yes)"
   ]
  },
  {
   "cell_type": "code",
   "execution_count": 4,
   "metadata": {},
   "outputs": [
    {
     "name": "stdout",
     "output_type": "stream",
     "text": [
      "29\n"
     ]
    }
   ],
   "source": [
    "print(len([d for d in data if d['coastline'] == 'yes']))"
   ]
  },
  {
   "cell_type": "markdown",
   "metadata": {},
   "source": [
    "## 4.Countries with  population > 50 SORT BY POPULATION (DESCENDING ORDER) :linusbruh:"
   ]
  },
  {
   "cell_type": "code",
   "execution_count": 5,
   "metadata": {},
   "outputs": [
    {
     "name": "stdout",
     "output_type": "stream",
     "text": [
      "Germany: 80.68\n",
      "Turkey: 79.62\n",
      "United Kingdom: 65.11\n",
      "France: 64.67\n",
      "Italy: 59.8\n"
     ]
    }
   ],
   "source": [
    "print('\\n'.join(map(lambda x: ': '.join(x),sorted({d['country']:d['population'] for d in data if d['coastline'] == 'yes' and float(d['population']) > 50}.items(), key=lambda kv: kv[1], reverse=True))))"
   ]
  },
  {
   "cell_type": "markdown",
   "metadata": {},
   "source": [
    "[Cities.csv](https://raw.githubusercontent.com/kuntoto/01204111_CPExx/main/lecture08/Cities.csv)\n",
    "## 1.Mean temperature of each country"
   ]
  },
  {
   "cell_type": "code",
   "execution_count": 6,
   "metadata": {},
   "outputs": [
    {
     "name": "stdout",
     "output_type": "stream",
     "text": [
      "Albania: 15.18\n",
      "Andorra: 9.6\n",
      "Austria: 6.14\n",
      "Belarus: 5.95\n",
      "Belgium: 9.65\n",
      "Bosnia and Herzegovina: 9.6\n",
      "Bulgaria: 10.44\n",
      "Croatia: 10.87\n",
      "Czech Republic: 7.86\n",
      "Denmark: 7.62\n",
      "Estonia: 4.59\n",
      "Finland: 3.49\n",
      "France: 10.15\n",
      "Germany: 7.87\n",
      "Greece: 16.9\n",
      "Hungary: 9.6\n",
      "Ireland: 9.3\n",
      "Italy: 13.47\n",
      "Latvia: 5.27\n",
      "Lithuania: 6.14\n",
      "Macedonia: 9.36\n",
      "Moldova: 8.41\n",
      "Montenegro: 9.99\n",
      "Netherlands: 8.76\n",
      "Norway: 3.73\n",
      "Poland: 7.25\n",
      "Portugal: 14.47\n",
      "Romania: 9.22\n",
      "Serbia: 9.85\n",
      "Slovakia: 8.48\n",
      "Slovenia: 9.27\n",
      "Spain: 14.24\n",
      "Sweden: 3.59\n",
      "Switzerland: 7.25\n",
      "Turkey: 11.73\n",
      "Ukraine: 7.42\n",
      "United Kingdom: 8.65\n"
     ]
    }
   ],
   "source": [
    "print('\\n'.join(map(lambda x: ': '.join(x), sorted({country:str(round(statistics.mean([float(d['temperature']) for d in datagay if d['country'] == country]), 2)) for country in set(i['country'] for i in datagay)}.items(), key=lambda kv: kv[0]))))"
   ]
  },
  {
   "cell_type": "markdown",
   "metadata": {},
   "source": [
    "## 2.Mean temperature of EU"
   ]
  },
  {
   "cell_type": "code",
   "execution_count": 7,
   "metadata": {},
   "outputs": [
    {
     "name": "stdout",
     "output_type": "stream",
     "text": [
      "9.69\n"
     ]
    }
   ],
   "source": [
    "print(f\"{statistics.mean([float(tempd['temperature']) for tempd in datagay if tempd['country'] in [d['country'] for d in data if d['EU'] == 'yes']]):.2f}\")"
   ]
  },
  {
   "cell_type": "markdown",
   "metadata": {},
   "source": [
    "## 3.Standard Deviation of EU temperature"
   ]
  },
  {
   "cell_type": "code",
   "execution_count": 8,
   "metadata": {},
   "outputs": [
    {
     "name": "stdout",
     "output_type": "stream",
     "text": [
      "3.66\n"
     ]
    }
   ],
   "source": [
    "print(f\"{statistics.stdev([float(tempd['temperature']) for tempd in datagay if tempd['country'] in [d['country'] for d in data if d['EU'] == 'yes']]):.2f}\")"
   ]
  }
 ],
 "metadata": {
  "interpreter": {
   "hash": "60b38853a872525f5db1ed72f1415436bd4f970e0d5b34e15fa67281eec655ea"
  },
  "kernelspec": {
   "display_name": "Python 3.9.6 64-bit ('data': conda)",
   "name": "python3"
  },
  "language_info": {
   "codemirror_mode": {
    "name": "ipython",
    "version": 3
   },
   "file_extension": ".py",
   "mimetype": "text/x-python",
   "name": "python",
   "nbconvert_exporter": "python",
   "pygments_lexer": "ipython3",
   "version": "3.9.6"
  },
  "orig_nbformat": 4
 },
 "nbformat": 4,
 "nbformat_minor": 2
}
