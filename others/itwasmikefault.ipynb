{
 "cells": [
  {
   "cell_type": "code",
   "execution_count": 1,
   "source": [
    "import requests, statistics\r\n",
    "data = (lambda x: [dict(zip( x[0].split(','),rec.split(','))) for rec in x[1:]])(requests.get('https://raw.githubusercontent.com/kuntoto/01204111_CPExx/main/lecture08/Countries.csv').text.split('\\r\\n'))\r\n",
    "datagay = (lambda x: [dict(zip( x[0].split(','),rec.split(','))) for rec in x[1:]])(requests.get('https://raw.githubusercontent.com/kuntoto/01204111_CPExx/main/lecture08/Cities.csv').text.split('\\n'))\r\n"
   ],
   "outputs": [],
   "metadata": {}
  },
  {
   "cell_type": "code",
   "execution_count": 2,
   "source": [
    "print(f\"{sum([float(d['population']) for d in data if d['EU'] == 'yes']):.2f}\")"
   ],
   "outputs": [
    {
     "output_type": "stream",
     "name": "stdout",
     "text": [
      "505.27\n"
     ]
    }
   ],
   "metadata": {}
  },
  {
   "cell_type": "code",
   "execution_count": 3,
   "source": [
    "print(\"\\n\".join(map(lambda x: \": \".join(x),{letter:str(round(sum([float(row['population']) for row in data if row['country'].startswith(letter)]),2)) for letter in sorted(set(d['country'][0] for d in data))}.items())))"
   ],
   "outputs": [
    {
     "output_type": "stream",
     "name": "stdout",
     "text": [
      "A: 11.54\n",
      "B: 31.75\n",
      "C: 15.96\n",
      "D: 5.69\n",
      "E: 1.31\n",
      "F: 70.19\n",
      "G: 91.6\n",
      "H: 9.82\n",
      "I: 64.84\n",
      "K: 1.91\n",
      "L: 5.43\n",
      "M: 6.77\n",
      "N: 22.25\n",
      "P: 48.89\n",
      "R: 19.37\n",
      "S: 80.6\n",
      "T: 79.62\n",
      "U: 109.73\n"
     ]
    }
   ],
   "metadata": {}
  },
  {
   "cell_type": "code",
   "execution_count": 4,
   "source": [
    "print(len([d for d in data if d['coastline'] == 'yes']))"
   ],
   "outputs": [
    {
     "output_type": "stream",
     "name": "stdout",
     "text": [
      "29\n"
     ]
    }
   ],
   "metadata": {}
  },
  {
   "cell_type": "code",
   "execution_count": 5,
   "source": [
    "print('\\n'.join(map(lambda x: ': '.join(x),sorted({d['country']:d['population'] for d in data if d['coastline'] == 'yes' and float(d['population']) > 50}.items(), key=lambda kv: kv[1], reverse=True))))"
   ],
   "outputs": [
    {
     "output_type": "stream",
     "name": "stdout",
     "text": [
      "Germany: 80.68\n",
      "Turkey: 79.62\n",
      "United Kingdom: 65.11\n",
      "France: 64.67\n",
      "Italy: 59.8\n"
     ]
    }
   ],
   "metadata": {}
  },
  {
   "cell_type": "code",
   "execution_count": 6,
   "source": [
    "print('\\n'.join(map(lambda x: ': '.join(x), sorted({country:str(round(statistics.mean([float(d['temperature']) for d in datagay if d['country'] == country]), 2)) for country in set(i['country'] for i in datagay)}.items(), key=lambda kv: kv[0]))))"
   ],
   "outputs": [
    {
     "output_type": "stream",
     "name": "stdout",
     "text": [
      "Albania: 15.18\n",
      "Andorra: 9.6\n",
      "Austria: 6.14\n",
      "Belarus: 5.95\n",
      "Belgium: 9.65\n",
      "Bosnia and Herzegovina: 9.6\n",
      "Bulgaria: 10.44\n",
      "Croatia: 10.87\n",
      "Czech Republic: 7.86\n",
      "Denmark: 7.62\n",
      "Estonia: 4.59\n",
      "Finland: 3.49\n",
      "France: 10.15\n",
      "Germany: 7.87\n",
      "Greece: 16.9\n",
      "Hungary: 9.6\n",
      "Ireland: 9.3\n",
      "Italy: 13.47\n",
      "Latvia: 5.27\n",
      "Lithuania: 6.14\n",
      "Macedonia: 9.36\n",
      "Moldova: 8.41\n",
      "Montenegro: 9.99\n",
      "Netherlands: 8.76\n",
      "Norway: 3.73\n",
      "Poland: 7.25\n",
      "Portugal: 14.47\n",
      "Romania: 9.22\n",
      "Serbia: 9.85\n",
      "Slovakia: 8.48\n",
      "Slovenia: 9.27\n",
      "Spain: 14.24\n",
      "Sweden: 3.59\n",
      "Switzerland: 7.25\n",
      "Turkey: 11.73\n",
      "Ukraine: 7.42\n",
      "United Kingdom: 8.65\n"
     ]
    }
   ],
   "metadata": {}
  },
  {
   "cell_type": "code",
   "execution_count": 7,
   "source": [
    "print(f\"{statistics.mean([float(tempd['temperature']) for tempd in datagay if tempd['country'] in [d['country'] for d in data if d['EU'] == 'yes']]):.2f}\")"
   ],
   "outputs": [
    {
     "output_type": "stream",
     "name": "stdout",
     "text": [
      "9.69\n"
     ]
    }
   ],
   "metadata": {}
  },
  {
   "cell_type": "code",
   "execution_count": 8,
   "source": [
    "print(f\"{statistics.stdev([float(tempd['temperature']) for tempd in datagay if tempd['country'] in [d['country'] for d in data if d['EU'] == 'yes']]):.2f}\")"
   ],
   "outputs": [
    {
     "output_type": "stream",
     "name": "stdout",
     "text": [
      "3.66\n"
     ]
    }
   ],
   "metadata": {}
  }
 ],
 "metadata": {
  "orig_nbformat": 4,
  "language_info": {
   "name": "python",
   "version": "3.9.6",
   "mimetype": "text/x-python",
   "codemirror_mode": {
    "name": "ipython",
    "version": 3
   },
   "pygments_lexer": "ipython3",
   "nbconvert_exporter": "python",
   "file_extension": ".py"
  },
  "kernelspec": {
   "name": "python3",
   "display_name": "Python 3.9.6 64-bit ('py39': conda)"
  },
  "interpreter": {
   "hash": "d0f41737ecf488f5f05af2ad007a8e021a9d275c1cdf9d82f1cf7892228f0d8d"
  }
 },
 "nbformat": 4,
 "nbformat_minor": 2
}