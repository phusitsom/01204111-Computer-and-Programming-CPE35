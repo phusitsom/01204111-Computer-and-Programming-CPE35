{
  "nbformat": 4,
  "nbformat_minor": 2,
  "metadata": {
    "colab": {
      "name": "[Dataset1]ภูศิษฐ์สมบูรณ์ยิ่งสุข.ipynb",
      "provenance": [],
      "collapsed_sections": [
        "ahP6T9sURwBx"
      ],
      "toc_visible": true
    },
    "kernelspec": {
      "name": "python3",
      "display_name": "Python 3.8.8 64-bit ('base': conda)"
    },
    "language_info": {
      "name": "python",
      "version": "3.8.8",
      "mimetype": "text/x-python",
      "codemirror_mode": {
        "name": "ipython",
        "version": 3
      },
      "pygments_lexer": "ipython3",
      "nbconvert_exporter": "python",
      "file_extension": ".py"
    },
    "interpreter": {
      "hash": "93aba368ad999e0ef1745a46e51e4eea8804cbe14913d6f919518901ff0dbb6d"
    }
  },
  "cells": [
    {
      "cell_type": "markdown",
      "source": [
        "# **Wholesale Dataset**\r\n"
      ],
      "metadata": {
        "id": "AqVlL-qo4TGw"
      }
    },
    {
      "cell_type": "markdown",
      "source": [
        "ไฟล์ \"Wholesale customers data.csv\" (download จาก https://archive.ics.uci.edu/ml/machine-learning-databases/00292/) เป็นข้อมูลเกี่ยวกับยอดการขายสินค้าประเภทต่างๆ ในแต่ละภูมิภาค ผ่าน 2 ช่องทาง คือ Horeca (Hotel/Restaurant/Cafe) หรือ Retail จาก UCI Machine Learning Repository โดยแถวแรกเป็นชื่อคอลัมน์ และ แถวที่ 2 เป็นต้นไปเก็บข้อมูล\r\n",
        "\r\n",
        "ประเภทของสินค้า คือ fresh products, milk products, grocery products, forzen products, detergents and papers และ delicatessen\r\n",
        "\r\n",
        "คอลัมน์ CHANNEL เป็นช่องทางการขาย ที่มีค่าเป็น Horeca (Hotel/Restaurant/Cafe) หรือ Retail (1,2)\r\n",
        "คอลัมน์ REGION: เป็นภูมิภาค ได้แก่ Lisnon, Oporto หรือ Other (1,2,3)\r\n",
        "คอลัมน์ FRESH, MILK, GROCERY, FROZEN, DETERGENTS_PAPER, DELICATESSEN เป็นยอดขายของสินค้าแต่ละประเภทในภูมิภาคนั้น ผ่านช่องทางนั้นในหนึ่งปี"
      ],
      "metadata": {
        "id": "HKlQ-GXH4aY4"
      }
    },
    {
      "cell_type": "markdown",
      "source": [
        "\n",
        "\n",
        "1) เขียนโปรแกรมเพื่อแปลงข้อมูลช่องทางการขายและภูมิภาค จากตัวเลขให้เป็นชื่อของแต่ละช่องทางการขายและภูมิภาคนั้น ๆ จากนั้นบันทึกเป็นไฟล์ใหม่ที่มีชื่อว่า Rename_Wholesale.csv โดยจะใช้ไฟล์นี้เป็นหลักในข้อถัดไป\n",
        "\n",
        "2) เขียนโปรแกรมเพื่อหายอดขายรวมจากทุกช่องทาง ในทุกภูมิภาค สำหรับสินค้าแต่ละประเภทแล้ววาด pie chart\n",
        "\n",
        "3) เขียนโปรแกรมเพื่อหายอดขายรวมของสินค้าทุกประเภท ในทุกช่องทาง สำหรับแต่ละภูมิภาคแล้ววาด pie chart\n",
        "\n",
        "4) เขียนโปรแกรมเพื่อหายอดขายรวมของสินค้าสำหรับทำความสะอาดในแต่ละช่องทางการขาย โดยแบ่งเป็นของแต่ละภูมิภาค พร้อมพล็อตกราฟของแต่ละภูมิภาค\n",
        "\n",
        "5) เขียนโปรแกรมเพื่อหาจำนวนคนที่ยอดขายของอาหารสดรวมกับอาหารแช่แข็งผ่านช่องทาง Horeca(Hotel/Restaurant/Cafe) ไม่เกิน 1,000 ชิ้น\n",
        "\n",
        "6) เขียนโปรแกรมเพื่อหาภูมิภาคที่มีการบริโภคนมมากที่สุด และในภูมิภาคนั้นมีการบริโภคนมมากกว่าอาหารสดทั้งหมดกี่คน"
      ],
      "metadata": {
        "id": "aWHc1kgj_HFZ"
      }
    },
    {
      "cell_type": "markdown",
      "source": [
        "## 0) Prepare data"
      ],
      "metadata": {
        "id": "lDjB-zkv1xaZ"
      }
    },
    {
      "cell_type": "code",
      "execution_count": 1,
      "source": [
        "with open('wholesale.csv') as file:\r\n",
        "    rows = list(map(lambda x: tuple(x.split(',')),file.read().splitlines()))\r\n",
        "key = rows.pop(0)\r\n",
        "\r\n",
        "data = [dict(zip(key,tuple(map(int,row)))) for row in rows]"
      ],
      "outputs": [],
      "metadata": {
        "id": "MqIGZH1k12MZ"
      }
    },
    {
      "cell_type": "code",
      "execution_count": 2,
      "source": [
        "data[0]"
      ],
      "outputs": [
        {
          "output_type": "execute_result",
          "data": {
            "text/plain": [
              "{'Channel': 2,\n",
              " 'Region': 3,\n",
              " 'Fresh': 12669,\n",
              " 'Milk': 9656,\n",
              " 'Grocery': 7561,\n",
              " 'Frozen': 214,\n",
              " 'Detergents_Paper': 2674,\n",
              " 'Delicassen': 1338}"
            ]
          },
          "metadata": {},
          "execution_count": 2
        }
      ],
      "metadata": {}
    },
    {
      "cell_type": "markdown",
      "source": [
        "## 1) แปลงข้อมูลช่องทางการขายและภูมิภาค จากตัวเลขให้เป็นชื่อของแต่ละช่องทางการขายและภูมิภาคนั้น ๆ "
      ],
      "metadata": {
        "id": "RxkLg42e_4XV"
      }
    },
    {
      "cell_type": "markdown",
      "source": [
        "คอลัมน์ CHANNEL เป็นช่องทางการขาย ที่มีค่าเป็น Horeca (Hotel/Restaurant/Cafe) หรือ Retail (1,2)\r\n",
        "\r\n",
        "คอลัมน์ REGION: เป็นภูมิภาค ได้แก่ Lisnon, Oporto หรือ Other (1,2,3)"
      ],
      "metadata": {}
    },
    {
      "cell_type": "code",
      "execution_count": 3,
      "source": [
        "CHANNEL_NAME = (None, 'Horeca', 'Retail')\r\n",
        "REGION_NAME = (None, 'Lisnon', 'Oporto', 'Other')"
      ],
      "outputs": [],
      "metadata": {}
    },
    {
      "cell_type": "code",
      "execution_count": 4,
      "source": [
        "for row in data:\r\n",
        "    row['Channel'] = CHANNEL_NAME[row['Channel']]\r\n",
        "    row['Region'] = REGION_NAME[row['Region']]"
      ],
      "outputs": [],
      "metadata": {}
    },
    {
      "cell_type": "code",
      "execution_count": 5,
      "source": [
        "data[0]"
      ],
      "outputs": [
        {
          "output_type": "execute_result",
          "data": {
            "text/plain": [
              "{'Channel': 'Retail',\n",
              " 'Region': 'Other',\n",
              " 'Fresh': 12669,\n",
              " 'Milk': 9656,\n",
              " 'Grocery': 7561,\n",
              " 'Frozen': 214,\n",
              " 'Detergents_Paper': 2674,\n",
              " 'Delicassen': 1338}"
            ]
          },
          "metadata": {},
          "execution_count": 5
        }
      ],
      "metadata": {}
    },
    {
      "cell_type": "markdown",
      "source": [
        "## 2) หายอดขายรวมจากทุกช่องทาง ในทุกภูมิภาค สำหรับสินค้าแต่ละประเภท\r\n",
        "\r\n"
      ],
      "metadata": {
        "id": "E-ZHAoStLxBv"
      }
    },
    {
      "cell_type": "markdown",
      "source": [
        "```\r\n",
        "Fresh               5280131             \r\n",
        "Milk                2550357             \r\n",
        "Grocery             3498562             \r\n",
        "Frozen              1351650             \r\n",
        "Detergents_Paper    1267857             \r\n",
        "Delicassen          670943 \r\n",
        "```"
      ],
      "metadata": {}
    },
    {
      "cell_type": "code",
      "execution_count": 34,
      "source": [
        "sum_groupby_product = {}"
      ],
      "outputs": [],
      "metadata": {}
    },
    {
      "cell_type": "code",
      "execution_count": 35,
      "source": [
        "for i, row in enumerate(data):\r\n",
        "    items = tuple(row.items())\r\n",
        "    products = items[2:]\r\n",
        "    \r\n",
        "    if i == 0:\r\n",
        "        for product in products:\r\n",
        "            sum_groupby_product.setdefault(product[0],0)\r\n",
        "    \r\n",
        "    for product in products:\r\n",
        "        sum_groupby_product[product[0]] += product[1]\r\n"
      ],
      "outputs": [],
      "metadata": {}
    },
    {
      "cell_type": "code",
      "execution_count": 88,
      "source": [
        "for item in sum_groupby_product.items():\r\n",
        "    print(f\"{item[0]:<20}{item[1]:<20}\")"
      ],
      "outputs": [
        {
          "output_type": "stream",
          "name": "stdout",
          "text": [
            "Fresh               5280131             \n",
            "Milk                2550357             \n",
            "Grocery             3498562             \n",
            "Frozen              1351650             \n",
            "Detergents_Paper    1267857             \n",
            "Delicassen          670943              \n"
          ]
        }
      ],
      "metadata": {}
    },
    {
      "cell_type": "markdown",
      "source": [
        "## 3) หายอดขายรวมของสินค้าทุกประเภท ในทุกช่องทาง สำหรับแต่ละภูมิภาค"
      ],
      "metadata": {
        "id": "KEzo9D08zUI7"
      }
    },
    {
      "cell_type": "markdown",
      "source": [
        "```\r\n",
        "Other 10677599\r\n",
        "Lisnon 2386813\r\n",
        "Oporto 1555088\r\n",
        "```"
      ],
      "metadata": {}
    },
    {
      "cell_type": "code",
      "execution_count": 58,
      "source": [
        "sum_groupby_region = {}"
      ],
      "outputs": [],
      "metadata": {}
    },
    {
      "cell_type": "code",
      "execution_count": 59,
      "source": [
        "for row in data:\r\n",
        "    \r\n",
        "    region = row['Region']\r\n",
        "    \r\n",
        "    if region not in sum_groupby_region:\r\n",
        "        sum_groupby_region.setdefault(region,0)\r\n",
        "        \r\n",
        "    sum_groupby_region[region] += sum([product for product in list(row.values())[2:]])"
      ],
      "outputs": [],
      "metadata": {}
    },
    {
      "cell_type": "code",
      "execution_count": 89,
      "source": [
        "for key,  val in sum_groupby_region.items():\r\n",
        "    print(f\"{key:<20}{val:<20}\")"
      ],
      "outputs": [
        {
          "output_type": "stream",
          "name": "stdout",
          "text": [
            "Other               10677599            \n",
            "Lisnon              2386813             \n",
            "Oporto              1555088             \n"
          ]
        }
      ],
      "metadata": {
        "id": "6ax5O7XGDFXs",
        "colab": {
          "base_uri": "https://localhost:8080/",
          "height": 542
        },
        "outputId": "51d17c8a-eab7-4fe2-91bd-679e10f8cfdd"
      }
    },
    {
      "cell_type": "markdown",
      "source": [
        "## 4) เขียนโปรแกรมเพื่อหายอดขายรวมของสินค้าสำหรับทำความสะอาด(Detergents_Paper) ในแต่ละช่องทางการขาย โดยแบ่งเป็นของแต่ละภูมิภาค"
      ],
      "metadata": {
        "id": "9QWd21l29blB"
      }
    },
    {
      "cell_type": "markdown",
      "source": [
        "```\r\n",
        "Other\r\n",
        "Horeca 165990\r\n",
        "Retail 724420\r\n",
        "\r\n",
        "Lisnon\r\n",
        "Horeca 56081\r\n",
        "Retail 148055\r\n",
        "\r\n",
        "Oporto\r\n",
        "Horeca 13516\r\n",
        "Retail 159795\r\n",
        "```"
      ],
      "metadata": {}
    },
    {
      "cell_type": "code",
      "execution_count": 91,
      "source": [
        "detergents_gb_region_channel = {}"
      ],
      "outputs": [],
      "metadata": {}
    },
    {
      "cell_type": "code",
      "execution_count": 94,
      "source": [
        "for row in data:\r\n",
        "    \r\n",
        "    channel = row['Channel']\r\n",
        "    region = row['Region']\r\n",
        "    \r\n",
        "    detergents_paper = row['Detergents_Paper']\r\n",
        "    \r\n",
        "    if region not in detergents_gb_region_channel:\r\n",
        "        detergents_gb_region_channel.setdefault(region,{})\r\n",
        "        \r\n",
        "    if channel not in detergents_gb_region_channel[region]:\r\n",
        "        detergents_gb_region_channel[region].setdefault(channel,0)\r\n",
        "        \r\n",
        "    detergents_gb_region_channel[region][channel] += detergents_paper"
      ],
      "outputs": [],
      "metadata": {}
    },
    {
      "cell_type": "code",
      "execution_count": 103,
      "source": [
        "for region, val in detergents_gb_region_channel.items():\r\n",
        "    print(region)\r\n",
        "    for channel, dt in sorted(val.items(), key= lambda x: x[0]):\r\n",
        "        print(f\"{channel:<10}{dt}\")\r\n",
        "    print()"
      ],
      "outputs": [
        {
          "output_type": "stream",
          "name": "stdout",
          "text": [
            "Other\n",
            "Horeca    165990\n",
            "Retail    724420\n",
            "\n",
            "Lisnon\n",
            "Horeca    56081\n",
            "Retail    148055\n",
            "\n",
            "Oporto\n",
            "Horeca    13516\n",
            "Retail    159795\n",
            "\n"
          ]
        }
      ],
      "metadata": {}
    },
    {
      "cell_type": "markdown",
      "source": [
        "## 5) จำนวนคนที่ยอดขายของอาหารสดรวมกับอาหารแช่แข็งผ่านช่องทาง Horeca(Hotel/Restaurant/Cafe) ไม่เกิน 1,000 ชิ้น"
      ],
      "metadata": {
        "id": "Slm38QqAL-RI"
      }
    },
    {
      "cell_type": "markdown",
      "source": [
        "```\r\n",
        "10\r\n",
        "```"
      ],
      "metadata": {}
    },
    {
      "cell_type": "code",
      "execution_count": 106,
      "source": [
        "sum(map(lambda item: (item['Fresh']+item['Frozen'])<=1000 if item['Channel'] == 'Horeca' else 0 ,data))"
      ],
      "outputs": [
        {
          "output_type": "execute_result",
          "data": {
            "text/plain": [
              "10"
            ]
          },
          "metadata": {},
          "execution_count": 106
        }
      ],
      "metadata": {
        "id": "B4zcE7fen-fE",
        "colab": {
          "base_uri": "https://localhost:8080/",
          "height": 34
        },
        "outputId": "7cb693f3-563e-45dc-ce1b-61ac4d1e57fd"
      }
    },
    {
      "cell_type": "markdown",
      "source": [
        "## 6) เขียนโปรแกรมเพื่อหาภูมิภาคที่มีการบริโภค นม มากที่สุด และในภูมิภาคนั้นมีการบริโภค นม มากกว่าอาหารสดทั้งหมดกี่คน"
      ],
      "metadata": {
        "id": "4bjUuOtxP2ui"
      }
    },
    {
      "cell_type": "markdown",
      "source": [
        "```\r\n",
        "ภูมิภาคที่มีการบริโภค นม มากที่สุด\r\n",
        "Other: 1888759\r\n",
        "\r\n",
        "ภูมิภาคนั้นมีการบริโภค นม มากกว่าอาหารสดทั้งหมดกี่คน\r\n",
        "107\r\n",
        "```"
      ],
      "metadata": {}
    },
    {
      "cell_type": "code",
      "execution_count": 110,
      "source": [
        "sum_milk_gb_region = {} "
      ],
      "outputs": [],
      "metadata": {}
    },
    {
      "cell_type": "code",
      "execution_count": 113,
      "source": [
        "for item in data:\r\n",
        "    \r\n",
        "    region = item['Region']\r\n",
        "                  \r\n",
        "    milk = item['Milk']\r\n",
        "    \r\n",
        "    if region not in sum_milk_gb_region:\r\n",
        "        sum_milk_gb_region.setdefault(region,0)\r\n",
        "        \r\n",
        "    sum_milk_gb_region[region] += milk"
      ],
      "outputs": [],
      "metadata": {}
    },
    {
      "cell_type": "code",
      "execution_count": 116,
      "source": [
        "max(sum_milk_gb_region.items(), key= lambda x: x[1])"
      ],
      "outputs": [
        {
          "output_type": "execute_result",
          "data": {
            "text/plain": [
              "('Other', 1888759)"
            ]
          },
          "metadata": {},
          "execution_count": 116
        }
      ],
      "metadata": {}
    },
    {
      "cell_type": "code",
      "execution_count": 119,
      "source": [
        "sum(map(lambda item: item['Region']=='Other' and item['Milk'] > item['Fresh'] ,data))"
      ],
      "outputs": [
        {
          "output_type": "execute_result",
          "data": {
            "text/plain": [
              "107"
            ]
          },
          "metadata": {},
          "execution_count": 119
        }
      ],
      "metadata": {}
    }
  ]
}