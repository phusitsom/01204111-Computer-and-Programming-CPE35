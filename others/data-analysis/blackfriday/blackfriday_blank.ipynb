{
  "nbformat": 4,
  "nbformat_minor": 2,
  "metadata": {
    "colab": {
      "name": "[Dataset4]ภูศิษฐ์สมบูรณ์ยิ่งสุข.ipynb",
      "provenance": [],
      "collapsed_sections": []
    },
    "kernelspec": {
      "name": "python3",
      "display_name": "Python 3.8.8 64-bit ('base': conda)"
    },
    "language_info": {
      "name": "python",
      "version": "3.8.8",
      "mimetype": "text/x-python",
      "codemirror_mode": {
        "name": "ipython",
        "version": 3
      },
      "pygments_lexer": "ipython3",
      "nbconvert_exporter": "python",
      "file_extension": ".py"
    },
    "interpreter": {
      "hash": "93aba368ad999e0ef1745a46e51e4eea8804cbe14913d6f919518901ff0dbb6d"
    }
  },
  "cells": [
    {
      "cell_type": "markdown",
      "source": [
        "## ขี้เกียจเขียน ดู data เอาเอง"
      ],
      "metadata": {}
    },
    {
      "cell_type": "markdown",
      "source": [
        "# blackfriday.csv\r\n",
        "\r\n",
        "|   User_ID | Product_ID   | Gender   | Age   |   Occupation | City_Category   |   Stay_In_Current_City_Years |   Marital_Status |   Product_Category_1 |   Product_Category_2 |   Product_Category_3 |   Purchase |\r\n",
        "|----------:|:-------------|:---------|:------|-------------:|:----------------|-----------------------------:|-----------------:|---------------------:|---------------------:|---------------------:|-----------:|\r\n",
        "|   1003896 | P00125942    | M        | 36-45 |            0 | B               |                            2 |                0 |                    1 |                    2 |                   15 |      15404 |\r\n",
        "|   1003057 | P00157542    | F        | 26-35 |           12 | B               |                            1 |                0 |                    8 |                   14 |                  nan |       7896 |\r\n",
        "|   1003491 | P00280842    | M        | 26-35 |           16 | B               |                            1 |                0 |                    1 |                    8 |                  nan |      15598 |\r\n",
        "|   1005950 | P00196442    | M        | 26-35 |            4 | B               |                            2 |                1 |                    5 |                  nan |                  nan |       3668 |\r\n",
        "|   1005162 | P00274942    | M        | 26-35 |           17 | A               |                            1 |                1 |                    8 |                  nan |                  nan |       7766 |\r\n",
        "\r\n",
        "# *...*"
      ],
      "metadata": {}
    },
    {
      "cell_type": "markdown",
      "source": [
        "## Preprocess"
      ],
      "metadata": {}
    },
    {
      "cell_type": "code",
      "execution_count": 2,
      "source": [],
      "outputs": [],
      "metadata": {
        "id": "GTc99Tg29id9"
      }
    },
    {
      "cell_type": "markdown",
      "source": [
        "## 1. \r\n",
        "ใน dataset มีการเก็บรายการใช้จ่ายของ User เป็นจำนวนทั้งหมดกี่คน"
      ],
      "metadata": {
        "id": "5IdsH_lp-dOp"
      }
    },
    {
      "cell_type": "markdown",
      "source": [
        "```\r\n",
        "5891 คน\r\n",
        "```"
      ],
      "metadata": {}
    },
    {
      "cell_type": "code",
      "execution_count": 9,
      "source": [],
      "outputs": [
        {
          "output_type": "stream",
          "name": "stdout",
          "text": [
            "5891 คน\n"
          ]
        }
      ],
      "metadata": {}
    },
    {
      "cell_type": "markdown",
      "source": [
        "## 2.\r\n",
        "\r\n"
      ],
      "metadata": {
        "id": "q8zJFVIV-k2N"
      }
    },
    {
      "cell_type": "markdown",
      "source": [
        "ผู้ที่มาซื้อเป็นเพศชาย (M) ทั้งหมดกี่คน และเป็นเพศหญิง (F) ทั้งหมดกี่คน\r\n"
      ],
      "metadata": {
        "id": "19J-xBIi_ZxJ"
      }
    },
    {
      "cell_type": "markdown",
      "source": [
        "```\r\n",
        "ชาย 414259 คน\r\n",
        "หญิง 135809 คน\r\n",
        "```"
      ],
      "metadata": {}
    },
    {
      "cell_type": "code",
      "execution_count": 12,
      "source": [],
      "outputs": [],
      "metadata": {
        "id": "6o42HcqL_XYV"
      }
    },
    {
      "cell_type": "code",
      "execution_count": 29,
      "source": [],
      "outputs": [
        {
          "output_type": "stream",
          "name": "stdout",
          "text": [
            "ชาย 414259 คน\n",
            "หญิง 135809 คน\n"
          ]
        }
      ],
      "metadata": {
        "id": "Jkak_UFbDzJM",
        "colab": {
          "base_uri": "https://localhost:8080/",
          "height": 34
        },
        "outputId": "054703da-e1f0-4d67-dccc-814cd1e5ee13"
      }
    },
    {
      "cell_type": "markdown",
      "source": [
        "## 3.\r\n",
        "พิจารณาเฉพาะผู้ซื้อที่เป็นเพศ**หญิง** ค่าเฉลี่ยของการใช้จ่ายรวม (Sum of Purchase) ต่อผู้ซื้อหนึ่งคนเป็นจำนวนเท่าไร"
      ],
      "metadata": {
        "id": "i9CM8IRl-oP3"
      }
    },
    {
      "cell_type": "markdown",
      "source": [
        "```\r\n",
        "712024.39...\r\n",
        "```"
      ],
      "metadata": {}
    },
    {
      "cell_type": "code",
      "execution_count": 128,
      "source": [],
      "outputs": [],
      "metadata": {}
    },
    {
      "cell_type": "code",
      "execution_count": 129,
      "source": [],
      "outputs": [],
      "metadata": {}
    },
    {
      "cell_type": "code",
      "execution_count": 130,
      "source": [],
      "outputs": [
        {
          "output_type": "stream",
          "name": "stdout",
          "text": [
            "8734.565765155476\n"
          ]
        }
      ],
      "metadata": {}
    },
    {
      "cell_type": "markdown",
      "source": [
        "## 4.\r\n",
        "\r\n",
        "4.1) จงแสดงว่าในแต่ละ transaction, สินค้าแต่ละหมายเลขในตัวแปร Product_Category_1 มีอัตราส่วนการซื้อเป็นอย่างไร\r\n",
        "\r\n",
        "เรียงตาม Product_Category_1\r\n"
      ],
      "metadata": {}
    },
    {
      "cell_type": "markdown",
      "source": [
        "```\r\n",
        "1 25.52\r\n",
        "2 4.34\r\n",
        "3 3.67\r\n",
        "4 2.14\r\n",
        "5 27.44\r\n",
        "6 3.72\r\n",
        "7 0.68\r\n",
        "8 20.71\r\n",
        "9 0.07\r\n",
        "10 0.93\r\n",
        "11 4.42\r\n",
        "12 0.72\r\n",
        "13 1.01\r\n",
        "14 0.28\r\n",
        "15 1.14\r\n",
        "16 1.79\r\n",
        "17 0.11\r\n",
        "18 0.57\r\n",
        "19 0.29\r\n",
        "20 0.46\r\n",
        "```"
      ],
      "metadata": {}
    },
    {
      "cell_type": "code",
      "execution_count": 95,
      "source": [],
      "outputs": [],
      "metadata": {}
    },
    {
      "cell_type": "code",
      "execution_count": 114,
      "source": [],
      "outputs": [],
      "metadata": {}
    },
    {
      "cell_type": "code",
      "execution_count": 115,
      "source": [],
      "outputs": [
        {
          "output_type": "stream",
          "name": "stdout",
          "text": [
            "1    25.52\n",
            "2    4.34\n",
            "3    3.67\n",
            "4    2.14\n",
            "5    27.44\n",
            "6    3.72\n",
            "7    0.68\n",
            "8    20.71\n",
            "9    0.07\n",
            "10   0.93\n",
            "11   4.42\n",
            "12   0.72\n",
            "13   1.01\n",
            "14   0.28\n",
            "15   1.14\n",
            "16   1.79\n",
            "17   0.11\n",
            "18   0.57\n",
            "19   0.29\n",
            "20   0.46\n"
          ]
        }
      ],
      "metadata": {
        "id": "4_mDznhjGWDQ",
        "colab": {
          "base_uri": "https://localhost:8080/",
          "height": 669
        },
        "outputId": "d36f50c6-5e68-4c8b-baf3-48db3f6185b8"
      }
    },
    {
      "cell_type": "markdown",
      "source": [
        "4.2) ให้ระบุหมายเลขสินค้าที่มีอัตราส่วนการซื้อมากที่สุด 3 ลำดับแรก"
      ],
      "metadata": {
        "id": "eMJP2n1u_lEE"
      }
    },
    {
      "cell_type": "markdown",
      "source": [
        "```\r\n",
        "5 27.44\r\n",
        "1 25.52\r\n",
        "8 20.71\r\n",
        "```"
      ],
      "metadata": {}
    },
    {
      "cell_type": "code",
      "execution_count": 119,
      "source": [],
      "outputs": [
        {
          "output_type": "stream",
          "name": "stdout",
          "text": [
            "5    27.44\n",
            "1    25.52\n",
            "8    20.71\n"
          ]
        }
      ],
      "metadata": {
        "id": "PhvP7l5QJWLE",
        "colab": {
          "base_uri": "https://localhost:8080/",
          "height": 142
        },
        "outputId": "281a0071-833c-4d33-fc41-3f1965fb6652"
      }
    },
    {
      "cell_type": "markdown",
      "source": [
        "## 5. \r\n",
        "จากข้อ 4.2) ปริมาณการซื้อสินค้าทั้ง 3 อันดับแรกรวมกัน\r\n",
        "คิดเป็นอัตราส่วนกี่เปอร์เซ็นต์ของปริมาณการซื้อสินค้าทั้งหมด\r\n"
      ],
      "metadata": {
        "id": "HF9B6EGM-vXJ"
      }
    },
    {
      "cell_type": "markdown",
      "source": [
        "```\r\n",
        "73.67 %"
      ],
      "metadata": {}
    },
    {
      "cell_type": "code",
      "execution_count": 121,
      "source": [],
      "outputs": [
        {
          "output_type": "execute_result",
          "data": {
            "text/plain": [
              "73.67016441603585"
            ]
          },
          "metadata": {},
          "execution_count": 121
        }
      ],
      "metadata": {}
    }
  ]
}