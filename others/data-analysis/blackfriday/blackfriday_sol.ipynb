{
  "nbformat": 4,
  "nbformat_minor": 2,
  "metadata": {
    "colab": {
      "name": "[Dataset4]ภูศิษฐ์สมบูรณ์ยิ่งสุข.ipynb",
      "provenance": [],
      "collapsed_sections": []
    },
    "kernelspec": {
      "name": "python3",
      "display_name": "Python 3.8.8 64-bit ('base': conda)"
    },
    "language_info": {
      "name": "python",
      "version": "3.8.8",
      "mimetype": "text/x-python",
      "codemirror_mode": {
        "name": "ipython",
        "version": 3
      },
      "pygments_lexer": "ipython3",
      "nbconvert_exporter": "python",
      "file_extension": ".py"
    },
    "interpreter": {
      "hash": "93aba368ad999e0ef1745a46e51e4eea8804cbe14913d6f919518901ff0dbb6d"
    }
  },
  "cells": [
    {
      "cell_type": "markdown",
      "source": [
        "## Preprocess"
      ],
      "metadata": {}
    },
    {
      "cell_type": "code",
      "execution_count": 2,
      "source": [
        "with open('blackfriday.csv') as file:\r\n",
        "    rows = list(map(lambda x: tuple(x.split(',')),file.read().splitlines()))\r\n",
        "key = rows.pop(0)\r\n",
        "\r\n",
        "data = [dict(zip(key,row))for row in rows]"
      ],
      "outputs": [],
      "metadata": {
        "id": "GTc99Tg29id9"
      }
    },
    {
      "cell_type": "markdown",
      "source": [
        "## 1. \r\n",
        "ใน dataset มีการเก็บรายการใช้จ่ายของ User เป็นจำนวนทั้งหมดกี่คน"
      ],
      "metadata": {
        "id": "5IdsH_lp-dOp"
      }
    },
    {
      "cell_type": "markdown",
      "source": [
        "```\r\n",
        "5891 คน\r\n",
        "```"
      ],
      "metadata": {}
    },
    {
      "cell_type": "code",
      "execution_count": 3,
      "source": [
        "unique_user_id = set([item['User_ID'] for item in data])\r\n",
        "\r\n",
        "print(len(unique_user_id), 'คน')"
      ],
      "outputs": [
        {
          "output_type": "stream",
          "name": "stdout",
          "text": [
            "5891 คน\n"
          ]
        }
      ],
      "metadata": {}
    },
    {
      "cell_type": "markdown",
      "source": [
        "## 2.\r\n",
        "\r\n"
      ],
      "metadata": {
        "id": "q8zJFVIV-k2N"
      }
    },
    {
      "cell_type": "markdown",
      "source": [
        "ผู้ที่มาซื้อเป็นเพศชาย (M) ทั้งหมดกี่คน และเป็นเพศหญิง (F) ทั้งหมดกี่คน\r\n"
      ],
      "metadata": {
        "id": "19J-xBIi_ZxJ"
      }
    },
    {
      "cell_type": "markdown",
      "source": [
        "```\r\n",
        "ชาย 414259 คน\r\n",
        "หญิง 135809 คน\r\n",
        "```"
      ],
      "metadata": {}
    },
    {
      "cell_type": "code",
      "execution_count": 4,
      "source": [
        "gender_list = [item['Gender'] for item in data]"
      ],
      "outputs": [],
      "metadata": {
        "id": "6o42HcqL_XYV"
      }
    },
    {
      "cell_type": "code",
      "execution_count": 5,
      "source": [
        "print(f\"ชาย {gender_list.count('M')} คน\\nหญิง {gender_list.count('F')} คน\")"
      ],
      "outputs": [
        {
          "output_type": "stream",
          "name": "stdout",
          "text": [
            "ชาย 414259 คน\n",
            "หญิง 135809 คน\n"
          ]
        }
      ],
      "metadata": {
        "id": "Jkak_UFbDzJM",
        "colab": {
          "base_uri": "https://localhost:8080/",
          "height": 34
        },
        "outputId": "054703da-e1f0-4d67-dccc-814cd1e5ee13"
      }
    },
    {
      "cell_type": "markdown",
      "source": [
        "## 3.\r\n",
        "พิจารณาเฉพาะผู้ซื้อที่เป็นเพศ**หญิง** ค่าเฉลี่ยของการใช้จ่ายรวม (Sum of Purchase) ต่อผู้ซื้อหนึ่งคนเป็นจำนวนเท่าไร"
      ],
      "metadata": {
        "id": "i9CM8IRl-oP3"
      }
    },
    {
      "cell_type": "markdown",
      "source": [
        "```\r\n",
        "712024.39...\r\n",
        "```"
      ],
      "metadata": {}
    },
    {
      "cell_type": "code",
      "execution_count": 6,
      "source": [
        "user_purchase_f = {}"
      ],
      "outputs": [],
      "metadata": {}
    },
    {
      "cell_type": "code",
      "execution_count": 7,
      "source": [
        "for item in data:\r\n",
        "    \r\n",
        "    if item['Gender'] != 'F':\r\n",
        "        continue\r\n",
        "    \r\n",
        "    user_id = item['User_ID']\r\n",
        "    purchase = int(item['Purchase'])\r\n",
        "    \r\n",
        "    if user_id not in user_purchase_f:\r\n",
        "        user_purchase_f.setdefault(user_id,0)\r\n",
        "        \r\n",
        "    user_purchase_f[user_id] += purchase\r\n",
        "\r\n"
      ],
      "outputs": [],
      "metadata": {}
    },
    {
      "cell_type": "code",
      "execution_count": 8,
      "source": [
        "print(sum(user_purchase_f.values())/len(user_purchase_f))"
      ],
      "outputs": [
        {
          "output_type": "stream",
          "name": "stdout",
          "text": [
            "712024.3949579832\n"
          ]
        }
      ],
      "metadata": {}
    },
    {
      "cell_type": "markdown",
      "source": [
        "# 4.\r\n",
        "\r\n",
        "4.1) จงแสดงว่าในแต่ละ transaction, สินค้าแต่ละหมายเลขในตัวแปร Product_Category_1 มีอัตราส่วนการซื้อเป็นอย่างไร\r\n",
        "\r\n",
        "เรียงตาม Product_Category_1\r\n"
      ],
      "metadata": {}
    },
    {
      "cell_type": "code",
      "execution_count": 9,
      "source": [
        "count_gb_cat1 = {}"
      ],
      "outputs": [],
      "metadata": {}
    },
    {
      "cell_type": "code",
      "execution_count": 10,
      "source": [
        "for item in data:\r\n",
        "    \r\n",
        "    pd_cat_1 = int(item['Product_Category_1'])\r\n",
        "    \r\n",
        "    if pd_cat_1 not in user_purchase_f:\r\n",
        "        count_gb_cat1.setdefault(pd_cat_1,0)\r\n",
        "        \r\n",
        "    count_gb_cat1[pd_cat_1] += 1"
      ],
      "outputs": [],
      "metadata": {}
    },
    {
      "cell_type": "code",
      "execution_count": 11,
      "source": [
        "sum_cnt_gb_cat1 =  sum(count_gb_cat1.values())"
      ],
      "outputs": [],
      "metadata": {}
    },
    {
      "cell_type": "code",
      "execution_count": 12,
      "source": [
        "cat1_pct = tuple((cat_1, count*100/sum_cnt_gb_cat1) for cat_1, count in sorted(count_gb_cat1.items(), key= lambda x: x[0]))"
      ],
      "outputs": [],
      "metadata": {}
    },
    {
      "cell_type": "code",
      "execution_count": 13,
      "source": [
        "for cat, pct in cat1_pct:\r\n",
        "    print(f\"{cat:<5}{pct:.2f}\")"
      ],
      "outputs": [
        {
          "output_type": "stream",
          "name": "stdout",
          "text": [
            "1    25.52\n",
            "2    4.34\n",
            "3    3.67\n",
            "4    2.14\n",
            "5    27.44\n",
            "6    3.72\n",
            "7    0.68\n",
            "8    20.71\n",
            "9    0.07\n",
            "10   0.93\n",
            "11   4.42\n",
            "12   0.72\n",
            "13   1.01\n",
            "14   0.28\n",
            "15   1.14\n",
            "16   1.79\n",
            "17   0.11\n",
            "18   0.57\n",
            "19   0.29\n",
            "20   0.46\n"
          ]
        }
      ],
      "metadata": {
        "id": "4_mDznhjGWDQ",
        "colab": {
          "base_uri": "https://localhost:8080/",
          "height": 669
        },
        "outputId": "d36f50c6-5e68-4c8b-baf3-48db3f6185b8"
      }
    },
    {
      "cell_type": "markdown",
      "source": [
        "4.2) ให้ระบุหมายเลขสินค้าที่มีอัตราส่วนการซื้อมากที่สุด 3 ลำดับแรก"
      ],
      "metadata": {
        "id": "eMJP2n1u_lEE"
      }
    },
    {
      "cell_type": "code",
      "execution_count": 14,
      "source": [
        "h3_cat1_pct = sorted(cat1_pct, key= lambda x: x[1], reverse= True)[:3]\r\n",
        "\r\n",
        "for cat, pct in h3_cat1_pct:\r\n",
        "    print(f\"{cat:<5}{pct:.2f}\")"
      ],
      "outputs": [
        {
          "output_type": "stream",
          "name": "stdout",
          "text": [
            "5    27.44\n",
            "1    25.52\n",
            "8    20.71\n"
          ]
        }
      ],
      "metadata": {
        "id": "PhvP7l5QJWLE",
        "colab": {
          "base_uri": "https://localhost:8080/",
          "height": 142
        },
        "outputId": "281a0071-833c-4d33-fc41-3f1965fb6652"
      }
    },
    {
      "cell_type": "markdown",
      "source": [
        "\r\n",
        "## 5. \r\n",
        "จากข้อ 4.2) ปริมาณการซื้อสินค้าทั้ง 3 อันดับแรกรวมกัน\r\n",
        "คิดเป็นอัตราส่วนกี่เปอร์เซ็นต์ของปริมาณการซื้อสินค้าทั้งหมด\r\n"
      ],
      "metadata": {
        "id": "HF9B6EGM-vXJ"
      }
    },
    {
      "cell_type": "markdown",
      "source": [
        "```\r\n",
        "73.67 %"
      ],
      "metadata": {}
    },
    {
      "cell_type": "code",
      "execution_count": 15,
      "source": [
        "sum(val for _, val in h3_cat1_pct)"
      ],
      "outputs": [
        {
          "output_type": "execute_result",
          "data": {
            "text/plain": [
              "73.67016441603585"
            ]
          },
          "metadata": {},
          "execution_count": 15
        }
      ],
      "metadata": {}
    }
  ]
}