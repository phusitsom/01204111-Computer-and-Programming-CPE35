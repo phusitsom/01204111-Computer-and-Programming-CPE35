{
  "nbformat": 4,
  "nbformat_minor": 2,
  "metadata": {
    "kernelspec": {
      "name": "python3",
      "display_name": "Python 3.9.6 64-bit ('data': conda)"
    },
    "language_info": {
      "codemirror_mode": {
        "name": "ipython",
        "version": 3
      },
      "file_extension": ".py",
      "mimetype": "text/x-python",
      "name": "python",
      "nbconvert_exporter": "python",
      "pygments_lexer": "ipython3",
      "version": "3.9.6"
    },
    "colab": {
      "name": "[Dataset3]ภูศิษฐ์สมบูรณ์ยิ่งสุข.ipynb",
      "provenance": [],
      "collapsed_sections": [],
      "toc_visible": true
    },
    "interpreter": {
      "hash": "60b38853a872525f5db1ed72f1415436bd4f970e0d5b34e15fa67281eec655ea"
    }
  },
  "cells": [
    {
      "cell_type": "markdown",
      "source": [
        "# IMDb\r\n",
        "\r\n",
        "เว็บ IMDb รวบรวมข้อมูลเกี่ยวกับภาพยนตร์ต่างๆ และตัดข้อมูลบางส่วนมาให้ใช้ทำการทดลองต่างๆ ได้ https://www.imdb.com/interfaces/\r\n",
        "\r\n",
        "โจทย์นี้คัดกรอง [ข้อมูลบางส่วนใน IMDb](https://drive.google.com/file/d/1V5VNg1WTMTS_eEOQqylektM9ZwdG1uq2/view?usp=sharing) มา โดยโดยมีไฟล์นี้อยู่\r\n",
        "\r\n",
        "**Cast.tsv**\r\n",
        "- tconst (string) - alphanumeric unique identifier of the title\r\n",
        "- ordering (integer) – a number to uniquely identify rows for a given titleId\r\n",
        "- nconst (string) - alphanumeric unique identifier of the name/person\r\n",
        "- category (string) - the category of job that person was in\r\n",
        "- job (string) - the specific job title if applicable, else '\\N'\r\n",
        "- characters (string) - the name of the character played if applicable, else '\\N'\r\n",
        "\r\n",
        "**Title.tsv**\r\n",
        "- tconst (string) - alphanumeric unique identifier of the title\r\n",
        "- titleType (string) – the type/format of the title (e.g. movie, short, tvseries, tvepisode, video, etc)\r\n",
        "- primaryTitle (string) – the more popular title / the title used by the filmmakers on promotional materials at the point of release\r\n",
        "- originalTitle (string) - original title, in the original language\r\n",
        "- isAdult (boolean) - 0: non-adult title; 1: adult title\r\n",
        "- startYear (YYYY) – represents the release year of a title. In the case of TV Series, it is the series start year\r\n",
        "- endYear (YYYY) – TV Series end year. ‘\\N’ for all other title types\r\n",
        "- runtimeMinutes – primary runtime of the title, in minutes\r\n",
        "- genres (string array) – includes up to three genres associated with the title\r\n",
        "\r\n",
        "**Star.tsv**\r\n",
        "- nconst (string) - alphanumeric unique identifier of the name/person\r\n",
        "- primaryName (string)– name by which the person is most often credited\r\n",
        "- birthYear – in YYYY format\r\n",
        "- deathYear – in YYYY format if applicable, else '\\N'\r\n",
        "- primaryProfession (array of strings)– the top-3 professions of the person\r\n",
        "- knownForTitles (array of tconsts) – titles the person is known for"
      ],
      "metadata": {
        "id": "z0INfx0o64RB"
      }
    },
    {
      "cell_type": "markdown",
      "source": [
        "## Preprocess"
      ],
      "metadata": {
        "id": "XMLJVpYiBBp1"
      }
    },
    {
      "cell_type": "markdown",
      "source": [
        "ใช้ encoding='utf-8' ตอนอ่านไฟล์"
      ],
      "metadata": {}
    },
    {
      "cell_type": "code",
      "execution_count": 1,
      "source": [
        "def read_table(fn:str):\r\n",
        "    with open(fn,encoding='utf-8') as file:\r\n",
        "        rows = list(map(lambda x: tuple(x.split('\\t')),file.read().split('\\n\\n')))\r\n",
        "        key = rows.pop(0)\r\n",
        "\r\n",
        "    return [dict(zip(key,row))for row in rows]"
      ],
      "outputs": [],
      "metadata": {}
    },
    {
      "cell_type": "code",
      "execution_count": 2,
      "source": [
        "df_star = read_table('Star.tsv')\r\n",
        "df_cast = read_table('Cast.tsv')\r\n",
        "df_title = read_table('Title.tsv')"
      ],
      "outputs": [],
      "metadata": {
        "id": "aRjNaAfIyPkZ",
        "colab": {
          "base_uri": "https://localhost:8080/",
          "height": 34
        },
        "outputId": "447617b4-248b-4556-d814-814810083428"
      }
    },
    {
      "cell_type": "markdown",
      "source": [
        "# 1. มีภาพยนตร์กี่ประเภท (genres) แต่ละประเภทมีอย่างละกี่เรื่อง (เรียงตาม genre)\r\n",
        "หาด้วย Title"
      ],
      "metadata": {
        "id": "OdR8yexJGztv"
      }
    },
    {
      "cell_type": "markdown",
      "source": [
        "```\r\n",
        "Action 733\r\n",
        "Adult 56\r\n",
        "Adventure 277\r\n",
        "Animation 132\r\n",
        "Biography 17\r\n",
        "8Comedy 1694\r\n",
        "Crime 488\r\n",
        "Documentary 484\r\n",
        "Drama 3041\r\n",
        "Family 247\r\n",
        "Fantasy 218\r\n",
        "History 120\r\n",
        "Horror 559\r\n",
        "Music 128\r\n",
        "Musical 74\r\n",
        "Mystery 268\r\n",
        "News 7\r\n",
        "Reality-TV 3\r\n",
        "Romance 825\r\n",
        "Sci-Fi 181\r\n",
        "Sport 80\r\n",
        "Thriller 726\r\n",
        "War 83\r\n",
        "Western 22\r\n",
        "\\N 270\r\n",
        "```"
      ],
      "metadata": {}
    },
    {
      "cell_type": "code",
      "execution_count": 3,
      "source": [
        "genres_count = {}"
      ],
      "outputs": [],
      "metadata": {}
    },
    {
      "cell_type": "code",
      "execution_count": 4,
      "source": [
        "for item in df_title:\r\n",
        "    for genre in item['genres'].split(','):\r\n",
        "        \r\n",
        "        if genre not in genres_count:\r\n",
        "            genres_count.setdefault(genre,0)\r\n",
        "            \r\n",
        "        genres_count[genre] += 1"
      ],
      "outputs": [],
      "metadata": {
        "id": "6JSDZ6pIA3o4",
        "colab": {
          "base_uri": "https://localhost:8080/",
          "height": 204
        },
        "outputId": "9a1aa85c-115a-472c-cc53-b384037a772c"
      }
    },
    {
      "cell_type": "code",
      "execution_count": 5,
      "source": [
        "for genre, count in sorted(genres_count.items(), key= lambda x: x[0]):\r\n",
        "    print(f\"{genre:<20}{count}\")"
      ],
      "outputs": [
        {
          "output_type": "stream",
          "name": "stdout",
          "text": [
            "Action              733\n",
            "Adult               56\n",
            "Adventure           277\n",
            "Animation           132\n",
            "Biography           178\n",
            "Comedy              1694\n",
            "Crime               488\n",
            "Documentary         484\n",
            "Drama               3041\n",
            "Family              247\n",
            "Fantasy             218\n",
            "History             120\n",
            "Horror              559\n",
            "Music               128\n",
            "Musical             74\n",
            "Mystery             268\n",
            "News                7\n",
            "Reality-TV          3\n",
            "Romance             825\n",
            "Sci-Fi              181\n",
            "Sport               80\n",
            "Thriller            726\n",
            "War                 83\n",
            "Western             22\n",
            "\\N                  270\n"
          ]
        }
      ],
      "metadata": {}
    },
    {
      "cell_type": "markdown",
      "source": [
        "# 2. มีนักแสดงชายและหญิงอย่างละกี่คน\r\n",
        "นับจากไฟล์ Star"
      ],
      "metadata": {
        "id": "DawKBj6AQJR9"
      }
    },
    {
      "cell_type": "markdown",
      "source": [
        "```\r\n",
        "actress 3537\r\n",
        "actor 4300\r\n",
        "```"
      ],
      "metadata": {}
    },
    {
      "cell_type": "code",
      "execution_count": 6,
      "source": [
        "profession_count = {}"
      ],
      "outputs": [],
      "metadata": {
        "id": "mUemvFPEA7it",
        "colab": {
          "base_uri": "https://localhost:8080/",
          "height": 204
        },
        "outputId": "ee702b0e-b14f-4c64-e876-e7a0f33051dc"
      }
    },
    {
      "cell_type": "code",
      "execution_count": 7,
      "source": [
        "for item in df_star:\r\n",
        "    \r\n",
        "    for prof in item['primaryProfession'].split(','):\r\n",
        "        \r\n",
        "        if 'act' not in prof:\r\n",
        "            continue\r\n",
        "        \r\n",
        "        if prof not in profession_count:\r\n",
        "            profession_count.setdefault(prof,0)\r\n",
        "            \r\n",
        "        profession_count[prof] += 1"
      ],
      "outputs": [],
      "metadata": {
        "id": "izvXjJHmnxzU"
      }
    },
    {
      "cell_type": "code",
      "execution_count": 8,
      "source": [
        "for key, val in profession_count.items():\r\n",
        "    print(f\"{key:<20}{val}\")"
      ],
      "outputs": [
        {
          "output_type": "stream",
          "name": "stdout",
          "text": [
            "actress             3537\n",
            "actor               4300\n"
          ]
        }
      ],
      "metadata": {}
    },
    {
      "cell_type": "markdown",
      "source": [
        "# 3. นักแสดงที่ยังมีชีวิตมีอายุเท่าไหร่บ้าง แต่ละช่วงมีกี่คน \r\n",
        "หาด้วย Star"
      ],
      "metadata": {
        "id": "DZfyXkpYQoFe"
      }
    },
    {
      "cell_type": "markdown",
      "source": [
        "```\r\n",
        "32 213\r\n",
        "33 233\r\n",
        "34 288\r\n",
        "35 328\r\n",
        "36 317\r\n",
        "37 365\r\n",
        "38 389\r\n",
        "39 438\r\n",
        "40 430\r\n",
        "41 448\r\n",
        "42 495\r\n",
        "43 460\r\n",
        "44 442\r\n",
        "45 463\r\n",
        "46 472\r\n",
        "47 447\r\n",
        "48 505\r\n",
        "49 511\r\n",
        "50 498\r\n",
        "```"
      ],
      "metadata": {}
    },
    {
      "cell_type": "code",
      "execution_count": 9,
      "source": [
        "age_count = {}"
      ],
      "outputs": [],
      "metadata": {}
    },
    {
      "cell_type": "code",
      "execution_count": 10,
      "source": [
        "for item in df_star:\r\n",
        "    \r\n",
        "    if 'act' not in item['primaryProfession'] or item['deathYear'] != '\\\\N':\r\n",
        "        continue\r\n",
        "    \r\n",
        "    age = 2021 - int(item['birthYear'])\r\n",
        "        \r\n",
        "    if age not in age_count:\r\n",
        "        age_count.setdefault(age,0)\r\n",
        "        \r\n",
        "    age_count[age] += 1"
      ],
      "outputs": [],
      "metadata": {}
    },
    {
      "cell_type": "code",
      "execution_count": 11,
      "source": [
        "for k, v in sorted(age_count.items(), key= lambda x: x[0]):\r\n",
        "    print(k,v)"
      ],
      "outputs": [
        {
          "output_type": "stream",
          "name": "stdout",
          "text": [
            "32 213\n",
            "33 233\n",
            "34 288\n",
            "35 328\n",
            "36 317\n",
            "37 365\n",
            "38 389\n",
            "39 438\n",
            "40 430\n",
            "41 448\n",
            "42 495\n",
            "43 460\n",
            "44 442\n",
            "45 463\n",
            "46 472\n",
            "47 447\n",
            "48 505\n",
            "49 511\n",
            "50 498\n"
          ]
        }
      ],
      "metadata": {}
    },
    {
      "cell_type": "markdown",
      "source": [
        "# 4. มีนักแสดงกี่คนที่เคยแสดงในภาพยนตร์ Action \r\n",
        "หาด้วย Cast + Title"
      ],
      "metadata": {
        "id": "XfXfRTGWSNt_"
      }
    },
    {
      "cell_type": "markdown",
      "source": [
        "```\r\n",
        "992\r\n",
        "```"
      ],
      "metadata": {}
    },
    {
      "cell_type": "code",
      "execution_count": 23,
      "source": [
        "action_titles = [item['tconst'] for item in df_title if 'Action' in item['genres']]\r\n",
        "\r\n",
        "len(set(item[\"nconst\"] for item in df_cast if (item['tconst'] in action_titles) and ('act' in item['category'])))"
      ],
      "outputs": [
        {
          "output_type": "execute_result",
          "data": {
            "text/plain": [
              "992"
            ]
          },
          "metadata": {},
          "execution_count": 23
        }
      ],
      "metadata": {}
    },
    {
      "cell_type": "markdown",
      "source": [
        "# 5. มีนักแสดงกี่คนที่แสดงในภาพยนตร์มากกว่า 1 ประเภท \r\n",
        "หาด้วย Cast + Title"
      ],
      "metadata": {
        "id": "Hi5YsW-wTL4y"
      }
    },
    {
      "cell_type": "markdown",
      "source": [
        "```\r\n",
        "3861\r\n",
        "```"
      ],
      "metadata": {}
    },
    {
      "cell_type": "code",
      "execution_count": 13,
      "source": [
        "titles_morethan_1genre = [item['tconst'] for item in df_title if ',' in item['genres']]\r\n",
        "\r\n",
        "len(set(item[\"nconst\"] for item in df_cast if (item['tconst'] in titles_morethan_1genre) and ('act' in item['category'])))"
      ],
      "outputs": [
        {
          "output_type": "execute_result",
          "data": {
            "text/plain": [
              "3861"
            ]
          },
          "metadata": {},
          "execution_count": 13
        }
      ],
      "metadata": {}
    },
    {
      "cell_type": "markdown",
      "source": [
        "# 6. มีผู้กำกับกี่คนที่เป็นนักแสดงด้วย \r\n",
        "หาด้วย Star"
      ],
      "metadata": {
        "id": "UUv4xcj6Gj0Q"
      }
    },
    {
      "cell_type": "markdown",
      "source": [
        "```\r\n",
        "1424\r\n",
        "```"
      ],
      "metadata": {}
    },
    {
      "cell_type": "code",
      "execution_count": null,
      "source": [
        "count = 0\r\n",
        "for item in df_star:\r\n",
        "    if 'act' in item['primaryProfession'] and 'director' in "
      ],
      "outputs": [],
      "metadata": {}
    },
    {
      "cell_type": "code",
      "execution_count": 14,
      "source": [
        "len([item['nconst'] for item in df_star if 'act' in item['primaryProfession'] and 'director' in item['primaryProfession']])"
      ],
      "outputs": [
        {
          "output_type": "execute_result",
          "data": {
            "text/plain": [
              "1424"
            ]
          },
          "metadata": {},
          "execution_count": 14
        }
      ],
      "metadata": {}
    },
    {
      "cell_type": "markdown",
      "source": [
        "# 7. หาจำนวนภาพยนต์แนวรอมคอมในแต่ละปี (นับเฉพาะปีที่มีตั้งแต่ 1 เรื่องขึ้นไป)\r\n",
        "หาด้วย Title"
      ],
      "metadata": {
        "id": "BfNuCFFfLU9i"
      }
    },
    {
      "cell_type": "markdown",
      "source": [
        "```\r\n",
        "1991 3\r\n",
        "1992 2\r\n",
        "1993 3\r\n",
        "1994 1\r\n",
        "1995 4\r\n",
        "1996 8\r\n",
        "1997 3\r\n",
        "1998 13\r\n",
        "1999 8\r\n",
        "2000 8\r\n",
        "2001 7\r\n",
        "2002 15\r\n",
        "2003 9\r\n",
        "2004 8\r\n",
        "2005 15\r\n",
        "2006 13\r\n",
        "2007 15\r\n",
        "2008 9\r\n",
        "2009 10\r\n",
        "2010 25\r\n",
        "2011 24\r\n",
        "2012 18\r\n",
        "2013 14\r\n",
        "2014 24\r\n",
        "2015 21\r\n",
        "2016 22\r\n",
        "2017 10\r\n",
        "2018 14\r\n",
        "2019 15\r\n",
        "2020 5\r\n",
        "```"
      ],
      "metadata": {}
    },
    {
      "cell_type": "code",
      "execution_count": 15,
      "source": [
        "romcom_year_count = {}"
      ],
      "outputs": [],
      "metadata": {}
    },
    {
      "cell_type": "code",
      "execution_count": 16,
      "source": [
        "for item in df_title:\r\n",
        "    \r\n",
        "    year = int(item['startYear'])\r\n",
        "    \r\n",
        "    if year not in romcom_year_count:\r\n",
        "        romcom_year_count.setdefault(year, 0)\r\n",
        "        \r\n",
        "    if 'Comedy' in item['genres'] and 'Romance' in item['genres']:\r\n",
        "        romcom_year_count[year] += 1"
      ],
      "outputs": [],
      "metadata": {}
    },
    {
      "cell_type": "code",
      "execution_count": 17,
      "source": [
        "rc_items = tuple(romcom_year_count.items())\r\n",
        "for y, c in rc_items:\r\n",
        "    if not c >= 1:\r\n",
        "        romcom_year_count.pop(y)"
      ],
      "outputs": [],
      "metadata": {}
    },
    {
      "cell_type": "code",
      "execution_count": 18,
      "source": [
        "for k, v in sorted(romcom_year_count.items()):\r\n",
        "    print(k,v)"
      ],
      "outputs": [
        {
          "output_type": "stream",
          "name": "stdout",
          "text": [
            "1991 3\n",
            "1992 2\n",
            "1993 3\n",
            "1994 1\n",
            "1995 4\n",
            "1996 8\n",
            "1997 3\n",
            "1998 13\n",
            "1999 8\n",
            "2000 8\n",
            "2001 7\n",
            "2002 15\n",
            "2003 9\n",
            "2004 8\n",
            "2005 15\n",
            "2006 13\n",
            "2007 15\n",
            "2008 9\n",
            "2009 10\n",
            "2010 25\n",
            "2011 24\n",
            "2012 18\n",
            "2013 14\n",
            "2014 24\n",
            "2015 21\n",
            "2016 22\n",
            "2017 10\n",
            "2018 14\n",
            "2019 15\n",
            "2020 5\n"
          ]
        }
      ],
      "metadata": {
        "id": "aWh1bH9IBCTF"
      }
    },
    {
      "cell_type": "code",
      "execution_count": null,
      "source": [],
      "outputs": [],
      "metadata": {}
    }
  ]
}