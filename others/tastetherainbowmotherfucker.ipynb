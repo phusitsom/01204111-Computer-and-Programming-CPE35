{
 "cells": [
  {
   "cell_type": "code",
   "execution_count": 1,
   "source": [
    "from pprint import pp"
   ],
   "outputs": [],
   "metadata": {}
  },
  {
   "cell_type": "markdown",
   "source": [
    "# 1. Counter w/ dict and loops"
   ],
   "metadata": {}
  },
  {
   "cell_type": "code",
   "execution_count": 3,
   "source": [
    "dick =  {}\r\n",
    "kuay = \"golfauukhangauumuangikkyupgolfnathtuangduenwinkarnfueang\""
   ],
   "outputs": [],
   "metadata": {}
  },
  {
   "cell_type": "markdown",
   "source": [
    "## 1.1 นับจำนวนตัวอักษรที่มีอยู่ใน **kuay** และเก็บจำนวนของแต่ละตัวอักษรเข้า Dictionary ที่ชื่อว่า **dick**\n",
    "Hint: for loop \n",
    "\n",
    "## ถ้าใช้ collections.Counter() ผมจะฆ่าคุณ"
   ],
   "metadata": {}
  },
  {
   "cell_type": "code",
   "execution_count": 4,
   "source": [
    "#Your code here"
   ],
   "outputs": [],
   "metadata": {}
  },
  {
   "cell_type": "code",
   "execution_count": 178,
   "source": [
    "pp(dick)"
   ],
   "outputs": [
    {
     "output_type": "stream",
     "name": "stdout",
     "text": [
      "{'g': 6,\n",
      " 'o': 2,\n",
      " 'l': 2,\n",
      " 'f': 3,\n",
      " 'a': 8,\n",
      " 'u': 9,\n",
      " 'k': 4,\n",
      " 'h': 2,\n",
      " 'n': 8,\n",
      " 'm': 1,\n",
      " 'i': 2,\n",
      " 'y': 1,\n",
      " 'p': 1,\n",
      " 't': 2,\n",
      " 'd': 1,\n",
      " 'e': 2,\n",
      " 'w': 1,\n",
      " 'r': 1}\n"
     ]
    }
   ],
   "metadata": {}
  },
  {
   "cell_type": "markdown",
   "source": [
    "# 2 ลองใช้ dict.items()"
   ],
   "metadata": {}
  },
  {
   "cell_type": "code",
   "execution_count": 6,
   "source": [
    "data1 = [{'Years Experience': 10,\r\n",
    "  'Employed?': 'Y',\r\n",
    "  'Previous employers': 4,\r\n",
    "  'Level of Education': 'BS',\r\n",
    "  'Top-tier school': 'N',\r\n",
    "  'Interned': 'N',\r\n",
    "  'Hired': 'Y'},\r\n",
    " {'Years Experience': 0,\r\n",
    "  'Employed?': 'N',\r\n",
    "  'Previous employers': 0,\r\n",
    "  'Level of Education': 'BS',\r\n",
    "  'Top-tier school': 'Y',\r\n",
    "  'Interned': 'Y',\r\n",
    "  'Hired': 'Y'},\r\n",
    " {'Years Experience': 7,\r\n",
    "  'Employed?': 'N',\r\n",
    "  'Previous employers': 6,\r\n",
    "  'Level of Education': 'BS',\r\n",
    "  'Top-tier school': 'N',\r\n",
    "  'Interned': 'N',\r\n",
    "  'Hired': 'N'},\r\n",
    " {'Years Experience': 2,\r\n",
    "  'Employed?': 'Y',\r\n",
    "  'Previous employers': 1,\r\n",
    "  'Level of Education': 'MS',\r\n",
    "  'Top-tier school': 'Y',\r\n",
    "  'Interned': 'N',\r\n",
    "  'Hired': 'Y'},\r\n",
    " {'Years Experience': 20,\r\n",
    "  'Employed?': 'N',\r\n",
    "  'Previous employers': 2,\r\n",
    "  'Level of Education': 'PhD',\r\n",
    "  'Top-tier school': 'Y',\r\n",
    "  'Interned': 'N',\r\n",
    "  'Hired': 'N'}]"
   ],
   "outputs": [],
   "metadata": {}
  },
  {
   "cell_type": "code",
   "execution_count": 8,
   "source": [
    "print(type(data1))\r\n",
    "pp(data1)"
   ],
   "outputs": [
    {
     "output_type": "stream",
     "name": "stdout",
     "text": [
      "<class 'list'>\n",
      "[{'Years Experience': 10,\n",
      "  'Employed?': 'Y',\n",
      "  'Previous employers': 4,\n",
      "  'Level of Education': 'BS',\n",
      "  'Top-tier school': 'N',\n",
      "  'Interned': 'N',\n",
      "  'Hired': 'Y'},\n",
      " {'Years Experience': 0,\n",
      "  'Employed?': 'N',\n",
      "  'Previous employers': 0,\n",
      "  'Level of Education': 'BS',\n",
      "  'Top-tier school': 'Y',\n",
      "  'Interned': 'Y',\n",
      "  'Hired': 'Y'},\n",
      " {'Years Experience': 7,\n",
      "  'Employed?': 'N',\n",
      "  'Previous employers': 6,\n",
      "  'Level of Education': 'BS',\n",
      "  'Top-tier school': 'N',\n",
      "  'Interned': 'N',\n",
      "  'Hired': 'N'},\n",
      " {'Years Experience': 2,\n",
      "  'Employed?': 'Y',\n",
      "  'Previous employers': 1,\n",
      "  'Level of Education': 'MS',\n",
      "  'Top-tier school': 'Y',\n",
      "  'Interned': 'N',\n",
      "  'Hired': 'Y'},\n",
      " {'Years Experience': 20,\n",
      "  'Employed?': 'N',\n",
      "  'Previous employers': 2,\n",
      "  'Level of Education': 'PhD',\n",
      "  'Top-tier school': 'Y',\n",
      "  'Interned': 'N',\n",
      "  'Hired': 'N'}]\n"
     ]
    }
   ],
   "metadata": {}
  },
  {
   "cell_type": "markdown",
   "source": [
    "## 2.1 สร้าง Function ชื่อว่า printRow (จะเปลี่ยนชื่อก็เชิญ) ให้ print ได้ออกมาตามข้างล่าง \n",
    "## **data1 เป็น list ของ dict**\n",
    "\n",
    "Hint: for loop w/ dict.items()<br/>\n",
    "\n",
    "--Row {i}--<br/>\n",
    "###########<br/>\n",
    "###########<br/>\n",
    "###########<br/>\n",
    "###DATA####<br/>\n",
    "###########<br/>\n",
    "###########<br/>\n",
    "###########<br/>\n",
    "--End of Row {i}--<br/>\n",
    "<br/>"
   ],
   "metadata": {}
  },
  {
   "cell_type": "code",
   "execution_count": null,
   "source": [
    "a, b = (1, 2)"
   ],
   "outputs": [],
   "metadata": {}
  },
  {
   "cell_type": "code",
   "execution_count": 195,
   "source": [
    "def printRow(data):\r\n",
    "    #Your code here\r\n",
    "    \r\n",
    "    return None"
   ],
   "outputs": [],
   "metadata": {}
  },
  {
   "cell_type": "code",
   "execution_count": 196,
   "source": [
    "printRow(data1)"
   ],
   "outputs": [
    {
     "output_type": "stream",
     "name": "stdout",
     "text": [
      "--Row 0--\n",
      "Years Experience 10\n",
      "Employed? Y\n",
      "Previous employers 4\n",
      "Level of Education BS\n",
      "Top-tier school N\n",
      "Interned N\n",
      "Hired Y\n",
      "--End of Row 0--\n",
      "\n",
      "--Row 1--\n",
      "Years Experience 0\n",
      "Employed? N\n",
      "Previous employers 0\n",
      "Level of Education BS\n",
      "Top-tier school Y\n",
      "Interned Y\n",
      "Hired Y\n",
      "--End of Row 1--\n",
      "\n",
      "--Row 2--\n",
      "Years Experience 7\n",
      "Employed? N\n",
      "Previous employers 6\n",
      "Level of Education BS\n",
      "Top-tier school N\n",
      "Interned N\n",
      "Hired N\n",
      "--End of Row 2--\n",
      "\n",
      "--Row 3--\n",
      "Years Experience 2\n",
      "Employed? Y\n",
      "Previous employers 1\n",
      "Level of Education MS\n",
      "Top-tier school Y\n",
      "Interned N\n",
      "Hired Y\n",
      "--End of Row 3--\n",
      "\n",
      "--Row 4--\n",
      "Years Experience 20\n",
      "Employed? N\n",
      "Previous employers 2\n",
      "Level of Education PhD\n",
      "Top-tier school Y\n",
      "Interned N\n",
      "Hired N\n",
      "--End of Row 4--\n",
      "\n"
     ]
    }
   ],
   "metadata": {}
  },
  {
   "cell_type": "markdown",
   "source": [
    "# 3 setdefault(), update(), pop()"
   ],
   "metadata": {}
  },
  {
   "cell_type": "code",
   "execution_count": 18,
   "source": [
    "cpe35 = [{\r\n",
    "    \"name\":\"golf\",\r\n",
    "    \"class\":\"slave\",\r\n",
    "    \"characteristics\":[\"horny\"],\r\n",
    "    \"age\":-69,\r\n",
    "    \"genderratio\":{\r\n",
    "        \"male\":0.8,\r\n",
    "        \"female\":0.08,\r\n",
    "        \"LGBTQ++\":0.12\r\n",
    "    }\r\n",
    "},\r\n",
    "         {\r\n",
    "    \"name\":\"aauauu\",\r\n",
    "    \"class\":\"king\",\r\n",
    "    \"characteristics\":[\"sleepy\"],\r\n",
    "    \"age\":99999,\r\n",
    "    \"genderratio\":{\r\n",
    "        \"LGBTQ++\":1\r\n",
    "    },\r\n",
    "    \"disease\":['ptsd','anxiety','ebola','stress']\r\n",
    "},\r\n",
    "         {\r\n",
    "    \"name\":\"ixq naa hee\",\r\n",
    "    \"class\":\"heero\",\r\n",
    "    \"characteristics\":['sleepy','horny','workhard'],\r\n",
    "    \"age\":0,\r\n",
    "    \"genderratio\":{\r\n",
    "        \"LGBTQ++\":1\r\n",
    "    },\r\n",
    "    \"disease\":[\"Chlamydia\",\"Genital herpes\",\"Gonorrhea\",\"HIV/AIDS\",\"HPV\",\"Pubic lice\",\"Syphilis\",\"Trichomoniasis\",'stress']\r\n",
    "\r\n",
    "         }]"
   ],
   "outputs": [],
   "metadata": {}
  },
  {
   "cell_type": "markdown",
   "source": [
    "## 3.1 Function printDisease ให้ปริ้นแบยด้านล่างออกมา\n",
    "\n",
    "หากมี Disease ให้ print {ชื่อ} have {list ของ disease}<br/>\n",
    "หากไม่มี Disease(ไม่มี key ชื่อว่า disease) ให้ print {ชื่อ} doesn't have any disease\n",
    "### ถ้าสังเกตดีดี golf จะไม่มี disease\n",
    "Hint: ตัวแปร cpe35 เป็น list ที่เก็บ dict ของแต่ละคนไว้ และลองศึกษา dict.get()"
   ],
   "metadata": {}
  },
  {
   "cell_type": "code",
   "execution_count": 31,
   "source": [
    "for row in cpe35:\r\n",
    "    if \"disease\" in row:\r\n",
    "        print(f\"{row['name']} have {row['disease']}\")\r\n",
    "    else: print(f\"{row['name']} doesn't have any disease\")"
   ],
   "outputs": [
    {
     "output_type": "stream",
     "name": "stdout",
     "text": [
      "golf doesn't have any disease\n",
      "aauauu have ['ptsd', 'anxiety', 'ebola', 'stress']\n",
      "ixq naa hee have ['Chlamydia', 'Genital herpes', 'Gonorrhea', 'HIV/AIDS', 'HPV', 'Pubic lice', 'Syphilis', 'Trichomoniasis', 'stress']\n"
     ]
    }
   ],
   "metadata": {}
  },
  {
   "cell_type": "code",
   "execution_count": 205,
   "source": [
    "printDisease(cpe35)"
   ],
   "outputs": [
    {
     "output_type": "stream",
     "name": "stdout",
     "text": [
      "golf doesn't have any disease\n",
      "aauauu have ['ptsd', 'anxiety', 'ebola', 'stress']\n",
      "ixq naa hee have ['Chlamydia', 'Genital herpes', 'Gonorrhea', 'HIV/AIDS', 'HPV', 'Pubic lice', 'Syphilis', 'Trichomoniasis', 'stress']\n"
     ]
    }
   ],
   "metadata": {}
  },
  {
   "cell_type": "markdown",
   "source": [
    "## 3.2 เพิ่ม ['stress'] ให้กับคนที่ยังไม่มี Disease อย่างเช่นคุณ golf\r\n",
    "\r\n",
    "Hint: ลองศึกษา dict.setdefault() หรือ หากต้องการใช้ if else ให้ลองศึกษา dict.get()"
   ],
   "metadata": {}
  },
  {
   "cell_type": "code",
   "execution_count": 34,
   "source": [
    "for row in cpe35:\r\n",
    "    row.setdefault(\"disease\",['stress'])"
   ],
   "outputs": [],
   "metadata": {}
  },
  {
   "cell_type": "code",
   "execution_count": 36,
   "source": [
    "for row in cpe35:\r\n",
    "    if \"disease\" in row:\r\n",
    "        print(f\"{row['name']} have {row['disease']}\")\r\n",
    "    else: print(f\"{row['name']} doesn't have any disease\")"
   ],
   "outputs": [
    {
     "output_type": "stream",
     "name": "stdout",
     "text": [
      "golf have ['stress']\n",
      "aauauu have ['ptsd', 'anxiety', 'ebola', 'stress']\n",
      "ixq naa hee have ['Chlamydia', 'Genital herpes', 'Gonorrhea', 'HIV/AIDS', 'HPV', 'Pubic lice', 'Syphilis', 'Trichomoniasis', 'stress']\n"
     ]
    }
   ],
   "metadata": {}
  },
  {
   "cell_type": "code",
   "execution_count": 48,
   "source": [
    "golfdata = {\r\n",
    "    \"name\":\"golf\",\r\n",
    "    \"class\":\"slave\",\r\n",
    "    \"characteristics\":\"horny\",\r\n",
    "    \"age\":\"-69\",\r\n",
    "    \"genderratio\":{\r\n",
    "        \"male\":0.8,\r\n",
    "        \"female\":0.08,\r\n",
    "        \"LGBTQ++\":0.12\r\n",
    "    }\r\n",
    "}"
   ],
   "outputs": [],
   "metadata": {}
  },
  {
   "cell_type": "markdown",
   "source": [
    "## 3.3 แก้ไข genderratio ของคุณ golf ใน  golfdata ให้เหลือแค่ \"male\":1 \r\n",
    "จะใช้ dict[key] = {...} ก็ได้ แต่ผมอยากให้ใช้ pop กับ update อ่ะ"
   ],
   "metadata": {}
  },
  {
   "cell_type": "code",
   "execution_count": 49,
   "source": [
    "male = {\"male\":1}"
   ],
   "outputs": [],
   "metadata": {}
  },
  {
   "cell_type": "code",
   "execution_count": 50,
   "source": [
    "#your code here\r\n",
    "golfdata.update({\"genderratio\":{\"male\":1}})"
   ],
   "outputs": [],
   "metadata": {}
  },
  {
   "cell_type": "code",
   "execution_count": 51,
   "source": [
    "golfdata"
   ],
   "outputs": [
    {
     "output_type": "execute_result",
     "data": {
      "text/plain": [
       "{'name': 'golf',\n",
       " 'class': 'slave',\n",
       " 'characteristics': 'horny',\n",
       " 'age': '-69',\n",
       " 'genderratio': {'male': 1}}"
      ]
     },
     "metadata": {},
     "execution_count": 51
    }
   ],
   "metadata": {}
  },
  {
   "cell_type": "markdown",
   "source": [
    "# 4 values()"
   ],
   "metadata": {}
  },
  {
   "cell_type": "code",
   "execution_count": 52,
   "source": [
    "data2 = {\r\n",
    " 'announce_date': {0: '12/1/2020',1: '17/1/2020',2: '22/1/2020',3: '22/1/2020',4: '24/1/2020',5: '25/1/2020',6: '26/1/2020',7: '26/1/2020',8: '28/1/2020',9: '28/1/2020'},\r\n",
    " 'sex': {0: 'หญิง',1: 'หญิง',2: 'หญิง',3: 'ชาย',4: 'หญิง',5: 'หญิง',6: 'หญิง',7: 'หญิง',8: 'ชาย',9: 'หญิง'},\r\n",
    " 'age': {0: 61.0,1: 74.0,2: 73.0,3: 68.0,4: 66.0,5: 33.0,6: 57.0,7: 73.0,8: 63.0,9: 28.0},\r\n",
    " 'nationality': {0: 'China',1: 'China',2: 'Thailand',3: 'China',4: 'China',5: 'China',6: 'China',7: 'China',8: 'China',9: 'China'},\r\n",
    " 'province_of_isolation': {0: 'กรุงเทพมหานคร',1: 'กรุงเทพมหานคร',2: 'นครปฐม',3: 'กรุงเทพมหานคร',4: 'นนทบุรี',5: 'กรุงเทพมหานคร',6: 'กรุงเทพมหานคร',7: 'ประจวบคีรีขันธ์',8: 'กรุงเทพมหานคร',9: 'นนทบุรี'}}\r\n"
   ],
   "outputs": [],
   "metadata": {}
  },
  {
   "cell_type": "code",
   "execution_count": 214,
   "source": [
    "# ลองเรียก dict.values() มาเล่นดู\r\n",
    "\r\n",
    "data2['sex'].values()"
   ],
   "outputs": [
    {
     "output_type": "execute_result",
     "data": {
      "text/plain": [
       "dict_values(['หญิง', 'หญิง', 'หญิง', 'ชาย', 'หญิง', 'หญิง', 'หญิง', 'หญิง', 'ชาย', 'หญิง'])"
      ]
     },
     "metadata": {},
     "execution_count": 214
    }
   ],
   "metadata": {}
  },
  {
   "cell_type": "markdown",
   "source": [
    "## 4.1 ให้หาว่าคนไทยคนแรกที่อยู่ในชุดข้อมูล data2 อยู่จังหวัดอะไร\r\n",
    "\r\n",
    "Hint: </br>\r\n",
    "สัญชาติ = data2['nationality']</br>\r\n",
    "จังหวัด = data2['province_of_isolation']"
   ],
   "metadata": {}
  },
  {
   "cell_type": "code",
   "execution_count": null,
   "source": [
    "{0: 'China',1: 'China',2: 'Thailand',3: 'China',4: 'China',5: 'China',6: 'China',7: 'China',8: 'China',9: 'China'}"
   ],
   "outputs": [],
   "metadata": {}
  },
  {
   "cell_type": "code",
   "execution_count": 150,
   "source": [
    "print(firstThaiProvince(data2))"
   ],
   "outputs": [
    {
     "output_type": "execute_result",
     "data": {
      "text/plain": [
       "'นครปฐม'"
      ]
     },
     "metadata": {},
     "execution_count": 150
    }
   ],
   "metadata": {}
  },
  {
   "cell_type": "markdown",
   "source": [
    "## 4.2 หาค่าเฉลี่ยนของอายุทุกคนใน data2 \r\n",
    "age -> data[age]"
   ],
   "metadata": {}
  },
  {
   "cell_type": "code",
   "execution_count": 62,
   "source": [
    "sum(data2['age'].values())/(len(data2['age']))"
   ],
   "outputs": [
    {
     "output_type": "execute_result",
     "data": {
      "text/plain": [
       "59.6"
      ]
     },
     "metadata": {},
     "execution_count": 62
    }
   ],
   "metadata": {}
  },
  {
   "cell_type": "code",
   "execution_count": 151,
   "source": [
    "print(avAge(data2))"
   ],
   "outputs": [
    {
     "output_type": "execute_result",
     "data": {
      "text/plain": [
       "59.6"
      ]
     },
     "metadata": {},
     "execution_count": 151
    }
   ],
   "metadata": {}
  },
  {
   "cell_type": "code",
   "execution_count": 69,
   "source": [
    "data2 = {\r\n",
    " 'announce_date': {0: '12/1/2020',1: '17/1/2020',2: '22/1/2020',3: '22/1/2020',4: '24/1/2020',5: '25/1/2020',6: '26/1/2020',7: '26/1/2020',8: '28/1/2020',9: '28/1/2020'},\r\n",
    " 'sex': {0: 'หญิง',1: 'หญิง',2: 'หญิง',3: 'ชาย',4: 'หญิง',5: 'หญิง',6: 'หญิง',7: 'หญิง',8: 'ชาย',9: 'หญิง'},\r\n",
    " 'age': {0: 61.0,1: 74.0,2: 73.0,3: 68.0,4: 66.0,5: 33.0,6: 57.0,7: 73.0,8: 63.0,9: 28.0},\r\n",
    " 'nationality': {0: 'China',1: 'China',2: 'Thailand',3: 'China',4: 'China',5: 'China',6: 'China',7: 'China',8: 'China',9: 'China'},\r\n",
    " 'province_of_isolation': {0: 'กรุงเทพมหานคร',1: 'กรุงเทพมหานคร',2: 'นครปฐม',3: 'กรุงเทพมหานคร',4: 'นนทบุรี',5: 'กรุงเทพมหานคร',6: 'กรุงเทพมหานคร',7: 'ประจวบคีรีขันธ์',8: 'กรุงเทพมหานคร',9: 'นนทบุรี'}}\r\n",
    "\r\n",
    "\r\n",
    "new_data2 = {\r\n",
    " 'announce_date': {10: '28/1/2020'},\r\n",
    " 'sex': {10: 'ชาย'},\r\n",
    " 'age': {10: 36.0},\r\n",
    " 'nationality': {10: 'Thailand'},\r\n",
    " 'province_of_isolation': {10: 'กรุงเทพมหานคร'}}"
   ],
   "outputs": [],
   "metadata": {}
  },
  {
   "cell_type": "markdown",
   "source": [
    "## 4.3 นำ new_data2 มาเติมใน data2"
   ],
   "metadata": {}
  },
  {
   "cell_type": "code",
   "execution_count": 71,
   "source": [
    "for i in new_data2:\r\n",
    "    data2[i].update(new_data2[i])"
   ],
   "outputs": [],
   "metadata": {}
  },
  {
   "cell_type": "markdown",
   "source": [
    "## 4.4 เปลี่ยนค่า ที่มี key = 8 ให้มี value ตามนี้\n",
    "\n",
    "### sex = หญิง</br>\n",
    "### nationality = Thailand"
   ],
   "metadata": {}
  },
  {
   "cell_type": "code",
   "execution_count": 215,
   "source": [
    "for column in data2:\r\n",
    "    print(data2[column][8])"
   ],
   "outputs": [
    {
     "output_type": "stream",
     "name": "stdout",
     "text": [
      "28/1/2020\n",
      "ชาย\n",
      "63.0\n",
      "China\n",
      "กรุงเทพมหานคร\n"
     ]
    }
   ],
   "metadata": {}
  },
  {
   "cell_type": "code",
   "execution_count": 74,
   "source": [
    "# your code here\r\n",
    "data2['sex'].update({8:\"หญิง\"})"
   ],
   "outputs": [],
   "metadata": {}
  },
  {
   "cell_type": "code",
   "execution_count": 75,
   "source": [
    "for column in data2:\r\n",
    "    print(data2[column][8])"
   ],
   "outputs": [
    {
     "output_type": "stream",
     "name": "stdout",
     "text": [
      "28/1/2020\n",
      "หญิง\n",
      "63.0\n",
      "China\n",
      "กรุงเทพมหานคร\n"
     ]
    }
   ],
   "metadata": {}
  },
  {
   "cell_type": "code",
   "execution_count": null,
   "source": [],
   "outputs": [],
   "metadata": {}
  }
 ],
 "metadata": {
  "orig_nbformat": 4,
  "language_info": {
   "name": "python",
   "version": "3.9.6",
   "mimetype": "text/x-python",
   "codemirror_mode": {
    "name": "ipython",
    "version": 3
   },
   "pygments_lexer": "ipython3",
   "nbconvert_exporter": "python",
   "file_extension": ".py"
  },
  "kernelspec": {
   "name": "python3",
   "display_name": "Python 3.9.6 64-bit ('py39': conda)"
  },
  "interpreter": {
   "hash": "d0f41737ecf488f5f05af2ad007a8e021a9d275c1cdf9d82f1cf7892228f0d8d"
  }
 },
 "nbformat": 4,
 "nbformat_minor": 2
}