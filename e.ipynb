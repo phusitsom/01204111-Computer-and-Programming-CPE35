{
 "cells": [
  {
   "cell_type": "code",
   "execution_count": 14,
   "source": [
    "# land=[]\r\n",
    "# while True:\r\n",
    "#     inp=[float(y) for y in input().split()]\r\n",
    "#     if inp == []: \r\n",
    "#         break\r\n",
    "#     land.append(inp)\r\n",
    "\r\n",
    "\r\n",
    "minval = float('inf')\r\n",
    "\r\n",
    "try:\r\n",
    "    for i in range(len(land)-1):\r\n",
    "        for j in range(len(land[i])-1):\r\n",
    "            \r\n",
    "            lsum = land[i+1][j+1]*1.1+land[i][j+1]*1.1\r\n",
    "            \r\n",
    "            \r\n",
    "            sum1=land[i][j] + land[i+1][j]*1.21 + lsum\r\n",
    "            \r\n",
    "            \r\n",
    "            sum2=land[i+1][j]+land[i][j]*1.21 + lsum\r\n",
    "            \r\n",
    "            minval=min(minval,min(sum1,sum2))\r\n",
    "            \r\n",
    "            \r\n",
    "    print(f'{minval:.2f}')\r\n",
    "except IndexError: print(\"Can't Buy\")"
   ],
   "outputs": [
    {
     "output_type": "stream",
     "name": "stdout",
     "text": [
      "119.30\n"
     ]
    }
   ],
   "metadata": {}
  },
  {
   "cell_type": "code",
   "execution_count": null,
   "source": [],
   "outputs": [],
   "metadata": {}
  }
 ],
 "metadata": {
  "orig_nbformat": 4,
  "language_info": {
   "name": "python",
   "version": "3.8.8",
   "mimetype": "text/x-python",
   "codemirror_mode": {
    "name": "ipython",
    "version": 3
   },
   "pygments_lexer": "ipython3",
   "nbconvert_exporter": "python",
   "file_extension": ".py"
  },
  "kernelspec": {
   "name": "python3",
   "display_name": "Python 3.8.8 64-bit ('base': conda)"
  },
  "interpreter": {
   "hash": "ec96062a59e989bbfb2126210b1fac6535bdc3fd4f91fb2704b13a96cc8b0bc0"
  }
 },
 "nbformat": 4,
 "nbformat_minor": 2
}